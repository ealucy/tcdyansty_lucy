{
 "cells": [
  {
   "cell_type": "markdown",
   "metadata": {},
   "source": [
    "### Name: Emily Lucy"
   ]
  },
  {
   "cell_type": "markdown",
   "metadata": {},
   "source": [
    "# Homework 2"
   ]
  },
  {
   "cell_type": "markdown",
   "metadata": {},
   "source": [
    "## 1. *Introduction*\n",
    "\n",
    "*This homework involves two questions centered around the use of the input function and conditionals. The first question deals with converting three separate types of values back and forth between two units. First, between farenheit and celsius, then between hectopascals and milimeters of mercury, and finally between meters per second and miles per hour. The second question dealt with the input of two variables, (temperature and relative humidity), and then plugging the values that are entered into the heat index equation, taken from the provided NOAA website.*"
   ]
  },
  {
   "cell_type": "markdown",
   "metadata": {},
   "source": [
    "## __Converting Between Degrees Farenheit And Degrees Celsius__ \n",
    "\n",
    "*Step 1: Run the cell*\n",
    "\n",
    "*Step 2: Write in the input box F if you want to convert from farenheit to celsius or C if you want to convert from celsius to farenheit*\n",
    "\n",
    "*Step 3: Hit the enter key*\n",
    "\n",
    "*Step 4: Write in the following input box your value*\n",
    "\n",
    "*Step 5: Hit enter* "
   ]
  },
  {
   "cell_type": "code",
   "execution_count": 1,
   "metadata": {},
   "outputs": [
    {
     "name": "stdout",
     "output_type": "stream",
     "text": [
      "Is your given value in celsius or farenheit? C\n",
      "Enter the numerical value: 0\n",
      "--------------------------------------------------------------------------------\n",
      "The temperature in farenheit equals 32.0 degrees\n",
      "--------------------------------------------------------------------------------\n"
     ]
    }
   ],
   "source": [
    "# going between farenheit and celsius\n",
    "# TC=(TF-32)/9*5\n",
    "# TF=(TC*5/9)+32\n",
    "\n",
    "\n",
    "s=(input(\"Is your given value in celsius or farenheit? \"))\n",
    "if s==\"F\":\n",
    "    s=input(\"Enter the numerical value: \")\n",
    "    value_in=float(s)\n",
    "    value_out=(value_in-32)/9*5\n",
    "    print(80*\"-\")\n",
    "    print(\"The temperature in celsius equals \"+str(value_out)+\" degrees\")\n",
    "    print(80*\"-\")\n",
    "elif s==\"C\":\n",
    "    s=input(\"Enter the numerical value: \")\n",
    "    value_in=float(s)\n",
    "    value_out=value_in*5/9+32\n",
    "    print(80*\"-\")\n",
    "    print(\"The temperature in farenheit equals \"+str(value_out)+\" degrees\")\n",
    "    print(80*\"-\")\n",
    "else:\n",
    "    print(\"Please run the cell again and choose either F or C as the first input \")"
   ]
  },
  {
   "cell_type": "markdown",
   "metadata": {},
   "source": [
    "## __Converting Between Hectopascals And Milimeters Of Mercury__ \n",
    "\n",
    "*Step 1: Run the cell*\n",
    "\n",
    "*Step 2: Write in the input box hPa if you want to convert from hectopascals to milimeters of mercury or mmHg if you want to convert from milimeters of mercury to hectopascals*\n",
    "\n",
    "*Step 3: Hit the enter key*\n",
    "\n",
    "*Step 4: Write in the following input box your value*\n",
    "\n",
    "*Step 5: Hit enter* "
   ]
  },
  {
   "cell_type": "code",
   "execution_count": 8,
   "metadata": {},
   "outputs": [
    {
     "name": "stdout",
     "output_type": "stream",
     "text": [
      "Is your given value in hPa or mmHg? hPa\n",
      "Enter the numerical value: 1000.4\n",
      "--------------------------------------------------------------------------------\n",
      "The pressure in mmHg equals 1333.8310978373909\n",
      "--------------------------------------------------------------------------------\n"
     ]
    }
   ],
   "source": [
    "# going between hectopascals and milimeters of mercury \n",
    "# 1hPa/.75002=mmHg\n",
    "# 1mmHg*.75002=hPa\n",
    "\n",
    "\n",
    "n=(input(\"Is your given value in hPa or mmHg? \"))\n",
    "if n==\"hPa\":\n",
    "    n=input(\"Enter the numerical value: \")\n",
    "    value_in=float(n)\n",
    "    value_out=(value_in/.75002)\n",
    "    print(80*\"-\")\n",
    "    print(\"The pressure in mmHg equals \"+str(value_out))\n",
    "    print(80*\"-\")\n",
    "elif n==\"mmHg\":\n",
    "    n=input(\"Enter the numerical value: \")\n",
    "    value_in=float(n)\n",
    "    value_out=value_in*.75002\n",
    "    print(80*\"-\")\n",
    "    print(\"The pressure in hPa equals \"+str(value_out))\n",
    "    print(80*\"-\")\n",
    "else:\n",
    "    print(\"Please run the cell again and choose either hPa or mmHg as the first input \")"
   ]
  },
  {
   "cell_type": "markdown",
   "metadata": {},
   "source": [
    "## __Converting Between Meters Per Second And Miles Per Hour__ \n",
    "\n",
    "*Step 1: Run the cell*\n",
    "\n",
    "*Step 2: Write in the input box m/s if you want to convert from meters per second to miles per hour or mph if you want to convert from miles per hour to meters per second*\n",
    "\n",
    "*Step 3: Hit the enter key*\n",
    "\n",
    "*Step 4: Write in the following input box your value*\n",
    "\n",
    "*Step 5: Hit enter* "
   ]
  },
  {
   "cell_type": "code",
   "execution_count": 9,
   "metadata": {},
   "outputs": [
    {
     "name": "stdout",
     "output_type": "stream",
     "text": [
      "Is your given value in m/s or mph? mph\n",
      "Enter the numerical value: 80\n",
      "--------------------------------------------------------------------------------\n",
      "The speed in m/s equals 35.71428571428571\n",
      "--------------------------------------------------------------------------------\n"
     ]
    }
   ],
   "source": [
    "# going between meters per second and miles per hour\n",
    "# 1m/s*2.24=mph\n",
    "# 1mph/2.24=m/s\n",
    "\n",
    "\n",
    "y=(input(\"Is your given value in m/s or mph? \"))\n",
    "if y==\"m/s\":\n",
    "    y=input(\"Enter the numerical value: \")\n",
    "    value_in=float(y)\n",
    "    value_out=(value_in*2.24)\n",
    "    print(80*\"-\")\n",
    "    print(\"The speed in mph equals \"+str(value_out))\n",
    "    print(80*\"-\")\n",
    "elif y==\"mph\":\n",
    "    y=input(\"Enter the numerical value: \")\n",
    "    value_in=float(y)\n",
    "    value_out=value_in/2.24\n",
    "    print(80*\"-\")\n",
    "    print(\"The speed in m/s equals \"+str(value_out))\n",
    "    print(80*\"-\")\n",
    "else:\n",
    "    print(\"Please run the cell again and choose either m/s or mph as the first input \" )"
   ]
  },
  {
   "cell_type": "markdown",
   "metadata": {},
   "source": [
    "## __Determining The Heat Index__ \n",
    "\n",
    "*Step 1: Run the cell*\n",
    "\n",
    "*Step 2: Enter the temperature in degrees farenheit*\n",
    "\n",
    "*Step 3: Hit enter*\n",
    "\n",
    "*Step 4: Enter the relative humidity percentage*\n",
    "\n",
    "*Step 5: Hit enter*\n"
   ]
  },
  {
   "cell_type": "code",
   "execution_count": null,
   "metadata": {},
   "outputs": [],
   "source": [
    "# determining the heat index using any temperature and relative humidity input\n",
    "\n",
    "\n",
    "T=int(input(\"what is the temperature? \"))\n",
    "RH=int(input(\"what is the relative humidity? \"))\n",
    "HI = -42.379 + 2.04901523*T + 10.14333127*RH -.22475541*T*RH - .00683783*T*T - .05481717*RH*RH +.00122874*T*T*RH + .00085282*T*RH*RH -.00000199*T*T*RH*RH\n",
    "print(HI, \"in degrees farenheit is the heat index \")    \n",
    "\n",
    "    \n"
   ]
  },
  {
   "cell_type": "markdown",
   "metadata": {},
   "source": [
    "## 5. Summary and Concluding remarks\n",
    "\n",
    "In this homework we worked with using the input function and conditional statements. We created code that allowed us to go back and forth between degrees celsius/degrees farenheit, hectopascals/milimeters of mercury, and meters per second/miles per hour. In the second question we figured out how to use two input cells for temperature and relative humidity that let us find the heat index in degrees farenheit, using an equation taken from the NOAA webpage. This allowed us to expand our use of Python to more complex code. "
   ]
  },
  {
   "cell_type": "markdown",
   "metadata": {},
   "source": [
    "### 6. References and links (IMPORTANT THAT YOU REFER TO THE SOURCES)\n",
    "\n",
    "*__NOAA Webpage:__* https://www.wpc.ncep.noaa.gov/html/heatindex_equation.shtml\n"
   ]
  }
 ],
 "metadata": {
  "kernelspec": {
   "display_name": "Python 3",
   "language": "python",
   "name": "python3"
  },
  "language_info": {
   "codemirror_mode": {
    "name": "ipython",
    "version": 3
   },
   "file_extension": ".py",
   "mimetype": "text/x-python",
   "name": "python",
   "nbconvert_exporter": "python",
   "pygments_lexer": "ipython3",
   "version": "3.8.6"
  }
 },
 "nbformat": 4,
 "nbformat_minor": 2
}
