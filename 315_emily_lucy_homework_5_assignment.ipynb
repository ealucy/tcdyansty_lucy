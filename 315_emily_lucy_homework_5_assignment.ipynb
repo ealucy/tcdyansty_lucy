{
 "cells": [
  {
   "cell_type": "markdown",
   "metadata": {},
   "source": [
    "## Your name: Emily Lucy"
   ]
  },
  {
   "cell_type": "markdown",
   "metadata": {},
   "source": [
    "# Homework \\#5: Effective coding methods with Numpy  \n",
    "\n",
    "\n",
    "\n"
   ]
  },
  {
   "cell_type": "markdown",
   "metadata": {},
   "source": [
    "### <font color=red> Introduction: This homework involved the use of the numpy package. We used broadcasting, array mathematics, and functions that inserted and replaced values within the arrays. We also used the matplotlib functions to involve a histogram, which expanded our ability to use multiple types of packages in one block of code. "
   ]
  },
  {
   "cell_type": "markdown",
   "metadata": {},
   "source": [
    "We use in this notebook daily temperature data from Albany Airport (1950-2018). The file is in CSV format and can be loaded with the numpy function _np.loadtext()_. \n",
    "It contains temperature data from Albany Airport: daily average, minimum, and maximum temperature data from 1950 to 2018. The data are stored in a 2-dimensional numpy array. \n",
    "The file is located in a public folder. "
   ]
  },
  {
   "cell_type": "code",
   "execution_count": 1,
   "metadata": {},
   "outputs": [],
   "source": [
    "# insert code to import the required packages numpy and pyplot and assign the names np and plt to the packages.\n",
    "\n",
    "import numpy as np\n",
    "import matplotlib.pyplot as plt\n",
    "local_path='/home11/staff/timm/Public/Data/'\n",
    "filename=local_path+'USW00014735_temp_1950-2018_daily.csv'\n",
    "\n",
    "dataset=np.loadtxt(filename,delimiter=',',skiprows=1)\n",
    "\n",
    "year  = dataset[:,1] # extract the column 2 (Python index 1) \n",
    "month = dataset[:,2] \n",
    "day   = dataset[:,3]\n",
    "avgt  = dataset[:,4]\n",
    "mint  = dataset[:,5] \n",
    "maxt  = dataset[:,6]\n"
   ]
  },
  {
   "cell_type": "markdown",
   "metadata": {},
   "source": [
    "Should you have trouble opening the file and get an error in the code cell above, you can download the data file 'USW00014735_temp_1950-2018_daily.csv' from our Github repository (in folder 'data'). Upload the file to your Jupyter hub and place it into your preferred data folder ('data'). Then, you have to adjust the variable local_path accordingly ('../data/'). "
   ]
  },
  {
   "cell_type": "markdown",
   "metadata": {},
   "source": [
    "## Task 1: Explain what the term _broadcasting_ means in the context of numpy array mathematics? (10pts)\n",
    "(In your explanation refer to the code example below, and explain the result. Do not use the examples from the PDF document!) "
   ]
  },
  {
   "cell_type": "code",
   "execution_count": 2,
   "metadata": {},
   "outputs": [
    {
     "name": "stdout",
     "output_type": "stream",
     "text": [
      "[[ 0  0  0  0  0  0]\n",
      " [ 6  6  6  6  6  6]\n",
      " [12 12 12 12 12 12]]\n"
     ]
    }
   ],
   "source": [
    "a2=np.array([ [1,2,3,4,5,6],[7,8,9,10,11,12],[13,14,15,16,17,18] ],int)\n",
    "\n",
    "b=np.array([-1,-2,-3,-4,-5,-6],int)\n",
    "\n",
    "c2=a2+b\n",
    "print(c2)"
   ]
  },
  {
   "cell_type": "markdown",
   "metadata": {},
   "source": []
  },
  {
   "cell_type": "markdown",
   "metadata": {},
   "source": [
    "In numpy array mathematics, broadcasting refers to repeating the same calculation enough times to match the two arrays. The smaller array is used multiple times to match the shape of the larger array. In this case, where we add two arrays, the second array, of 1 dimension, as broadcasted onto the first array, in 3 dimensions. This works since there are 6 columns in each row of each array, so the row of b is added to every row in a2.  "
   ]
  },
  {
   "cell_type": "markdown",
   "metadata": {},
   "source": [
    "## Task 2: Apply the function np.where() to replace all missing values -9999.9 with np.NAN values in array a3. Assign the resulting array to a new variable and print or plot the array. (10pts)  "
   ]
  },
  {
   "cell_type": "code",
   "execution_count": 3,
   "metadata": {},
   "outputs": [],
   "source": [
    "# example for np.where function use\n",
    "# x=np.array([1,2,3,4,5,6,7,8,9, 100, 1000, 10000])\n",
    "# np.where(x<100,x,100)\n"
   ]
  },
  {
   "cell_type": "code",
   "execution_count": 4,
   "metadata": {},
   "outputs": [
    {
     "name": "stdout",
     "output_type": "stream",
     "text": [
      "[[    1     2     3     4     5     6     7     8     9    10]\n",
      " [   11    12    13    14    15    16    17    18    19    20]\n",
      " [   21    22    23    24    25    26    27    28    29    30]\n",
      " [   31    32    33    34    35 -9999 -9999 -9999 -9999 -9999]\n",
      " [   41    42    43    44    45    46    47    48    49    50]\n",
      " [   51    52    53 -9999 -9999    56    57    58    59    60]]\n",
      "[[ 1.  2.  3.  4.  5.  6.  7.  8.  9. 10.]\n",
      " [11. 12. 13. 14. 15. 16. 17. 18. 19. 20.]\n",
      " [21. 22. 23. 24. 25. 26. 27. 28. 29. 30.]\n",
      " [31. 32. 33. 34. 35. nan nan nan nan nan]\n",
      " [41. 42. 43. 44. 45. 46. 47. 48. 49. 50.]\n",
      " [51. 52. 53. nan nan 56. 57. 58. 59. 60.]]\n"
     ]
    }
   ],
   "source": [
    "a3= np.arange(1,61,1)\n",
    "a3[35:40]=-9999.9 # insert dummy values\n",
    "a3[53:55]=-9999.9\n",
    "a3= np.reshape(a3,newshape=[6,10]) # 2-dim array with 6 rows and 10 columns\n",
    "a3[30:40]=-9999.9 # insert dummy values\n",
    "print(a3)\n",
    "\n",
    "x=np.array(a3) # setting x to the array\n",
    "np.where(x<-9998,np.nan,x) # inserting the nan value for everything less than -9998\n",
    "a3_new=np.where(x<-9998,np.nan,x) # setting to a new variable\n",
    "print(a3_new) # printing the new array\n"
   ]
  },
  {
   "cell_type": "markdown",
   "metadata": {},
   "source": [
    "## Task 3: Test if a dummy value -9999 is present in the array _avgt_ ! (10pts)\n",
    "If a value -9999 is in the array _avgt_ then print a warning message that says\n",
    "_\"Check your data before proceeding with the data analysis.\"_, \n",
    "\n",
    "else print a message that says: \n",
    "\n",
    "_\"You are good to go on with your data analysis.\"_\n",
    "\n",
    "Find a solution without _for_ or _while_ loop!\n",
    "(Tip you should be able to find some example in section \"Arrays\" the reading \"Introduction to numpy\".)\n",
    "\n",
    "We look for a solution with 4 to 6 lines of code!\n"
   ]
  },
  {
   "cell_type": "markdown",
   "metadata": {},
   "source": []
  },
  {
   "cell_type": "code",
   "execution_count": 5,
   "metadata": {},
   "outputs": [
    {
     "name": "stdout",
     "output_type": "stream",
     "text": [
      "You are good to go on with your data analysis.\n"
     ]
    }
   ],
   "source": [
    "-9999 in avgt # checks whether there is -9999 in the array avgt\n",
    "if -9999 in avgt: # if block seeing whether this is true or false\n",
    "    print(\"Check your data before proceeding with the data analysis.\") # prints the message\n",
    "else: # else\n",
    "    print(\"You are good to go on with your data analysis.\") # prints the message"
   ]
  },
  {
   "cell_type": "markdown",
   "metadata": {},
   "source": [
    "## Task 4: Print the minimum temperature in the array _mint_ and the maximum temperature of array _maxt_.  (10pts)\n",
    "\n",
    "Make use of numpy functions _np.min()_ and _np.max()_!\n"
   ]
  },
  {
   "cell_type": "code",
   "execution_count": 6,
   "metadata": {},
   "outputs": [
    {
     "name": "stdout",
     "output_type": "stream",
     "text": [
      "-28.0\n",
      "100.0\n"
     ]
    }
   ],
   "source": [
    "print(np.min(mint)) # checks for minimum and prints the value\n",
    "print(np.max(maxt)) # checks for maximum and prints the value"
   ]
  },
  {
   "cell_type": "markdown",
   "metadata": {},
   "source": [
    "## Task 5: Find the index position where the minimum temperature is located in the array mint. Then find the corresponding year, month and day values and print the date of the day when the minimum was recorded. Do the same for the maximum temperature. (10pts)\n",
    "\n",
    "Make use of the numpy function _np.argmin()_ and _np.argmax()_, respectively.\n",
    "\n",
    "[see also here for an example](https://www.w3resource.com/python-exercises/numpy/python-numpy-exercise-27.php)\n",
    "(last checked the link on 03/11/2021)\n",
    "\n"
   ]
  },
  {
   "cell_type": "code",
   "execution_count": 7,
   "metadata": {},
   "outputs": [
    {
     "name": "stdout",
     "output_type": "stream",
     "text": [
      "7688\n",
      "1971.0\n",
      "1.0\n",
      "19.0\n",
      "----------------------------------------\n",
      "23209\n",
      "2013.0\n",
      "7.0\n",
      "18.0\n"
     ]
    }
   ],
   "source": [
    "print(np.argmin(mint)) # finds the index of the minimum temperature\n",
    "print(year[7688]) # matches that index in the array year\n",
    "print(month[7688]) # matches that index in the array month\n",
    "print(day[7688]) # matches that index in the array day\n",
    "print(40*\"-\")\n",
    "print(np.argmax(mint)) # finds the index of the maximum temperature\n",
    "print(year[23209]) # matches that index in the array year\n",
    "print(month[23209]) # matches that index in the array month\n",
    "print(day[23209]) # matches that index in the array day"
   ]
  },
  {
   "cell_type": "markdown",
   "metadata": {},
   "source": [
    "## Task 6: Apply the technique explained in section \"Comparison operators and value testing\" (10pts)\n",
    "\n",
    "### Create an array with True and False values: True where the values in array _month_ are of value equal to 2 (February) , and where the values in array _day_ are equal to 18. Apply the function *np.logical_and()*!\n",
    "\n"
   ]
  },
  {
   "cell_type": "code",
   "execution_count": 8,
   "metadata": {},
   "outputs": [
    {
     "name": "stdout",
     "output_type": "stream",
     "text": [
      "[False False False ... False False False]\n"
     ]
    }
   ],
   "source": [
    "f=np.logical_and(month==2,day==18) # creating an array that tests whether an arguement is of value equal to 2 in the month and 18 in the day\n",
    "print(f) # prints the array"
   ]
  },
  {
   "cell_type": "markdown",
   "metadata": {},
   "source": [
    "## Task7: Apply the function _np.logical_and()_ with the proper Boolean expressions to select from array _avgt_ only those values that belong to the year range 1981-2010! \n",
    "\n",
    "### Assign the result from *np.logical_and()* to a variable so that you can use the returned True/False values for subsampling the temperature data corresponding to the selected year range. Assign the resulting array to a variable. (Tip: apply the True-False array to the array variable _year_ to validate that you choose the correct year range.)\n",
    "\n",
    "## (10pts)\n",
    "\n",
    "(do not use for or while loops, and do not use if-else statements to solve the problem!)"
   ]
  },
  {
   "cell_type": "code",
   "execution_count": 9,
   "metadata": {},
   "outputs": [
    {
     "name": "stdout",
     "output_type": "stream",
     "text": [
      "[False False False ... False False False]\n",
      "[11.  14.   1.5 ... 31.5 24.5 35. ]\n"
     ]
    },
    {
     "data": {
      "text/plain": [
       "10957"
      ]
     },
     "execution_count": 9,
     "metadata": {},
     "output_type": "execute_result"
    }
   ],
   "source": [
    "k=np.logical_and(year>1980,year<2011) # choosing values in the correct year range\n",
    "print(k)\n",
    "True in k\n",
    "k.size\n",
    "g=avgt[k] # setting a variable to the average temperature in the above defined k range\n",
    "print(g)\n",
    "g.size\n",
    "\n"
   ]
  },
  {
   "cell_type": "markdown",
   "metadata": {},
   "source": [
    "## Task 8: Make a histogram plot with 30 bins for the selected daily mean temperatures using all data of the years 1981-2010. Then repeat this and add a histogram into the same plot for the daily mean temperatures of the years 1961-1990. (10pts)\n",
    "\n",
    "### Students who have trouble with the coding to get the subsampled data ranges, please contact TAs or instructor for getting a code solution. (-5pts). Then you can still make plots and answer question 9!) \n",
    "\n",
    "Find a way to optimize the plot (color, transparency etc.) so we can see both distributions and compare them.\n",
    "\n",
    "[Here you find helpful examples how to make histogram plots](https://www.kite.com/python/answers/how-to-set-the-bin-size-of-a-matplotlib-histogram-in-python) (last checked the link on 03/11/2021)"
   ]
  },
  {
   "cell_type": "code",
   "execution_count": 10,
   "metadata": {},
   "outputs": [
    {
     "name": "stdout",
     "output_type": "stream",
     "text": [
      "[False False False ... False False False]\n",
      "[25.5 17.5 18.5 ... 35.5 43.  28.5]\n"
     ]
    },
    {
     "data": {
      "text/plain": [
       "<matplotlib.legend.Legend at 0x7f763c820fd0>"
      ]
     },
     "execution_count": 10,
     "metadata": {},
     "output_type": "execute_result"
    },
    {
     "data": {
      "image/png": "[encoded data removed]",
      "text/plain": [
       "<Figure size 432x288 with 1 Axes>"
      ]
     },
     "metadata": {
      "needs_background": "light"
     },
     "output_type": "display_data"
    }
   ],
   "source": [
    "l=np.logical_and(year>1960,year<1991) # choosing values in the correct year range\n",
    "print(l)\n",
    "True in l\n",
    "l.size\n",
    "s=avgt[l] # setting a variable to the average temperature in the above defined l range\n",
    "print(s)\n",
    "s.size\n",
    "\n",
    "\n",
    "plt.hist(g,30,color=\"rebeccapurple\",label=\"1981-2010\") # histogram plot\n",
    "plt.title(\"Number of Days Where the Average Temperature is a Given Value for 2 Year Ranges\")\n",
    "plt.xlabel('Average Temperature')\n",
    "plt.ylabel('Days')\n",
    "plt.legend()\n",
    "\n",
    "plt.hist(s,30,color=\"red\",label=\"1961-1990\")\n",
    "plt.legend()\n",
    "\n",
    "\n",
    "\n"
   ]
  },
  {
   "cell_type": "markdown",
   "metadata": {},
   "source": [
    "##  Task 9: Compare the distribution of the temperatures that you see in the histogram plots and discuss the results. Are the distributions the same or different in the two 30-year periods? (10pts)"
   ]
  },
  {
   "cell_type": "markdown",
   "metadata": {},
   "source": []
  },
  {
   "cell_type": "markdown",
   "metadata": {},
   "source": [
    "<font color=red> The distrubution for the years 1981-2010 show higher average temperatures than the distributions for 1961-1990. The distributions only differ by a small amount on the graph, but this is consistent with the gradual increase in global average temperature during the past decades."
   ]
  },
  {
   "cell_type": "markdown",
   "metadata": {},
   "source": [
    "## Task 10: Count the number of days with average temperatures below freezing (less than 32F) during the years 1961-1990 and compare it with the number that you obtain for the years 1981-2010. (10pts)\n",
    "\n",
    "### Students who have trouble with the coding to get the subsampled data ranges, please contact TAs or instructor for getting a code solution. (-5pts). Then you can still earn points for answering the question.\n",
    "\n",
    "Tip create new arrays with values 0 and 1. For that purpose use function np.where(). Find out where in array named _avgt_ are the values less than 32.0. Then apply np.sum().\n"
   ]
  },
  {
   "cell_type": "code",
   "execution_count": 11,
   "metadata": {},
   "outputs": [
    {
     "name": "stdout",
     "output_type": "stream",
     "text": [
      "[1 1 1 ... 1 1 0]\n",
      "2369\n",
      "[1 1 1 ... 0 0 1]\n",
      "2579\n"
     ]
    }
   ],
   "source": [
    "start0=np.where(g<32,1,0) # replacing every value less than 32 with 1 and every value greater than 32 with 0\n",
    "print(start0)\n",
    "print(np.sum(start0)) # summing the values\n",
    "\n",
    "\n",
    "start1=np.where(s<32,1,0) # replacing every value less than 32 with 1 and every value greater than 32 with 0\n",
    "print(start1)\n",
    "print(np.sum(start1)) # summing the values"
   ]
  },
  {
   "cell_type": "markdown",
   "metadata": {},
   "source": [
    "---\n",
    "### <font color=red> Feedback to Instructors: This took me 3.5 hours to finish. I think we needed to have gone more in depth with numpy in class because many of the problems I ran into were due to the fact that I didn't have practice working with the functions, even though I've read about them and watched the TA videos. It was a very good homework to learn with, but I think it would've been beneficial to work with things lile this in class. "
   ]
  },
  {
   "cell_type": "markdown",
   "metadata": {},
   "source": [
    "### <font color=red> Conclusion: Through this homework we learned to use different numpy functions and involve matplotlib as well. It allowed us to combine multiple packages in one block of code. This was a beneficial homework for learning how to use numpy functions. "
   ]
  }
 ],
 "metadata": {
  "kernelspec": {
   "display_name": "Python 3 (ipykernel)",
   "language": "python",
   "name": "python3"
  },
  "language_info": {
   "codemirror_mode": {
    "name": "ipython",
    "version": 3
   },
   "file_extension": ".py",
   "mimetype": "text/x-python",
   "name": "python",
   "nbconvert_exporter": "python",
   "pygments_lexer": "ipython3",
   "version": "3.8.10"
  }
 },
 "nbformat": 4,
 "nbformat_minor": 2
}
