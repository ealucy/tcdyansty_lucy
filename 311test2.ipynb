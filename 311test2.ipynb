{
 "cells": [
  {
   "cell_type": "code",
   "execution_count": 1,
   "id": "f5094a6a-7861-4df8-8659-4432e0b67d5b",
   "metadata": {},
   "outputs": [
    {
     "data": {
      "text/plain": [
       "Index(['KALB   GFS MOS GUIDANCE    9/10/2021  1200 UTC'], dtype='object')"
      ]
     },
     "execution_count": 1,
     "metadata": {},
     "output_type": "execute_result"
    }
   ],
   "source": [
    "import pandas as pd\n",
    "\n",
    "\n",
    "file_name='gfs.txt'\n",
    "\n",
    "data=pd.read_csv(file_name)\n",
    "\n",
    "data.columns\n",
    "\n",
    "#column names arent real"
   ]
  },
  {
   "cell_type": "code",
   "execution_count": 2,
   "id": "600fe5b8-a482-4a05-ac88-42dd0e609585",
   "metadata": {},
   "outputs": [
    {
     "data": {
      "text/html": [
       "<div>\n",
       "<style scoped>\n",
       "    .dataframe tbody tr th:only-of-type {\n",
       "        vertical-align: middle;\n",
       "    }\n",
       "\n",
       "    .dataframe tbody tr th {\n",
       "        vertical-align: top;\n",
       "    }\n",
       "\n",
       "    .dataframe thead th {\n",
       "        text-align: right;\n",
       "    }\n",
       "</style>\n",
       "<table border=\"1\" class=\"dataframe\">\n",
       "  <thead>\n",
       "    <tr style=\"text-align: right;\">\n",
       "      <th></th>\n",
       "      <th>KALB   GFS MOS GUIDANCE    9/10/2021  1200 UTC</th>\n",
       "    </tr>\n",
       "  </thead>\n",
       "  <tbody>\n",
       "  </tbody>\n",
       "</table>\n",
       "</div>"
      ],
      "text/plain": [
       "Empty DataFrame\n",
       "Columns: [KALB   GFS MOS GUIDANCE    9/10/2021  1200 UTC]\n",
       "Index: []"
      ]
     },
     "execution_count": 2,
     "metadata": {},
     "output_type": "execute_result"
    }
   ],
   "source": [
    "#data.rows doesnt exist\n",
    "\n",
    "data.loc['CLD':'WDR']"
   ]
  },
  {
   "cell_type": "code",
   "execution_count": 3,
   "id": "a05aec95-0718-413b-9d01-d58ab3cac2fe",
   "metadata": {},
   "outputs": [
    {
     "data": {
      "text/html": [
       "<div>\n",
       "<style scoped>\n",
       "    .dataframe tbody tr th:only-of-type {\n",
       "        vertical-align: middle;\n",
       "    }\n",
       "\n",
       "    .dataframe tbody tr th {\n",
       "        vertical-align: top;\n",
       "    }\n",
       "\n",
       "    .dataframe thead th {\n",
       "        text-align: right;\n",
       "    }\n",
       "</style>\n",
       "<table border=\"1\" class=\"dataframe\">\n",
       "  <thead>\n",
       "    <tr style=\"text-align: right;\">\n",
       "      <th></th>\n",
       "      <th>KALB   GFS MOS GUIDANCE    9/10/2021  1200 UTC</th>\n",
       "    </tr>\n",
       "  </thead>\n",
       "  <tbody>\n",
       "    <tr>\n",
       "      <th>1</th>\n",
       "      <td>HR   18 21 00 03 06 09 12 15 18 21 00 03 06 09...</td>\n",
       "    </tr>\n",
       "    <tr>\n",
       "      <th>2</th>\n",
       "      <td>N/X                    51          76         ...</td>\n",
       "    </tr>\n",
       "  </tbody>\n",
       "</table>\n",
       "</div>"
      ],
      "text/plain": [
       "      KALB   GFS MOS GUIDANCE    9/10/2021  1200 UTC\n",
       "1  HR   18 21 00 03 06 09 12 15 18 21 00 03 06 09...\n",
       "2  N/X                    51          76         ..."
      ]
     },
     "execution_count": 3,
     "metadata": {},
     "output_type": "execute_result"
    }
   ],
   "source": [
    "data.loc[1:2]"
   ]
  },
  {
   "cell_type": "code",
   "execution_count": 4,
   "id": "f6e85949-7d3c-4501-bb3e-19814961c894",
   "metadata": {},
   "outputs": [
    {
     "data": {
      "text/html": [
       "<div>\n",
       "<style scoped>\n",
       "    .dataframe tbody tr th:only-of-type {\n",
       "        vertical-align: middle;\n",
       "    }\n",
       "\n",
       "    .dataframe tbody tr th {\n",
       "        vertical-align: top;\n",
       "    }\n",
       "\n",
       "    .dataframe thead th {\n",
       "        text-align: right;\n",
       "    }\n",
       "</style>\n",
       "<table border=\"1\" class=\"dataframe\">\n",
       "  <thead>\n",
       "    <tr style=\"text-align: right;\">\n",
       "      <th></th>\n",
       "      <th>KALB   GFS MOS GUIDANCE    9/10/2021  1200 UTC</th>\n",
       "    </tr>\n",
       "  </thead>\n",
       "  <tbody>\n",
       "    <tr>\n",
       "      <th>2</th>\n",
       "      <td>N/X                    51          76         ...</td>\n",
       "    </tr>\n",
       "    <tr>\n",
       "      <th>3</th>\n",
       "      <td>TMP  69 69 62 58 56 53 57 67 73 74 68 64 63 61...</td>\n",
       "    </tr>\n",
       "  </tbody>\n",
       "</table>\n",
       "</div>"
      ],
      "text/plain": [
       "      KALB   GFS MOS GUIDANCE    9/10/2021  1200 UTC\n",
       "2  N/X                    51          76         ...\n",
       "3  TMP  69 69 62 58 56 53 57 67 73 74 68 64 63 61..."
      ]
     },
     "execution_count": 4,
     "metadata": {},
     "output_type": "execute_result"
    }
   ],
   "source": [
    "data.loc[2:3]"
   ]
  },
  {
   "cell_type": "code",
   "execution_count": 5,
   "id": "0ab37f61-d698-40ab-9f34-35171bcc1030",
   "metadata": {},
   "outputs": [
    {
     "data": {
      "text/plain": [
       "KALB   GFS MOS GUIDANCE    9/10/2021  1200 UTC    N/X                    51          76         ...\n",
       "Name: 2, dtype: object"
      ]
     },
     "execution_count": 5,
     "metadata": {},
     "output_type": "execute_result"
    }
   ],
   "source": [
    "data.loc[2]\n",
    "#objects and includes the column names"
   ]
  },
  {
   "cell_type": "code",
   "execution_count": 6,
   "id": "8f85eed0-b0a5-4811-a79b-80c5a55f7825",
   "metadata": {},
   "outputs": [],
   "source": [
    "import numpy as np\n",
    "x=np.array(data.loc[2])"
   ]
  },
  {
   "cell_type": "code",
   "execution_count": 7,
   "id": "90157f19-cb80-4f5c-b373-0b8196505874",
   "metadata": {},
   "outputs": [
    {
     "name": "stdout",
     "output_type": "stream",
     "text": [
      "['N/X                    51          76          60          80    67']\n",
      "[]\n"
     ]
    }
   ],
   "source": [
    "print(x)\n",
    "print(x[1:5])\n",
    "#can't slice object array"
   ]
  },
  {
   "cell_type": "code",
   "execution_count": 8,
   "id": "d0f8765b-a032-4bcc-89e4-7a60ea59d1cd",
   "metadata": {},
   "outputs": [
    {
     "data": {
      "text/plain": [
       "array(['P12                     1           1           5          19    49'],\n",
       "      dtype=object)"
      ]
     },
     "execution_count": 8,
     "metadata": {},
     "output_type": "execute_result"
    }
   ],
   "source": [
    "y=np.array(data.loc[9])\n",
    "y"
   ]
  },
  {
   "cell_type": "code",
   "execution_count": 9,
   "id": "f44a452b-556a-4edc-b502-5473daf71d04",
   "metadata": {},
   "outputs": [
    {
     "name": "stdout",
     "output_type": "stream",
     "text": [
      "[array(['N/X                    51          76          60          80    67'],\n",
      "      dtype=object), array(['P12                     1           1           5          19    49'],\n",
      "      dtype=object)]\n"
     ]
    }
   ],
   "source": [
    "#stupid object\n",
    "list=[]\n",
    "list.append(x)\n",
    "list.append(y)\n",
    "print(list)"
   ]
  },
  {
   "cell_type": "code",
   "execution_count": null,
   "id": "5964c857-35a2-4fb7-9694-fe8cc25b5d26",
   "metadata": {},
   "outputs": [],
   "source": []
  }
 ],
 "metadata": {
  "kernelspec": {
   "display_name": "Python 3 August 2021 Environment",
   "language": "python",
   "name": "aug21"
  },
  "language_info": {
   "codemirror_mode": {
    "name": "ipython",
    "version": 3
   },
   "file_extension": ".py",
   "mimetype": "text/x-python",
   "name": "python",
   "nbconvert_exporter": "python",
   "pygments_lexer": "ipython3",
   "version": "3.8.10"
  }
 },
 "nbformat": 4,
 "nbformat_minor": 5
}
