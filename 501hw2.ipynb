{
 "cells": [
  {
   "cell_type": "markdown",
   "id": "ea872985-c321-44f8-9c4f-ed183721fcdb",
   "metadata": {},
   "source": [
    "# Imports"
   ]
  },
  {
   "cell_type": "code",
   "execution_count": 1,
   "id": "2bdb7fbd-f689-40c2-888a-1c1aaaf1364f",
   "metadata": {},
   "outputs": [],
   "source": [
    "import numpy as np\n",
    "from metpy.units import units"
   ]
  },
  {
   "cell_type": "markdown",
   "id": "e9a01c49-7843-413c-ac2a-898169edaaaf",
   "metadata": {},
   "source": [
    "# Define variables"
   ]
  },
  {
   "cell_type": "code",
   "execution_count": 2,
   "id": "1db0775e-35af-4cee-84cb-ca3afc2e254e",
   "metadata": {},
   "outputs": [],
   "source": [
    "z = [80,70,60,50,40,30,20,10,0] # z column\n",
    "g = 9.81 * units('m/s^2') # gravity\n",
    "th = [305,305,301,300,298,294,292,292,293] # thetav column\n",
    "th = np.array(th) \n",
    "thbar = np.mean(th) * units('K') # compute mean of thetav across all levels\n",
    "u = [18,17,15,14,10,8,7,7,2] # u column\n",
    "u = np.array(u)"
   ]
  },
  {
   "cell_type": "markdown",
   "id": "3d03531a-a941-432d-9698-8e1b34e62e96",
   "metadata": {},
   "source": [
    "# Considering the following Ri definition\n",
    "# $$Ri = \\frac{g}{\\overline{\\Theta}} \\frac{\\partial \\overline{\\Theta} / \\partial z}{(\\partial \\overline{u} / \\partial z)^2}$$"
   ]
  },
  {
   "cell_type": "code",
   "execution_count": 3,
   "id": "72a79b45-be26-47ed-9818-63831735995b",
   "metadata": {},
   "outputs": [],
   "source": [
    "dz = -1*np.diff(z) * units('m') # find delta z\n",
    "du = -1*np.diff(u) * units('m/s') # find delta u\n",
    "dth = -1*np.diff(th) * units('K') # find delta thetav"
   ]
  },
  {
   "cell_type": "code",
   "execution_count": 7,
   "id": "fa0d631e-a71e-4d60-a79a-76e580b8fd9e",
   "metadata": {},
   "outputs": [],
   "source": [
    "Ri = (g/thbar * (dth/dz)) / ((du/dz)**2) # use the Ri definition"
   ]
  },
  {
   "cell_type": "code",
   "execution_count": 8,
   "id": "29166034-8c4b-4221-a625-1cef2e18092b",
   "metadata": {},
   "outputs": [
    {
     "data": {
      "text/html": [
       "<table><tbody><tr><th>Magnitude</th><td style='text-align:left;'><pre>[0.0 0.3294402985074627 0.3294402985074627 0.04118003731343284 0.3294402985074627 0.6588805970149254 nan -0.01317761194029851]</pre></td></tr><tr><th>Units</th><td style='text-align:left;'>dimensionless</td></tr></tbody></table>"
      ],
      "text/latex": [
       "$\\begin{pmatrix} &  &  &  &  &  &  & \\end{pmatrix}\\ \\mathrm{dimensionless}$"
      ],
      "text/plain": [
       "<Quantity([ 0.          0.3294403   0.3294403   0.04118004  0.3294403   0.6588806\n",
       "         nan -0.01317761], 'dimensionless')>"
      ]
     },
     "execution_count": 8,
     "metadata": {},
     "output_type": "execute_result"
    }
   ],
   "source": [
    "Ri"
   ]
  },
  {
   "cell_type": "code",
   "execution_count": null,
   "id": "2edc0603-0e2b-4de9-aec1-15e3e26aa58e",
   "metadata": {},
   "outputs": [],
   "source": []
  }
 ],
 "metadata": {
  "kernelspec": {
   "display_name": "Python 3 Jan. 2025 Environment",
   "language": "python",
   "name": "jan25"
  },
  "language_info": {
   "codemirror_mode": {
    "name": "ipython",
    "version": 3
   },
   "file_extension": ".py",
   "mimetype": "text/x-python",
   "name": "python",
   "nbconvert_exporter": "python",
   "pygments_lexer": "ipython3",
   "version": "3.12.8"
  }
 },
 "nbformat": 4,
 "nbformat_minor": 5
}
