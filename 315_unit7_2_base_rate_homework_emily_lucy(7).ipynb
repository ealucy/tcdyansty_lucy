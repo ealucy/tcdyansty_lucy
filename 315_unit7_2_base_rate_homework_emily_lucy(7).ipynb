{
 "cells": [
  {
   "cell_type": "markdown",
   "metadata": {},
   "source": [
    "# 7.2 Conditional Probability and Base Rate Fallacy"
   ]
  },
  {
   "cell_type": "markdown",
   "metadata": {},
   "source": [
    "## Your name: Emily Lucy"
   ]
  },
  {
   "cell_type": "markdown",
   "metadata": {},
   "source": [
    "### This example is borrowed from Wikipedia [1]. \n",
    "\n"
   ]
  },
  {
   "cell_type": "markdown",
   "metadata": {},
   "source": [
    "<p style=\"color:black;background-color:lightgreen;font-size:130%\">\n",
    "    <BR>\n",
    "    We define here a helper function that you can use. \n",
    "    Purpose is to print out contingency table data.\n",
    "    <BR>\n",
    "    <BR>\n",
    "</p>\n",
    "       "
   ]
  },
  {
   "cell_type": "code",
   "execution_count": 1,
   "metadata": {},
   "outputs": [],
   "source": [
    "import numpy as np\n",
    "\n",
    "\n",
    "def print_as_table(ntp,nfp,nfn,ntn,prob=False):\n",
    "    \"\"\"print the data array as contingency table\n",
    "    \n",
    "    Input parameters:\n",
    "        ntp (integer) : true  positive events\n",
    "        nfp (integer) : false positive events\n",
    "        nfn (integer) : false negative events\n",
    "        ntn (ingeter) : true  negative events\n",
    "        prob (Boolean): keyword parameter, \n",
    "                        if set True then the relative frequencies are printed\n",
    "    \"\"\"\n",
    "    \n",
    "    if not prob:\n",
    "        # print the frequency numbers as integer\n",
    "        print('               |   Infected    | Not Infected  |  row sum     ')\n",
    "        print('---------------+---------------+---------------+--------------')\n",
    "        print('Test positive  |     %6d    |     %6d    |    %6d    '    \n",
    "              % (ntp,nfp, ntp+nfp))\n",
    "        print('---------------+---------------+---------------+--------------')\n",
    "        print('Test negative  |     %6d    |     %6d    |    %6d    ' \n",
    "              % (nfn,ntn, nfn+ntn))\n",
    "        print('---------------+---------------+---------------+--------------')\n",
    "        print('Column sum     |     %6d    |     %6d    |    %6d    ' \n",
    "              % (ntp+nfn, nfp+ntn, ntp+nfp+nfn+ntn ))\n",
    "    else:\n",
    "        # print the relative frequency, which is (estimate for) probability\n",
    "        n=ntp+nfp+nfn+ntn\n",
    "        rtp,rfp,rfn,rtn = ntp/n , nfp/n, nfn/n, ntn/n\n",
    "        \n",
    "        print('               |   Infected    | Not Infected  |  row sum     ')\n",
    "        print('---------------+---------------+---------------+--------------')\n",
    "        print('Test positive  |    %8.6f   |   %8.6f    |    %8.6f    '    \n",
    "              % (rtp,rfp, rtp+rfp))\n",
    "        print('---------------+---------------+---------------+--------------')\n",
    "        print('Test negative  |    %8.6f   |   %8.6f    |    %8.6f    ' \n",
    "              % (rfn,rtn, rfn+rtn))\n",
    "        print('---------------+---------------+---------------+--------------')\n",
    "        print('Column sum     |    %8.6f   |   %8.6f    |    %8.6f    ' \n",
    "              % (rtp+rfn, rfp+rtn, rtp+rfp+rfn+rtn ))"
   ]
  },
  {
   "cell_type": "markdown",
   "metadata": {},
   "source": [
    "---\n",
    "## In this example situation we keep the False negative probability 0 (no false negatives). \n",
    "See in the code the variable: *test_false_neg* is set 0\n",
    "\n",
    "__That is the test does always give positive results when a person is infected, the test never misses to detect an infection).__\n",
    "\n",
    "__The false positive test rate is set to 5%. That is 5 out of hundred tests are positive when the patient is healthy and does not have the virus.__\n",
    "\n",
    "See in the code the variable: *test_false_pos*\n"
   ]
  },
  {
   "cell_type": "markdown",
   "metadata": {},
   "source": [
    "## Scenario A: High Infection Rate: 40%\n",
    "This is the true, but usually not well-known infection rate in population.\n",
    "\n",
    "Testing a sample of n=1000 from the infected population.\n",
    "The test gives 5% of the time false positives.\n"
   ]
  },
  {
   "cell_type": "code",
   "execution_count": 2,
   "metadata": {},
   "outputs": [],
   "source": [
    "# specification of the infectious disease test quality\n",
    "# false positive rate of 5% \n",
    "# false negative rate of 0%\n",
    "\n",
    "test_false_pos=0.05 \n",
    "test_false_neg=0.00\n",
    "\n",
    "# sample size of test\n",
    "n=1000\n",
    "\n",
    "# infection rate (IR) (true, but usually unknown infection rate in population)\n",
    "# case (A) high IR 40%\n",
    "\n",
    "infection_rate=0.40\n"
   ]
  },
  {
   "cell_type": "code",
   "execution_count": 3,
   "metadata": {},
   "outputs": [],
   "source": [
    "# calculation of the contingency table\n",
    "ir=infection_rate\n",
    "# sample size of true positive (ntp)\n",
    "ntp=n*ir\n",
    "\n",
    "# sample size of false positives (nfp)\n",
    "\n",
    "nfp= (n-n*ir)*test_false_pos\n",
    "\n",
    "# sample size of all positive tests\n",
    "npos=ntp+nfp\n",
    "\n",
    "# the remaining numbers\n",
    "\n",
    "# sample size of false test results \n",
    "nneg=n-npos\n",
    "\n",
    "# in this example situation we keep the test_false_neg equal 0\n",
    "# that is the test does always give positive results when \n",
    "# a person is infected. No false negatives (the test missed an infection).\n",
    "nfn=nneg*test_false_neg\n",
    "ntn=nneg-nfn\n"
   ]
  },
  {
   "cell_type": "code",
   "execution_count": 4,
   "metadata": {},
   "outputs": [
    {
     "name": "stdout",
     "output_type": "stream",
     "text": [
      "Result for high infection rate\n",
      "==========================+===\n",
      "\n",
      "               |   Infected    | Not Infected  |  row sum     \n",
      "---------------+---------------+---------------+--------------\n",
      "Test positive  |        400    |         30    |       430    \n",
      "---------------+---------------+---------------+--------------\n",
      "Test negative  |          0    |        570    |       570    \n",
      "---------------+---------------+---------------+--------------\n",
      "Column sum     |        400    |        600    |      1000    \n"
     ]
    }
   ],
   "source": [
    "print(\"Result for high infection rate\")\n",
    "print(\"==========================+===\")\n",
    "print(\"\")\n",
    "print_as_table(ntp,nfp,nfn,ntn,prob=False)\n"
   ]
  },
  {
   "cell_type": "code",
   "execution_count": 5,
   "metadata": {},
   "outputs": [
    {
     "name": "stdout",
     "output_type": "stream",
     "text": [
      "Relative frequency:\n",
      "\n",
      "               |   Infected    | Not Infected  |  row sum     \n",
      "---------------+---------------+---------------+--------------\n",
      "Test positive  |    0.400000   |   0.030000    |    0.430000    \n",
      "---------------+---------------+---------------+--------------\n",
      "Test negative  |    0.000000   |   0.570000    |    0.570000    \n",
      "---------------+---------------+---------------+--------------\n",
      "Column sum     |    0.400000   |   0.600000    |    1.000000    \n"
     ]
    }
   ],
   "source": [
    "print(\"Relative frequency:\")\n",
    "print(\"\")\n",
    "print_as_table(ntp,nfp,nfn,ntn,prob=True)\n"
   ]
  },
  {
   "cell_type": "markdown",
   "metadata": {},
   "source": [
    "## Scenario B: Low Infection Rate: 2%\n",
    "This is the true, but usually not well-known infection rate in population. \n",
    "\n",
    "Testing a sample of n=1000 from the infected population.\n",
    "The test gives 5% of the time false positives.\n"
   ]
  },
  {
   "cell_type": "code",
   "execution_count": 6,
   "metadata": {},
   "outputs": [],
   "source": [
    "# specification of the infectious disease test quality\n",
    "# false positive rate of 5% \n",
    "# false negative rate of 0%\n",
    "\n",
    "test_false_pos=0.05 \n",
    "test_false_neg=0.00\n",
    "\n",
    "# sample size of test\n",
    "n=1000\n",
    "\n",
    "# infection rate (IR) (true, but usually unknown infection rate in population)\n",
    "# case (B) low infection rate 2%\n",
    "infection_rate=0.02\n"
   ]
  },
  {
   "cell_type": "code",
   "execution_count": 7,
   "metadata": {},
   "outputs": [],
   "source": [
    "# calculation of the contingency table\n",
    "ir=infection_rate\n",
    "# sample size of true positive (ntp)\n",
    "ntp=n*ir\n",
    "\n",
    "# sample size of false positives (nfp)\n",
    "\n",
    "nfp= (n-n*ir)*test_false_pos\n",
    "\n",
    "# sample size of all positive tests\n",
    "npos=ntp+nfp\n",
    "\n",
    "# the remaining numbers\n",
    "\n",
    "# sample size of false test results \n",
    "nneg=n-npos\n",
    "\n",
    "# in this example situation we keep the test_false_neg equal 0\n",
    "# that is the test does always give positive results when \n",
    "# a person is infected. No false negatives (the test missed an infection).\n",
    "nfn=nneg*test_false_neg\n",
    "ntn=nneg-nfn\n"
   ]
  },
  {
   "cell_type": "code",
   "execution_count": 8,
   "metadata": {},
   "outputs": [
    {
     "name": "stdout",
     "output_type": "stream",
     "text": [
      "Result for low infection rate\n",
      "=============================\n",
      "\n",
      "               |   Infected    | Not Infected  |  row sum     \n",
      "---------------+---------------+---------------+--------------\n",
      "Test positive  |         20    |         49    |        69    \n",
      "---------------+---------------+---------------+--------------\n",
      "Test negative  |          0    |        931    |       931    \n",
      "---------------+---------------+---------------+--------------\n",
      "Column sum     |         20    |        980    |      1000    \n"
     ]
    }
   ],
   "source": [
    "print(\"Result for low infection rate\")\n",
    "print(\"=============================\")\n",
    "print(\"\")\n",
    "print_as_table(ntp,nfp,nfn,ntn,prob=False)\n"
   ]
  },
  {
   "cell_type": "code",
   "execution_count": 9,
   "metadata": {},
   "outputs": [
    {
     "name": "stdout",
     "output_type": "stream",
     "text": [
      "Relative frequency:\n",
      "\n",
      "               |   Infected    | Not Infected  |  row sum     \n",
      "---------------+---------------+---------------+--------------\n",
      "Test positive  |    0.020000   |   0.049000    |    0.069000    \n",
      "---------------+---------------+---------------+--------------\n",
      "Test negative  |    0.000000   |   0.931000    |    0.931000    \n",
      "---------------+---------------+---------------+--------------\n",
      "Column sum     |    0.020000   |   0.980000    |    1.000000    \n"
     ]
    }
   ],
   "source": [
    "print(\"Relative frequency:\")\n",
    "print(\"\")\n",
    "print_as_table(ntp,nfp,nfn,ntn,prob=True)\n"
   ]
  },
  {
   "cell_type": "markdown",
   "metadata": {},
   "source": [
    "<p style=\"color:gold;background-color:purple;font-size:130%\">\n",
    "    <BR>Tasks: <BR><BR>\n",
    "</p> "
   ]
  },
  {
   "cell_type": "markdown",
   "metadata": {},
   "source": [
    "### 1. Explain the meaning of the numbers in the third row and those in the third column. Which events belong to these numbers? (20pts)\n",
    "(Markdown cell text answer!)\n",
    "\n",
    "### 2. Calculate the conditional probability for the following events:\n",
    "\n",
    "### a) The patient is infected given the test is positive. (20pts)\n",
    "### b) The patient is not infected given the test is positive. (10pts)\n",
    "(don't forget to write an answer sentence and explain the calculation)\n",
    "### 3. Compare the numerical results between the high infection rate and the low infection rate and discuss the importance of the base rates in infectious disease tests. One year into the COVID-19 pandemic, discuss the implications for the early stages of our testing and the current situation. (40pts)\n",
    "\n",
    "(Markdown cell text answer.\n",
    "\n",
    "### 4. Develop an analytical solution, or use trial and error or some plot-supported visual solution to the follwing problem: (10pt)\n",
    "Find out how low the false positive probability of the clinical test has to be in the scenario B in order to achieve the same or higher conditional probability as in scenario A. The conditional event is \"the patient is infected given the test is positive\".\n",
    "\n",
    "(Explain your solution / approach to the problem in Mardown cell text)\n"
   ]
  },
  {
   "cell_type": "markdown",
   "metadata": {},
   "source": [
    "<font color=green> *__Question 1: The numbers in the 3rd row describe the actual number of those who are actually infected, actually not-infected, and the total sample size. The numbers in the 3rd column describe those who test positive, those who test negative, and the total sample size. In the third row, whether or not the subject tests positive or negative has no effect on that number. In the third column, whether or not the subject is truly infected has no effect on that number. This is true for both scenarios.__*"
   ]
  },
  {
   "cell_type": "code",
   "execution_count": 29,
   "metadata": {},
   "outputs": [
    {
     "name": "stdout",
     "output_type": "stream",
     "text": [
      "P(I|P) is 0.930232558139535\n",
      "P(NI|P) is 0.06976744186046512\n",
      "P(I|P) is 0.28985507246376807\n",
      "P(NI|P) is 0.7101449275362318\n"
     ]
    }
   ],
   "source": [
    "# code for question 2\n",
    "\n",
    "# scenario A\n",
    "probability1=(400/1000)/(430/1000)\n",
    "print(\"P(I|P) is \" + str(probability1))\n",
    "probability2=(30/1000)/(430/1000)\n",
    "print(\"P(NI|P) is \" + str(probability2))\n",
    "\n",
    "# scenario B\n",
    "probability3=(20/1000)/(69/1000)\n",
    "print(\"P(I|P) is \" + str(probability3))\n",
    "probability4=(49/1000)/(69/1000)\n",
    "print(\"P(NI|P) is \" + str(probability4))"
   ]
  },
  {
   "cell_type": "markdown",
   "metadata": {},
   "source": [
    "<font color=green> *__Question 2: In scenario A, the probability of the patient being infected given the test is positive is .93. The probability that the patient is not infected given the test is positive is .070. In scenario B, the probability of the patient being infected given the test is positive is .29. The probability that the patient is not infected given the test is positive is .71.__*"
   ]
  },
  {
   "cell_type": "markdown",
   "metadata": {},
   "source": [
    "<font color=green> *__Question 3: In the high infection rate scenario, you were more likely to be infected given that you have a positive test result. You were also less likely to not be infected given that the test was positive in the high infection scenario than in the low infection scenario. Base rates in infectious disease tests are important because they tell us about false positives. For example, in each scenario, there were several false positive tests. One year into the COVID-19 pandemic, it is important to think about testing strategies. In the very beginning, tests were scarce, so we had a small sample size to learn from. Now, since tests aren't as scare, we have a much larger sample size to study, and therefore we can be more accuarte, and understand false positives and false negatives better.__*"
   ]
  },
  {
   "cell_type": "code",
   "execution_count": 45,
   "metadata": {},
   "outputs": [
    {
     "name": "stdout",
     "output_type": "stream",
     "text": [
      "0.9420289855072463 is greater than 0.930232558139535\n"
     ]
    }
   ],
   "source": [
    "# code for question 4\n",
    "\n",
    "\n",
    "x=(65/1000)/(69/1000) # trial and error\n",
    "\n",
    "print(str(x) + \" is greater than \" + str(probability1))\n",
    "\n"
   ]
  },
  {
   "cell_type": "markdown",
   "metadata": {},
   "source": [
    "<font color=green> *__Question 4: The false positive probability of the clinical test in Scenario B has to be 65/1000 in order for that probability to be greater than the patient being infected given the test is positive in Scenario A.__*"
   ]
  },
  {
   "cell_type": "markdown",
   "metadata": {},
   "source": [
    "---\n"
   ]
  },
  {
   "cell_type": "markdown",
   "metadata": {},
   "source": [
    "References:\n",
    "    \n",
    "[1] [Wikipedia: base rate fallacy / false positive paradox](https://en.wikipedia.org/wiki/Base_rate_fallacy) [last visited April 2021, our data here in the tables were taken back in April 2020)\n",
    "\n"
   ]
  }
 ],
 "metadata": {
  "kernelspec": {
   "display_name": "Python 3",
   "language": "python",
   "name": "python3"
  },
  "language_info": {
   "codemirror_mode": {
    "name": "ipython",
    "version": 3
   },
   "file_extension": ".py",
   "mimetype": "text/x-python",
   "name": "python",
   "nbconvert_exporter": "python",
   "pygments_lexer": "ipython3",
   "version": "3.8.6"
  }
 },
 "nbformat": 4,
 "nbformat_minor": 2
}
