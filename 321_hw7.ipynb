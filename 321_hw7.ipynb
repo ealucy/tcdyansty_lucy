{
 "cells": [
  {
   "cell_type": "code",
   "execution_count": 1,
   "id": "151e454d-dee8-45dd-a95f-7f0d829aadc8",
   "metadata": {},
   "outputs": [],
   "source": [
    "import matplotlib.pyplot as plt\n",
    "import numpy as np"
   ]
  },
  {
   "cell_type": "code",
   "execution_count": 2,
   "id": "727d662f-e987-4014-95bb-03f6eb74f26b",
   "metadata": {},
   "outputs": [],
   "source": [
    "radius=np.arange(.01e-6,1.03e-6,.02e-6)\n",
    "\n",
    "def RH(radius):\n",
    "    return(np.exp((2)*(.075)/((1000)*(461)*(278.15)*(radius))))\n",
    "\n",
    "i=0\n",
    "rh=[]\n",
    "for value in radius:\n",
    "    rh.append(RH(radius[i]))\n",
    "    i=i+1"
   ]
  },
  {
   "cell_type": "code",
   "execution_count": 3,
   "id": "fca93417-3db2-442b-b84b-55d2b759d790",
   "metadata": {},
   "outputs": [
    {
     "name": "stdout",
     "output_type": "stream",
     "text": [
      "the figure tells us that as radius of a droplet increases, saturation relative humidity decreases exponentially.\n",
      "if the droplet begins to evaporate it will continue to evaporate.\n",
      "if the droplet begins to grow by condensation it will continue to do so.\n"
     ]
    },
    {
     "data": {
      "image/png": "[encoded data removed]",
      "text/plain": [
       "<Figure size 720x432 with 1 Axes>"
      ]
     },
     "metadata": {
      "needs_background": "light"
     },
     "output_type": "display_data"
    }
   ],
   "source": [
    "rad=np.arange(.01,1.04,.02)\n",
    "fig = plt.figure(figsize=(10,6))\n",
    "ax = fig.add_subplot(1,1,1)\n",
    "ax.plot(rad,rh)\n",
    "ax.set_xlabel('radius (micrometers)')\n",
    "ax.set_ylabel('RHcs (decimal form)')\n",
    "ax.set_title('Saturation Relative Humidity as a Function of Droplet Radius')\n",
    "print('the figure tells us that as radius of a droplet increases, saturation relative humidity decreases exponentially.')\n",
    "print('if the droplet begins to evaporate it will continue to evaporate.')\n",
    "print('if the droplet begins to grow by condensation it will continue to do so.')"
   ]
  },
  {
   "cell_type": "code",
   "execution_count": 4,
   "id": "56909dc5-c0c6-4de0-8b6b-2bdf10cc4f1d",
   "metadata": {},
   "outputs": [],
   "source": [
    "rh2=[101,102,111,300]\n",
    "temps=[300,273]\n",
    "def sigma(T):\n",
    "    return(.118-((1.55e-4)*T))\n",
    "def rc(rh2,T,sig):\n",
    "    return((2*sig)/(np.log(rh2)*1000*461*T))"
   ]
  },
  {
   "cell_type": "code",
   "execution_count": 5,
   "id": "d44e6093-f7df-470b-ad34-0f3b696dc747",
   "metadata": {},
   "outputs": [
    {
     "name": "stdout",
     "output_type": "stream",
     "text": [
      "0.0715 0.075685\n"
     ]
    }
   ],
   "source": [
    "sig300=sigma(300)\n",
    "sig273=sigma(273)\n",
    "print(sig300 , sig273)"
   ]
  },
  {
   "cell_type": "code",
   "execution_count": 6,
   "id": "2aea8587-0b54-4dc0-b7b6-ecb693e9e630",
   "metadata": {},
   "outputs": [
    {
     "name": "stdout",
     "output_type": "stream",
     "text": [
      "for a temperature of 273K and rh increasing from 101,102,111,300\n"
     ]
    },
    {
     "data": {
      "text/plain": [
       "[2.606112696545925e-10,\n",
       " 2.6005610542148574e-10,\n",
       " 2.5538692100706925e-10,\n",
       " 2.1086926488644826e-10]"
      ]
     },
     "execution_count": 6,
     "metadata": {},
     "output_type": "execute_result"
    }
   ],
   "source": [
    "print('for a temperature of 273K and rh increasing from 101,102,111,300')\n",
    "k=0\n",
    "rc273=[]\n",
    "for value in rh2:\n",
    "    rc273.append(rc(rh2[k],273.,sig273))\n",
    "    k=k+1\n",
    "rc273"
   ]
  },
  {
   "cell_type": "code",
   "execution_count": 7,
   "id": "4c8b7074-22c9-45a0-978e-f8619e35bd06",
   "metadata": {},
   "outputs": [
    {
     "name": "stdout",
     "output_type": "stream",
     "text": [
      "for a temperature of 300K and rh increasing from 101,102,111,300\n"
     ]
    },
    {
     "data": {
      "text/plain": [
       "[2.2404270674606675e-10,\n",
       " 2.2356544228379422e-10,\n",
       " 2.1955143047268227e-10,\n",
       " 1.812804217458777e-10]"
      ]
     },
     "execution_count": 7,
     "metadata": {},
     "output_type": "execute_result"
    }
   ],
   "source": [
    "print('for a temperature of 300K and rh increasing from 101,102,111,300')\n",
    "j=0\n",
    "rc300=[]\n",
    "for value in rh2:\n",
    "    rc300.append(rc(rh2[j],300.,sig300))\n",
    "    j=j+1\n",
    "rc300"
   ]
  }
 ],
 "metadata": {
  "kernelspec": {
   "display_name": "Python 3 August 2021 Environment",
   "language": "python",
   "name": "aug21"
  },
  "language_info": {
   "codemirror_mode": {
    "name": "ipython",
    "version": 3
   },
   "file_extension": ".py",
   "mimetype": "text/x-python",
   "name": "python",
   "nbconvert_exporter": "python",
   "pygments_lexer": "ipython3",
   "version": "3.8.10"
  }
 },
 "nbformat": 4,
 "nbformat_minor": 5
}
