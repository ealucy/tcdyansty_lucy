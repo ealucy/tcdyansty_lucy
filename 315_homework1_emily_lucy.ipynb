{
 "cells": [
  {
   "cell_type": "markdown",
   "metadata": {},
   "source": [
    "### Name: Emily Lucy"
   ]
  },
  {
   "cell_type": "markdown",
   "metadata": {},
   "source": [
    "# Homework 1"
   ]
  },
  {
   "cell_type": "markdown",
   "metadata": {},
   "source": [
    "#  *__Introduction__*"
   ]
  },
  {
   "cell_type": "markdown",
   "metadata": {},
   "source": [
    "*Homework 1: 10 question assignment with various types of problems programmers could run into while working with Python involving variables, types of data, and operations.* \n"
   ]
  },
  {
   "cell_type": "markdown",
   "metadata": {},
   "source": [
    "\n",
    "\n",
    "---\n"
   ]
  },
  {
   "cell_type": "markdown",
   "metadata": {},
   "source": [
    "# __Question 1: How much is this precipitation as an average intensity expressed in metric units in “millimeter per day”?__\n",
    "\n",
    "###    A series of storms is expected to hit the western coast of the US this week: “[…] This combination of Pacific storms is likely to wring out heavy rain from the coastal ranges of far northwestern California to western Oregon and western Washington. Some of these areas could pick up […] to 10 inches of rain over the next seven days […]” [https://www.wunderground.com/article/forecast/regional/news/2020-01-23-pacific-storm-parade-atmospheric-rivers-washington-oregon Jan 24th, 2020]. \n"
   ]
  },
  {
   "cell_type": "code",
   "execution_count": 1,
   "metadata": {},
   "outputs": [
    {
     "data": {
      "text/plain": [
       "36.285714285714285"
      ]
     },
     "execution_count": 1,
     "metadata": {},
     "output_type": "execute_result"
    }
   ],
   "source": [
    "10/7*.0254*1000"
   ]
  },
  {
   "cell_type": "markdown",
   "metadata": {},
   "source": [
    "*The average intensity over 10 days is 36.285714285714285 millimeters per day.*"
   ]
  },
  {
   "cell_type": "markdown",
   "metadata": {},
   "source": [
    "# __Question 2: Do the calculation with Python using two variables: one is assigned the precipitation value in inches, the other is assigned to the result from the conversion calculation.__"
   ]
  },
  {
   "cell_type": "code",
   "execution_count": 2,
   "metadata": {},
   "outputs": [],
   "source": [
    " # Conversion Calculation with Variables\n",
    "x=10\n",
    "y=x/7*.0254*1000"
   ]
  },
  {
   "cell_type": "code",
   "execution_count": 3,
   "metadata": {},
   "outputs": [
    {
     "name": "stdout",
     "output_type": "stream",
     "text": [
      "36.285714285714285\n"
     ]
    }
   ],
   "source": [
    "print(y)"
   ]
  },
  {
   "cell_type": "markdown",
   "metadata": {},
   "source": [
    "*The average intensity over 10 days is 36.285714285714285 millimerters per day.*"
   ]
  },
  {
   "cell_type": "markdown",
   "metadata": {},
   "source": [
    "# __Question 3: Provide an example of string operations with the “+” operator. What is the “+” operator doing with strings? Explain in your own words.__\n"
   ]
  },
  {
   "cell_type": "code",
   "execution_count": 4,
   "metadata": {},
   "outputs": [
    {
     "data": {
      "text/plain": [
       "'CHICKENCHICKENCHICKEN'"
      ]
     },
     "execution_count": 4,
     "metadata": {},
     "output_type": "execute_result"
    }
   ],
   "source": [
    "\"CHICKEN\"+\"CHICKEN\"+\"CHICKEN\""
   ]
  },
  {
   "cell_type": "markdown",
   "metadata": {},
   "source": [
    "*In this example, the + operator is compressing together the words within the quotation marks*"
   ]
  },
  {
   "cell_type": "markdown",
   "metadata": {},
   "source": [
    "# __Question 4: Provide an example of type conversion from numbers of type int and float into string and explain why it useful in combination with the + operator? The built-in Python function to use is ‘str()’.__"
   ]
  },
  {
   "cell_type": "code",
   "execution_count": 5,
   "metadata": {},
   "outputs": [
    {
     "name": "stdout",
     "output_type": "stream",
     "text": [
      "Emily just cried 13 times and cried 47.1 tears while writing this assignment \n"
     ]
    }
   ],
   "source": [
    "name=\"Emily\"\n",
    "times=13\n",
    "tears=47.1\n",
    "print(name + \" just cried \" + str(times) + \" times and cried \" + str(tears) + \" tears while writing this assignment \")"
   ]
  },
  {
   "cell_type": "markdown",
   "metadata": {},
   "source": [
    "*This is useful in combonation with the + operator because this operator concatenates and can \"string\" together lines of code that are originally written in different forms with only one print function.*"
   ]
  },
  {
   "cell_type": "markdown",
   "metadata": {},
   "source": [
    "# __Question 5: You get a table with 3-hour precipitation amounts: Sum up the numbers and store the result in a variable named total and print value of the variable.__"
   ]
  },
  {
   "cell_type": "code",
   "execution_count": 6,
   "metadata": {},
   "outputs": [
    {
     "name": "stdout",
     "output_type": "stream",
     "text": [
      "18.6\n"
     ]
    }
   ],
   "source": [
    "y=.1,1.5,4.7,3.5,8.5,.1,.2\n",
    "total=sum(y)\n",
    "print(total)"
   ]
  },
  {
   "cell_type": "markdown",
   "metadata": {},
   "source": [
    "*The sum is 18.6mm*"
   ]
  },
  {
   "cell_type": "markdown",
   "metadata": {},
   "source": [
    "# __Question 6: Use the function print()  to show the text “The rainfall total in 24 hours is:”, and the number (with ­­one print() function)__"
   ]
  },
  {
   "cell_type": "code",
   "execution_count": 7,
   "metadata": {},
   "outputs": [
    {
     "name": "stdout",
     "output_type": "stream",
     "text": [
      " The rainfall total in 24 hours is 18.6 mm \n"
     ]
    }
   ],
   "source": [
    "print( \" The rainfall total in 24 hours is \" + str(total) + \" mm \")"
   ]
  },
  {
   "cell_type": "markdown",
   "metadata": {},
   "source": [
    "# __Question 7:    Inform yourself about the function type() and try out the code and observe the results. What does the function type() tell you about the variable x and y?__"
   ]
  },
  {
   "cell_type": "code",
   "execution_count": 8,
   "metadata": {},
   "outputs": [
    {
     "name": "stdout",
     "output_type": "stream",
     "text": [
      "100\n",
      "<class 'int'>\n",
      "10.0\n",
      "<class 'float'>\n"
     ]
    }
   ],
   "source": [
    "x=100\n",
    "print(x)\n",
    "print(type(x))\n",
    "\n",
    "y=100/10\n",
    "print(y)\n",
    "print(type(y))"
   ]
  },
  {
   "cell_type": "markdown",
   "metadata": {},
   "source": [
    "*The \"type\" function tells you the classification of x and y. The number represented by x is an integer and the number represented by y is a floating point number.*"
   ]
  },
  {
   "cell_type": "markdown",
   "metadata": {},
   "source": [
    "# __Question 8: Try the following code:__\n",
    "x=100\n",
    "\n",
    "y=x\n",
    "\n",
    "x=42\n",
    "\n",
    "print (x,y)\n",
    "\n",
    "# __What happened here? Explain the result by looking at how the sequence of variable assignment works in Python when we run the code.__\n"
   ]
  },
  {
   "cell_type": "code",
   "execution_count": 9,
   "metadata": {},
   "outputs": [
    {
     "name": "stdout",
     "output_type": "stream",
     "text": [
      "42 100\n"
     ]
    }
   ],
   "source": [
    "x=100\n",
    "y=x\n",
    "x=42\n",
    "print(x,y)"
   ]
  },
  {
   "cell_type": "markdown",
   "metadata": {},
   "source": [
    "*The result is in the format of an ordered pair. Since y is defined as x and x is defined as 42 afterward, the result is that 42 is printed first in the ordered pair.*"
   ]
  },
  {
   "cell_type": "markdown",
   "metadata": {},
   "source": [
    "# __Question 9: Try the following code:__\n",
    " \n",
    "x=100\n",
    "\n",
    "y=x\n",
    "\n",
    "y=42\n",
    "\n",
    "print (x,y)\n",
    " \n",
    "# __Compare this with the result from question 8. Do you understand the behavior of variable assignments?__"
   ]
  },
  {
   "cell_type": "code",
   "execution_count": 10,
   "metadata": {},
   "outputs": [
    {
     "name": "stdout",
     "output_type": "stream",
     "text": [
      "100 42\n"
     ]
    }
   ],
   "source": [
    "x=100\n",
    "y=x\n",
    "y=42\n",
    "print(x,y)"
   ]
  },
  {
   "cell_type": "markdown",
   "metadata": {},
   "source": [
    "*Since in this case the order is y=x followed by y=42, as opposed to x in the previous problem, the result is that 42 is printed second in the ordered pair.*"
   ]
  },
  {
   "cell_type": "markdown",
   "metadata": {},
   "source": [
    "# __Question 10: We want to program a simple countdown from 10 to 0. First, assign the variable i the value 10.  Then subtract from i the value 1 (see code below). Repeat the code with the variable assignment i=i-1 so that you end with a value 0 in the last print statement. What is happening with variable i?__"
   ]
  },
  {
   "cell_type": "code",
   "execution_count": 11,
   "metadata": {},
   "outputs": [
    {
     "name": "stdout",
     "output_type": "stream",
     "text": [
      "10\n",
      "9\n",
      "8\n",
      "7\n",
      "6\n",
      "5\n",
      "4\n",
      "3\n",
      "2\n",
      "1\n",
      "0\n"
     ]
    }
   ],
   "source": [
    "i=10\n",
    "print(i)\n",
    "i=i-1\n",
    "print(i)\n",
    "i=i-1\n",
    "print(i)\n",
    "i=i-1\n",
    "print(i)\n",
    "i=i-1\n",
    "print(i)\n",
    "i=i-1\n",
    "print(i)\n",
    "i=i-1\n",
    "print(i)\n",
    "i=i-1\n",
    "print(i)\n",
    "i=i-1\n",
    "print(i)\n",
    "i=i-1\n",
    "print(i)\n",
    "i=i-1\n",
    "print(i)"
   ]
  },
  {
   "cell_type": "markdown",
   "metadata": {},
   "source": [
    "*The variable \"i\" is over and over again being deducted a single integer.*"
   ]
  },
  {
   "cell_type": "markdown",
   "metadata": {},
   "source": [
    "# *__Conclusion__*"
   ]
  },
  {
   "cell_type": "markdown",
   "metadata": {},
   "source": [
    "Variables are necessary in computer coding because we need symbols to take the place of ideas. They are also used to simplify problems, in order to repeat them again and again if need be. The variable is a tool to save information and use it again. It is important to be aware that Python distinguishes between types of data (such as int, float, and string) beacause it can easily become confusing if one does not know this. For example, the string \"123\" does not have the value of the integer one hundred and twenty three. It is simply three numbers strung together. It is also important to understand float, because in different operations such as addition and subtraction, if at least one of the numbers is float, the answer must be float. "
   ]
  }
 ],
 "metadata": {
  "kernelspec": {
   "display_name": "Python 3",
   "language": "python",
   "name": "python3"
  },
  "language_info": {
   "codemirror_mode": {
    "name": "ipython",
    "version": 3
   },
   "file_extension": ".py",
   "mimetype": "text/x-python",
   "name": "python",
   "nbconvert_exporter": "python",
   "pygments_lexer": "ipython3",
   "version": "3.8.6"
  }
 },
 "nbformat": 4,
 "nbformat_minor": 2
}
