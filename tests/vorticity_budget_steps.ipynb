{
 "cells": [
  {
   "cell_type": "markdown",
   "id": "9b01e959-775d-4ded-b6aa-a7ee78f4a423",
   "metadata": {},
   "source": [
    "**First, do imports.**"
   ]
  },
  {
   "cell_type": "code",
   "execution_count": 1,
   "id": "ff111a21-05d5-444b-b007-89c3d4b164ed",
   "metadata": {},
   "outputs": [],
   "source": [
    "import xarray as xr\n",
    "import numpy as np\n",
    "import metpy.calc as mpcalc\n",
    "from metpy.units import units\n",
    "import matplotlib.pyplot as plt"
   ]
  },
  {
   "cell_type": "markdown",
   "id": "f83fd8ba-0cde-4e62-932c-f86c518fb85a",
   "metadata": {},
   "source": [
    "**Next, we want to load in one dataset and specify our variables.**"
   ]
  },
  {
   "cell_type": "code",
   "execution_count": 2,
   "id": "4f21f5f5-f68a-44a0-80c2-2e89ddce1379",
   "metadata": {
    "tags": []
   },
   "outputs": [],
   "source": [
    "ds = xr.open_dataset('cm1_original/cm1out_20000101.000004.nc').isel(time=0)\n",
    "\n",
    "u = ds['u']\n",
    "v = ds['v']\n",
    "w = ds['w']\n",
    "dx = ds['xh']*units('m')\n",
    "dy = ds['yh']*units('m')\n",
    "dz = ds['zh']*units('m')"
   ]
  },
  {
   "cell_type": "markdown",
   "id": "38d1c223-0fc6-4f0d-8ec4-9d5c1f3a173b",
   "metadata": {},
   "source": [
    "**Then, calculate relative vorticity using metpy.**"
   ]
  },
  {
   "cell_type": "code",
   "execution_count": 4,
   "id": "0ff4d849-24fa-4c01-a742-df2ba26d6eb8",
   "metadata": {
    "tags": []
   },
   "outputs": [],
   "source": [
    "dvdx = mpcalc.first_derivative(v, delta=dx[1]-dx[0])\n",
    "dudy = mpcalc.first_derivative(u, delta=dy[1]-dy[0])\n",
    "z_vort = dvdx-dudy"
   ]
  },
  {
   "cell_type": "markdown",
   "id": "c638e157-5bfb-4dfd-90b4-03076a98bd3e",
   "metadata": {},
   "source": [
    "**Horizontal advection term.**"
   ]
  },
  {
   "cell_type": "code",
   "execution_count": 5,
   "id": "a185e3e4-b8cf-4c50-bd71-3f5db4ad067e",
   "metadata": {
    "tags": []
   },
   "outputs": [],
   "source": [
    "dvortdx = mpcalc.first_derivative(z_vort, delta=dx[1]-dx[0])\n",
    "dvortdy = mpcalc.first_derivative(z_vort, delta=dy[1]-dy[0])\n",
    "\n",
    "udvortdx = u*dvortdx\n",
    "vdvortdy = v*dvortdy\n",
    "\n",
    "horiz_adv = -1*(udvortdx+vdvortdy)"
   ]
  },
  {
   "cell_type": "markdown",
   "id": "116bd43c-808d-4259-88fc-54eee8c9c43d",
   "metadata": {},
   "source": [
    "**Vertical advection term.**"
   ]
  },
  {
   "cell_type": "code",
   "execution_count": 6,
   "id": "0c0d38d6-7090-40a8-904c-98d14c7ce3e2",
   "metadata": {
    "tags": []
   },
   "outputs": [],
   "source": [
    "dvortdz = mpcalc.first_derivative(z_vort, delta=dz[1]-dz[0])"
   ]
  },
  {
   "cell_type": "code",
   "execution_count": 7,
   "id": "e2d8aef1-e49f-4a2c-8526-cbdb20a30762",
   "metadata": {
    "tags": []
   },
   "outputs": [],
   "source": [
    "dvortdz\n",
    "\n",
    "wdvortdz = w*dvortdz\n",
    "\n",
    "vert_adv = -1*wdvortdz"
   ]
  },
  {
   "cell_type": "markdown",
   "id": "931da11f-797e-4403-81e4-798d29beafe4",
   "metadata": {},
   "source": [
    "**Stretching Term.**"
   ]
  },
  {
   "cell_type": "code",
   "execution_count": 20,
   "id": "4b889f08-82d2-4303-8c35-3603c662784c",
   "metadata": {},
   "outputs": [],
   "source": [
    "dudx = mpcalc.first_derivative(u, delta=dx[1]-dx[0])\n",
    "dvdy = mpcalc.first_derivative(v, delta=dy[1]-dy[0])\n",
    "\n",
    "div = dudx+dvdy\n",
    "\n",
    "def stretching_term(dudx, dvdy, z_vort):\n",
    "    return(z_vort*(dudx+dvdy))\n",
    "stretch_term = stretching_term(dudx,dvdy,z_vort)"
   ]
  },
  {
   "cell_type": "code",
   "execution_count": 22,
   "id": "88fa1de7-fb3d-4792-b71b-328726c155be",
   "metadata": {
    "tags": []
   },
   "outputs": [
    {
     "ename": "AttributeError",
     "evalue": "Neither Quantity object nor its magnitude ([[[-3.77404876e-02 -4.58110496e-02 -9.79291946e-02 ...  3.13750841e-02\n    3.94491479e-02  4.49873023e-02]\n  [-2.64699869e-02 -4.32312265e-02 -7.67382979e-02 ...  3.08423657e-02\n    3.55080143e-02  4.89895307e-02]\n  [-1.99246854e-02 -2.68708654e-02 -2.38234289e-02 ...  2.59417687e-02\n    3.26443315e-02  5.09426706e-02]\n  ...\n  [-1.63004699e-03  1.67395410e-04 -2.77883606e-03 ... -1.64065454e-02\n   -1.50811654e-02 -1.22408429e-02]\n  [-1.94054726e-03  6.98049320e-04 -6.20496739e-03 ... -1.79297142e-02\n   -1.23330988e-02 -7.55379861e-03]\n  [-1.62910542e-03  8.18429166e-04 -7.15203863e-03 ... -8.72200914e-03\n   -5.03418641e-03 -6.49844529e-03]]\n\n [[-1.68888585e-03 -4.24946705e-03 -9.10686236e-03 ...  7.09772855e-03\n    9.56568774e-03  1.13598062e-02]\n  [-2.90484773e-03 -4.07839101e-03 -7.84595590e-03 ...  6.64618937e-03\n    9.32910480e-03  1.18747158e-02]\n  [-6.29095500e-03 -7.48371007e-03 -6.64391881e-03 ...  6.70715841e-03\n    8.78778379e-03  1.22754145e-02]\n  ...\n  [ 1.91812683e-03  1.25207193e-03  1.40212371e-03 ... -9.88178700e-03\n   -8.29478167e-03 -6.71061035e-03]\n  [ 1.60986290e-03  1.06873154e-03  1.18281320e-03 ... -1.12290494e-02\n   -8.54832865e-03 -7.01983087e-03]\n  [ 1.48158334e-03  1.17431558e-03  1.37239776e-03 ... -9.46953986e-03\n   -7.56395143e-03 -8.18659924e-03]]\n\n [[ 2.59359810e-03  1.85587211e-03  8.88264447e-04 ...  1.43183407e-03\n    5.48290671e-04 -2.45517492e-03]\n  [ 2.15325411e-03  1.77823077e-03  1.76552834e-03 ...  4.75578971e-04\n    1.37199357e-03 -5.82675748e-05]\n  [ 7.32717046e-04  9.57260127e-05 -4.31052700e-04 ... -6.50899601e-04\n    6.43858570e-04  1.64795271e-03]\n  ...\n  [ 3.09246033e-03  2.07076315e-03 -2.82103865e-04 ... -4.85490961e-03\n   -4.39866260e-03 -4.16611321e-03]\n  [ 2.93623121e-03  1.94041908e-03 -5.75198384e-04 ... -5.13402792e-03\n   -4.70811734e-03 -4.92934650e-03]\n  [ 2.60763057e-03  2.06675939e-03  3.03281005e-04 ... -5.69391856e-03\n   -5.56067098e-03 -5.79892797e-03]]\n\n ...\n\n [[ 4.25511855e-04  3.73180781e-04  3.27827031e-04 ...  1.75832647e-05\n    1.34367174e-05 -1.75582172e-05]\n  [ 1.77330629e-04  1.17113887e-04  9.07277936e-05 ...  4.21624063e-05\n   -1.78925768e-06 -9.63180064e-05]\n  [ 2.91398319e-05  1.40983120e-05  8.23357368e-06 ...  7.15438000e-05\n    3.94985909e-05 -6.91944879e-05]\n  ...\n  [ 7.31076943e-05  9.49795503e-05  1.02938873e-04 ... -2.71852972e-04\n   -2.46949203e-04 -1.66519661e-04]\n  [ 1.15035982e-04  1.39073498e-04  1.32459201e-04 ... -1.84323610e-04\n   -1.94438355e-04 -1.57057308e-04]\n  [ 9.97483439e-05  1.32845351e-04  1.20484990e-04 ... -9.40888640e-05\n   -1.26174113e-04 -1.36847273e-04]]\n\n [[ 2.22324103e-04  1.41032957e-04  1.32450121e-04 ... -3.72014995e-07\n    3.18035272e-05  4.75971756e-05]\n  [ 6.69114379e-05  3.41319901e-05  2.87619896e-05 ...  2.03077070e-05\n    4.29509601e-05 -3.62641617e-06]\n  [ 7.53547147e-06 -2.27039027e-06 -1.22030897e-05 ...  4.11618239e-05\n    5.53720492e-05 -5.99469161e-07]\n  ...\n  [ 1.93471587e-05  7.98971087e-06  5.29689305e-06 ... -1.56029026e-04\n   -3.01263499e-05  1.51076929e-05]\n  [ 5.49774195e-05  3.55654920e-05  1.76043905e-05 ... -2.41321031e-04\n   -1.05018822e-04 -2.01397870e-06]\n  [ 9.48957968e-05  6.32385709e-05  2.42811730e-05 ... -2.28909150e-04\n   -1.64435347e-04 -4.07669904e-05]]\n\n [[-3.30601943e-05 -3.94244380e-05 -8.98397866e-06 ... -1.17908843e-04\n   -1.74483313e-04  7.95627693e-06]\n  [ 4.10493249e-06  2.67523455e-06 -8.83458415e-06 ... -3.79976191e-05\n   -3.89126617e-05  3.83897568e-05]\n  [-1.94369732e-05 -4.36520277e-05 -6.64621984e-05 ...  1.52416521e-06\n   -5.24653842e-07  1.09123976e-05]\n  ...\n  [-2.63961811e-05 -2.31034064e-05  1.17480486e-05 ...  5.84618647e-06\n   -1.53013039e-04 -6.36044017e-04]\n  [-8.28978045e-06 -3.71298370e-07  3.07650116e-05 ... -1.73915832e-04\n    2.32782895e-06 -2.35902786e-04]\n  [ 1.47979263e-05  2.57134474e-08  1.67404432e-05 ... -4.19073709e-04\n   -1.53085799e-04  1.22462625e-05]]]) has attribute 'isel'",
     "output_type": "error",
     "traceback": [
      "\u001b[0;31m---------------------------------------------------------------------------\u001b[0m",
      "\u001b[0;31mAttributeError\u001b[0m                            Traceback (most recent call last)",
      "File \u001b[0;32m/knight/mamba_aug23/envs/aug23_env/lib/python3.11/site-packages/pint/quantity.py:1894\u001b[0m, in \u001b[0;36mQuantity.__getattr__\u001b[0;34m(self, item)\u001b[0m\n\u001b[1;32m   1893\u001b[0m \u001b[38;5;28;01mtry\u001b[39;00m:\n\u001b[0;32m-> 1894\u001b[0m     \u001b[38;5;28;01mreturn\u001b[39;00m \u001b[38;5;28mgetattr\u001b[39m(\u001b[38;5;28mself\u001b[39m\u001b[38;5;241m.\u001b[39m_magnitude, item)\n\u001b[1;32m   1895\u001b[0m \u001b[38;5;28;01mexcept\u001b[39;00m \u001b[38;5;167;01mAttributeError\u001b[39;00m:\n",
      "\u001b[0;31mAttributeError\u001b[0m: 'numpy.ndarray' object has no attribute 'isel'",
      "\nDuring handling of the above exception, another exception occurred:\n",
      "\u001b[0;31mAttributeError\u001b[0m                            Traceback (most recent call last)",
      "Cell \u001b[0;32mIn[22], line 1\u001b[0m\n\u001b[0;32m----> 1\u001b[0m \u001b[43mstretch_term\u001b[49m\u001b[38;5;241;43m.\u001b[39;49m\u001b[43misel\u001b[49m(nk\u001b[38;5;241m=\u001b[39m\u001b[38;5;241m0\u001b[39m)\n",
      "File \u001b[0;32m/knight/mamba_aug23/envs/aug23_env/lib/python3.11/site-packages/pint/quantity.py:1896\u001b[0m, in \u001b[0;36mQuantity.__getattr__\u001b[0;34m(self, item)\u001b[0m\n\u001b[1;32m   1894\u001b[0m     \u001b[38;5;28;01mreturn\u001b[39;00m \u001b[38;5;28mgetattr\u001b[39m(\u001b[38;5;28mself\u001b[39m\u001b[38;5;241m.\u001b[39m_magnitude, item)\n\u001b[1;32m   1895\u001b[0m \u001b[38;5;28;01mexcept\u001b[39;00m \u001b[38;5;167;01mAttributeError\u001b[39;00m:\n\u001b[0;32m-> 1896\u001b[0m     \u001b[38;5;28;01mraise\u001b[39;00m \u001b[38;5;167;01mAttributeError\u001b[39;00m(\n\u001b[1;32m   1897\u001b[0m         \u001b[38;5;124m\"\u001b[39m\u001b[38;5;124mNeither Quantity object nor its magnitude (\u001b[39m\u001b[38;5;132;01m{}\u001b[39;00m\u001b[38;5;124m) \u001b[39m\u001b[38;5;124m\"\u001b[39m\n\u001b[1;32m   1898\u001b[0m         \u001b[38;5;124m\"\u001b[39m\u001b[38;5;124mhas attribute \u001b[39m\u001b[38;5;124m'\u001b[39m\u001b[38;5;132;01m{}\u001b[39;00m\u001b[38;5;124m'\u001b[39m\u001b[38;5;124m\"\u001b[39m\u001b[38;5;241m.\u001b[39mformat(\u001b[38;5;28mself\u001b[39m\u001b[38;5;241m.\u001b[39m_magnitude, item)\n\u001b[1;32m   1899\u001b[0m     )\n",
      "\u001b[0;31mAttributeError\u001b[0m: Neither Quantity object nor its magnitude ([[[-3.77404876e-02 -4.58110496e-02 -9.79291946e-02 ...  3.13750841e-02\n    3.94491479e-02  4.49873023e-02]\n  [-2.64699869e-02 -4.32312265e-02 -7.67382979e-02 ...  3.08423657e-02\n    3.55080143e-02  4.89895307e-02]\n  [-1.99246854e-02 -2.68708654e-02 -2.38234289e-02 ...  2.59417687e-02\n    3.26443315e-02  5.09426706e-02]\n  ...\n  [-1.63004699e-03  1.67395410e-04 -2.77883606e-03 ... -1.64065454e-02\n   -1.50811654e-02 -1.22408429e-02]\n  [-1.94054726e-03  6.98049320e-04 -6.20496739e-03 ... -1.79297142e-02\n   -1.23330988e-02 -7.55379861e-03]\n  [-1.62910542e-03  8.18429166e-04 -7.15203863e-03 ... -8.72200914e-03\n   -5.03418641e-03 -6.49844529e-03]]\n\n [[-1.68888585e-03 -4.24946705e-03 -9.10686236e-03 ...  7.09772855e-03\n    9.56568774e-03  1.13598062e-02]\n  [-2.90484773e-03 -4.07839101e-03 -7.84595590e-03 ...  6.64618937e-03\n    9.32910480e-03  1.18747158e-02]\n  [-6.29095500e-03 -7.48371007e-03 -6.64391881e-03 ...  6.70715841e-03\n    8.78778379e-03  1.22754145e-02]\n  ...\n  [ 1.91812683e-03  1.25207193e-03  1.40212371e-03 ... -9.88178700e-03\n   -8.29478167e-03 -6.71061035e-03]\n  [ 1.60986290e-03  1.06873154e-03  1.18281320e-03 ... -1.12290494e-02\n   -8.54832865e-03 -7.01983087e-03]\n  [ 1.48158334e-03  1.17431558e-03  1.37239776e-03 ... -9.46953986e-03\n   -7.56395143e-03 -8.18659924e-03]]\n\n [[ 2.59359810e-03  1.85587211e-03  8.88264447e-04 ...  1.43183407e-03\n    5.48290671e-04 -2.45517492e-03]\n  [ 2.15325411e-03  1.77823077e-03  1.76552834e-03 ...  4.75578971e-04\n    1.37199357e-03 -5.82675748e-05]\n  [ 7.32717046e-04  9.57260127e-05 -4.31052700e-04 ... -6.50899601e-04\n    6.43858570e-04  1.64795271e-03]\n  ...\n  [ 3.09246033e-03  2.07076315e-03 -2.82103865e-04 ... -4.85490961e-03\n   -4.39866260e-03 -4.16611321e-03]\n  [ 2.93623121e-03  1.94041908e-03 -5.75198384e-04 ... -5.13402792e-03\n   -4.70811734e-03 -4.92934650e-03]\n  [ 2.60763057e-03  2.06675939e-03  3.03281005e-04 ... -5.69391856e-03\n   -5.56067098e-03 -5.79892797e-03]]\n\n ...\n\n [[ 4.25511855e-04  3.73180781e-04  3.27827031e-04 ...  1.75832647e-05\n    1.34367174e-05 -1.75582172e-05]\n  [ 1.77330629e-04  1.17113887e-04  9.07277936e-05 ...  4.21624063e-05\n   -1.78925768e-06 -9.63180064e-05]\n  [ 2.91398319e-05  1.40983120e-05  8.23357368e-06 ...  7.15438000e-05\n    3.94985909e-05 -6.91944879e-05]\n  ...\n  [ 7.31076943e-05  9.49795503e-05  1.02938873e-04 ... -2.71852972e-04\n   -2.46949203e-04 -1.66519661e-04]\n  [ 1.15035982e-04  1.39073498e-04  1.32459201e-04 ... -1.84323610e-04\n   -1.94438355e-04 -1.57057308e-04]\n  [ 9.97483439e-05  1.32845351e-04  1.20484990e-04 ... -9.40888640e-05\n   -1.26174113e-04 -1.36847273e-04]]\n\n [[ 2.22324103e-04  1.41032957e-04  1.32450121e-04 ... -3.72014995e-07\n    3.18035272e-05  4.75971756e-05]\n  [ 6.69114379e-05  3.41319901e-05  2.87619896e-05 ...  2.03077070e-05\n    4.29509601e-05 -3.62641617e-06]\n  [ 7.53547147e-06 -2.27039027e-06 -1.22030897e-05 ...  4.11618239e-05\n    5.53720492e-05 -5.99469161e-07]\n  ...\n  [ 1.93471587e-05  7.98971087e-06  5.29689305e-06 ... -1.56029026e-04\n   -3.01263499e-05  1.51076929e-05]\n  [ 5.49774195e-05  3.55654920e-05  1.76043905e-05 ... -2.41321031e-04\n   -1.05018822e-04 -2.01397870e-06]\n  [ 9.48957968e-05  6.32385709e-05  2.42811730e-05 ... -2.28909150e-04\n   -1.64435347e-04 -4.07669904e-05]]\n\n [[-3.30601943e-05 -3.94244380e-05 -8.98397866e-06 ... -1.17908843e-04\n   -1.74483313e-04  7.95627693e-06]\n  [ 4.10493249e-06  2.67523455e-06 -8.83458415e-06 ... -3.79976191e-05\n   -3.89126617e-05  3.83897568e-05]\n  [-1.94369732e-05 -4.36520277e-05 -6.64621984e-05 ...  1.52416521e-06\n   -5.24653842e-07  1.09123976e-05]\n  ...\n  [-2.63961811e-05 -2.31034064e-05  1.17480486e-05 ...  5.84618647e-06\n   -1.53013039e-04 -6.36044017e-04]\n  [-8.28978045e-06 -3.71298370e-07  3.07650116e-05 ... -1.73915832e-04\n    2.32782895e-06 -2.35902786e-04]\n  [ 1.47979263e-05  2.57134474e-08  1.67404432e-05 ... -4.19073709e-04\n   -1.53085799e-04  1.22462625e-05]]]) has attribute 'isel'"
     ]
    }
   ],
   "source": [
    "stretch_term.isel(nk=0)"
   ]
  },
  {
   "cell_type": "markdown",
   "id": "05200a4e-d605-4b18-b04e-4e5418be173d",
   "metadata": {},
   "source": [
    "**Tilting Term.**"
   ]
  },
  {
   "cell_type": "code",
   "execution_count": 9,
   "id": "10e0ada3-0103-489c-b086-e5a74d2d5e5f",
   "metadata": {},
   "outputs": [],
   "source": [
    "dwdx = mpcalc.first_derivative(w, delta=dx[1]-dx[0])\n",
    "dvdz = mpcalc.first_derivative(v, delta=dz[1]-dz[0])\n",
    "dwdy = mpcalc.first_derivative(w, delta=dy[1]-dy[0])\n",
    "dudz = mpcalc.first_derivative(u, delta=dz[1]-dz[0])\n",
    "\n",
    "def tilting_term(dwdy, dudz, dwdx, dvdz):\n",
    "    return(dwdy*dudz + dwdx*dvdz)\n",
    "tilt_term = tilting_term(dwdy,dudz,dwdy,dvdz)"
   ]
  },
  {
   "cell_type": "markdown",
   "id": "d9d81e86-7350-40b7-87a4-5aac98550e97",
   "metadata": {},
   "source": [
    "**Soldenoidal term.**"
   ]
  },
  {
   "cell_type": "code",
   "execution_count": null,
   "id": "17a66921-348b-4b1e-8696-523afea7a7fe",
   "metadata": {},
   "outputs": [],
   "source": []
  },
  {
   "cell_type": "markdown",
   "id": "98437277-acce-4f85-885b-fca90b1c92d5",
   "metadata": {},
   "source": [
    "**Local tendency.**"
   ]
  },
  {
   "cell_type": "code",
   "execution_count": 10,
   "id": "b14e550c-205d-4672-843f-1c03f92cca52",
   "metadata": {
    "tags": []
   },
   "outputs": [],
   "source": [
    "dvortdt = horiz_adv.values + vert_adv.values + stretch_term*units('s^2') + tilt_term*units('s^2') # + solenoid_term"
   ]
  },
  {
   "cell_type": "code",
   "execution_count": null,
   "id": "ad66cabe-9541-41c8-b6fd-0787d2adedbd",
   "metadata": {},
   "outputs": [],
   "source": []
  }
 ],
 "metadata": {
  "kernelspec": {
   "display_name": "Python 3 August 2023 Environment",
   "language": "python",
   "name": "aug23"
  },
  "language_info": {
   "codemirror_mode": {
    "name": "ipython",
    "version": 3
   },
   "file_extension": ".py",
   "mimetype": "text/x-python",
   "name": "python",
   "nbconvert_exporter": "python",
   "pygments_lexer": "ipython3",
   "version": "3.11.4"
  }
 },
 "nbformat": 4,
 "nbformat_minor": 5
}
