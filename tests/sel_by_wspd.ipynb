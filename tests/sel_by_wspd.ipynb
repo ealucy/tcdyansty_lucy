{
 "cells": [
  {
   "cell_type": "code",
   "execution_count": 1,
   "id": "8bdb7697-1c1e-4d59-9b71-e28958e9a4bb",
   "metadata": {
    "tags": []
   },
   "outputs": [],
   "source": [
    "import xarray as xr\n",
    "import numpy as np\n",
    "import metpy.calc as mpcalc\n",
    "from metpy.units import units"
   ]
  },
  {
   "cell_type": "code",
   "execution_count": 2,
   "id": "7a55c015-4701-4f47-9973-4a1ac3060296",
   "metadata": {
    "tags": []
   },
   "outputs": [],
   "source": [
    "files = ['cm1out_000005.nc','cm1out_000006.nc',\n",
    "        'cm1out_000007.nc','cm1out_000008.nc']"
   ]
  },
  {
   "cell_type": "code",
   "execution_count": 3,
   "id": "5901644a-ff9e-46d0-9296-d73b5f8af27a",
   "metadata": {
    "tags": []
   },
   "outputs": [],
   "source": [
    "ds = xr.open_mfdataset(files)"
   ]
  },
  {
   "cell_type": "code",
   "execution_count": 4,
   "id": "9109383b-ba4a-4e1a-bb94-639903e9edcc",
   "metadata": {
    "tags": []
   },
   "outputs": [],
   "source": [
    "dx = ds['xh'].isel(time=0)*units('m')\n",
    "dy = ds['yh'].isel(time=0)*units('m')\n",
    "dz = ds['zh'].isel(time=0)*units('m')"
   ]
  },
  {
   "cell_type": "code",
   "execution_count": 5,
   "id": "ac794c6e-485e-4118-8bd8-1efb21345998",
   "metadata": {
    "tags": []
   },
   "outputs": [],
   "source": [
    "wspd = mpcalc.wind_speed(ds['u'].isel(nk=0), ds['v'].isel(nk=0))"
   ]
  },
  {
   "cell_type": "code",
   "execution_count": 6,
   "id": "9ff11bf5-a3cc-416c-8f61-16af4fb450ba",
   "metadata": {
    "tags": []
   },
   "outputs": [
    {
     "data": {
      "text/plain": [
       "(array([0, 0, 0, 0, 0, 0, 0, 0, 0, 0, 0, 0, 0, 0, 0, 0, 0, 0, 0, 0, 0, 0,\n",
       "        0, 0, 0, 0, 0, 0, 0, 1, 1, 1, 1, 1, 1, 1, 1, 1, 1, 1, 1, 1, 1, 1,\n",
       "        1, 1, 1, 1, 1, 1, 1, 1, 2, 2, 2, 2, 2, 2, 2, 2, 2, 2, 2, 2, 2, 2,\n",
       "        2, 2, 2, 2, 2, 3, 3, 3, 3, 3, 3, 3, 3, 3, 3, 3, 3, 3, 3]),\n",
       " array([ 459,  459,  460,  480,  480,  480,  481,  481,  481,  492,  492,\n",
       "         492,  493,  493,  493,  494,  494,  565,  565,  566,  566,  567,\n",
       "         738,  758,  759,  760,  842, 1006, 1007,  461,  480,  480,  481,\n",
       "         494,  494,  494,  495,  495,  495,  495,  568,  568,  569,  569,\n",
       "         736,  760,  761,  762,  844,  845, 1008, 1009,  462,  463,  480,\n",
       "         480,  480,  496,  496,  496,  497,  497,  497,  570,  570,  571,\n",
       "         571,  733,  734,  735, 1010,  464,  465,  480,  480,  498,  498,\n",
       "         498,  499,  499,  572,  573,  731,  732, 1012]),\n",
       " array([ 996,  997,  997,  691,  692,  693,  691,  692,  693, 1004, 1005,\n",
       "        1006, 1004, 1005, 1006, 1004, 1005, 1044, 1045, 1045, 1046, 1046,\n",
       "         418, 1229, 1229, 1229, 1207, 1163, 1163,  999,  694,  695,  695,\n",
       "        1006, 1007, 1008, 1005, 1006, 1007, 1008, 1046, 1047, 1047, 1048,\n",
       "         419, 1228, 1228, 1228, 1206, 1206, 1161, 1161, 1001, 1001,  696,\n",
       "         697,  698, 1008, 1009, 1010, 1008, 1009, 1010, 1047, 1048, 1048,\n",
       "        1049,  420,  420,  420, 1159, 1003, 1003,  699,  700, 1009, 1010,\n",
       "        1011, 1010, 1011, 1049, 1050,  421,  421, 1157]))"
      ]
     },
     "execution_count": 6,
     "metadata": {},
     "output_type": "execute_result"
    }
   ],
   "source": [
    "np.where(wspd>=100*units('m/s'))"
   ]
  },
  {
   "cell_type": "code",
   "execution_count": 7,
   "id": "f6abedee-e8ad-44aa-9444-cde6596c6c15",
   "metadata": {
    "tags": []
   },
   "outputs": [],
   "source": [
    "by_time = []\n",
    "for i in range(0, 4):\n",
    "    wspd = mpcalc.wind_speed(ds['u'].isel(nk=0, time=i), ds['v'].isel(nk=0, time=i))\n",
    "    loc = np.where(wspd>=100*units('m/s'))\n",
    "    by_time.append(loc)"
   ]
  },
  {
   "cell_type": "code",
   "execution_count": 8,
   "id": "81784a34-8c6c-4f6b-b695-edf9ea925581",
   "metadata": {
    "tags": []
   },
   "outputs": [
    {
     "data": {
      "text/plain": [
       "[(array([ 459,  459,  460,  480,  480,  480,  481,  481,  481,  492,  492,\n",
       "          492,  493,  493,  493,  494,  494,  565,  565,  566,  566,  567,\n",
       "          738,  758,  759,  760,  842, 1006, 1007]),\n",
       "  array([ 996,  997,  997,  691,  692,  693,  691,  692,  693, 1004, 1005,\n",
       "         1006, 1004, 1005, 1006, 1004, 1005, 1044, 1045, 1045, 1046, 1046,\n",
       "          418, 1229, 1229, 1229, 1207, 1163, 1163])),\n",
       " (array([ 461,  480,  480,  481,  494,  494,  494,  495,  495,  495,  495,\n",
       "          568,  568,  569,  569,  736,  760,  761,  762,  844,  845, 1008,\n",
       "         1009]),\n",
       "  array([ 999,  694,  695,  695, 1006, 1007, 1008, 1005, 1006, 1007, 1008,\n",
       "         1046, 1047, 1047, 1048,  419, 1228, 1228, 1228, 1206, 1206, 1161,\n",
       "         1161])),\n",
       " (array([ 462,  463,  480,  480,  480,  496,  496,  496,  497,  497,  497,\n",
       "          570,  570,  571,  571,  733,  734,  735, 1010]),\n",
       "  array([1001, 1001,  696,  697,  698, 1008, 1009, 1010, 1008, 1009, 1010,\n",
       "         1047, 1048, 1048, 1049,  420,  420,  420, 1159])),\n",
       " (array([ 464,  465,  480,  480,  498,  498,  498,  499,  499,  572,  573,\n",
       "          731,  732, 1012]),\n",
       "  array([1003, 1003,  699,  700, 1009, 1010, 1011, 1010, 1011, 1049, 1050,\n",
       "          421,  421, 1157]))]"
      ]
     },
     "execution_count": 8,
     "metadata": {},
     "output_type": "execute_result"
    }
   ],
   "source": [
    "by_time"
   ]
  },
  {
   "cell_type": "code",
   "execution_count": 9,
   "id": "2fc294b3-ef0c-4d50-ba94-1f38bbe0702d",
   "metadata": {
    "tags": []
   },
   "outputs": [],
   "source": [
    "time1_locs = by_time[0]\n",
    "time2_locs = by_time[1]\n",
    "time3_locs = by_time[2]\n",
    "time4_locs = by_time[3]"
   ]
  },
  {
   "cell_type": "code",
   "execution_count": 10,
   "id": "c3c4b35d-d0c0-4970-948a-cbb8297843df",
   "metadata": {
    "tags": []
   },
   "outputs": [
    {
     "data": {
      "text/plain": [
       "(array([ 459,  459,  460,  480,  480,  480,  481,  481,  481,  492,  492,\n",
       "         492,  493,  493,  493,  494,  494,  565,  565,  566,  566,  567,\n",
       "         738,  758,  759,  760,  842, 1006, 1007]),\n",
       " array([ 996,  997,  997,  691,  692,  693,  691,  692,  693, 1004, 1005,\n",
       "        1006, 1004, 1005, 1006, 1004, 1005, 1044, 1045, 1045, 1046, 1046,\n",
       "         418, 1229, 1229, 1229, 1207, 1163, 1163]))"
      ]
     },
     "execution_count": 10,
     "metadata": {},
     "output_type": "execute_result"
    }
   ],
   "source": [
    "time1_locs"
   ]
  },
  {
   "cell_type": "markdown",
   "id": "74569298-fd27-4e21-9d12-8b89918e7267",
   "metadata": {},
   "source": [
    "## ok, let's try something else ##"
   ]
  },
  {
   "cell_type": "code",
   "execution_count": 11,
   "id": "db09f574-f502-4a72-8abe-f648f17052da",
   "metadata": {
    "tags": []
   },
   "outputs": [],
   "source": [
    "ds=xr.open_dataset('cm1out_000005.nc')\n",
    "\n",
    "num_x = ds.ni\n",
    "num_y = ds.nj\n",
    "num_z = ds.nk\n",
    "\n",
    "dx = ds['xh']*units('m')\n",
    "dy = ds['yh']*units('m')\n",
    "dz = ds['zh']*units('m')\n",
    "\n",
    "u = ds['u']\n",
    "v = ds['v']\n",
    "w = ds['w']\n",
    "\n",
    "x_space = 31.25*units('m')\n",
    "y_space = 31.25*units('m')\n",
    "z_space = 15.625*units('m')"
   ]
  },
  {
   "cell_type": "code",
   "execution_count": 12,
   "id": "8ab1cb1f-925a-45e9-a345-68fd1a4f9306",
   "metadata": {},
   "outputs": [
    {
     "name": "stderr",
     "output_type": "stream",
     "text": [
      "/tmp/ipykernel_3708683/946820300.py:2: UserWarning: Horizontal dimension numbers not found. Defaulting to (..., Y, X) order.\n",
      "  rel_vort = mpcalc.vorticity(ds['u'].isel(nk=0), ds['v'].isel(nk=0), dx=dx[1]-dx[0], dy=dy[1]-dy[0])\n"
     ]
    }
   ],
   "source": [
    "wspd = mpcalc.wind_speed(ds['u'].isel(nk=0), ds['v'].isel(nk=0))\n",
    "rel_vort = mpcalc.vorticity(ds['u'].isel(nk=0), ds['v'].isel(nk=0), dx=dx[1]-dx[0], dy=dy[1]-dy[0])"
   ]
  },
  {
   "cell_type": "code",
   "execution_count": 13,
   "id": "61619932-37bf-4f0d-ad39-37d23b8a4440",
   "metadata": {
    "tags": []
   },
   "outputs": [],
   "source": [
    "condition = np.logical_and(wspd>=100*units('m/s'), rel_vort>=.2*units('1/s'))"
   ]
  },
  {
   "cell_type": "code",
   "execution_count": 14,
   "id": "f6393e8d-d160-4719-b2eb-7e0018ec380f",
   "metadata": {
    "tags": []
   },
   "outputs": [
    {
     "data": {
      "text/plain": [
       "(array([0, 0, 0, 0, 0, 0, 0, 0, 0, 0]),\n",
       " array([459, 459, 460, 481, 481, 481, 493, 493, 494, 494]),\n",
       " array([ 996,  997,  997,  691,  692,  693, 1004, 1005, 1004, 1005]))"
      ]
     },
     "execution_count": 14,
     "metadata": {},
     "output_type": "execute_result"
    }
   ],
   "source": [
    "np.where(condition==True) #t, y, x order"
   ]
  },
  {
   "cell_type": "markdown",
   "id": "7821cdb6-e2a6-48e8-adf7-df826a5d527b",
   "metadata": {},
   "source": [
    " these are lowest model level conditions...could broaden to Wu et al. (2018, 2019): rel vort not less than .2 in lowest 3000 m, w over 20 m/s in lowest 3000 m, doesnt use wspd threshold, circulation has to have diameter of 1-2 km (but not gonna worry about that yet)"
   ]
  },
  {
   "cell_type": "markdown",
   "id": "e289a259-c9b0-4c95-9609-2f7784e5c93c",
   "metadata": {},
   "source": [
    "# let's see what chatgpt has to say"
   ]
  },
  {
   "cell_type": "code",
   "execution_count": 19,
   "id": "424cce40-a3b3-4893-843a-7ef7153d32a9",
   "metadata": {
    "tags": []
   },
   "outputs": [],
   "source": [
    "condition_wspd = wspd >= 100*units('m/s')\n",
    "condition_vort = rel_vort >= .2*units('1/s')"
   ]
  },
  {
   "cell_type": "code",
   "execution_count": 23,
   "id": "242a89b9-1b9c-4a3e-975e-c15b16be9281",
   "metadata": {},
   "outputs": [],
   "source": [
    "window_size = 4 # 3 data points plus the current one\n",
    "no_spatial_overlap_wspd = (condition_wspd.rolling(ni=window_size, min_periods=1).sum() == 1) & (condition_wspd.rolling(nj=window_size, min_periods=1).sum() == 1)\n",
    "no_spatial_overlap_vort = (condition_vort.rolling(ni=window_size, min_periods=1).sum() == 1) & (condition_vort.rolling(nj=window_size, min_periods=1).sum() == 1)"
   ]
  },
  {
   "cell_type": "code",
   "execution_count": 24,
   "id": "f7c09a2c-35bb-4bfd-b33d-ecc6bb41c8b0",
   "metadata": {
    "tags": []
   },
   "outputs": [],
   "source": [
    "apply_conditions = no_spatial_overlap_wspd & condition_wspd & no_spatial_overlap_vort & condition_vort"
   ]
  },
  {
   "cell_type": "markdown",
   "id": "4cd958ea-0b3f-4c29-8546-1ed7948685d1",
   "metadata": {
    "tags": []
   },
   "source": [
    "# well that was wrong...instead of selecting only one of the indices within 3 data points of each other, i eliminated them all"
   ]
  },
  {
   "cell_type": "code",
   "execution_count": 61,
   "id": "c4c12faf-a0ff-4920-bbd0-8f250b12920c",
   "metadata": {
    "tags": []
   },
   "outputs": [],
   "source": [
    "condition_wspd = wspd >= 100*units('m/s')\n",
    "condition_vort = rel_vort >= .2*units('1/s')\n",
    "\n",
    "combined_condition = condition_wspd & condition_vort\n",
    "\n",
    "initial_indices = np.argwhere((condition_wspd & condition_vort).values)\n",
    "\n",
    "# function to filter indices that are not within 3 indices of each other in both \"ni\" and \"nj\" dimensions\n",
    "def filter_indices(indices):\n",
    "    selected_indices = []\n",
    "    for index in indices:\n",
    "        if not any(np.all(np.abs(index - other) <= 3) for other in selected_indices):\n",
    "            selected_indices.append(index)\n",
    "    return selected_indices\n",
    "\n",
    "# filter the initial indices\n",
    "final_indices = filter_indices(initial_indices)"
   ]
  },
  {
   "cell_type": "code",
   "execution_count": 71,
   "id": "d4c5ea51-b653-4ed2-b532-b048e7cfbab2",
   "metadata": {
    "tags": []
   },
   "outputs": [
    {
     "data": {
      "text/plain": [
       "[array([  0, 459, 996]), array([  0, 481, 691]), array([   0,  493, 1004])]"
      ]
     },
     "execution_count": 71,
     "metadata": {},
     "output_type": "execute_result"
    }
   ],
   "source": [
    "final_indices"
   ]
  },
  {
   "cell_type": "markdown",
   "id": "636773eb-6286-4294-8c35-4debbab49b9a",
   "metadata": {},
   "source": [
    "# okay...apply to multitple times"
   ]
  },
  {
   "cell_type": "code",
   "execution_count": 80,
   "id": "5ee5c59a-bbb7-4221-a6e9-389e1e91a817",
   "metadata": {
    "tags": []
   },
   "outputs": [
    {
     "name": "stderr",
     "output_type": "stream",
     "text": [
      "/tmp/ipykernel_3708683/3290436273.py:8: UserWarning: Horizontal dimension numbers not found. Defaulting to (..., Y, X) order.\n",
      "  rel_vort = mpcalc.vorticity(ds['u'].isel(nk=0), ds['v'].isel(nk=0), dx=dx[1]-dx[0], dy=dy[1]-dy[0])\n"
     ]
    },
    {
     "data": {
      "text/plain": [
       "[array([  0, 461, 999]),\n",
       " array([  0, 480, 694]),\n",
       " array([   0,  495, 1005]),\n",
       " array([   0,  762, 1228])]"
      ]
     },
     "execution_count": 80,
     "metadata": {},
     "output_type": "execute_result"
    }
   ],
   "source": [
    "ds = xr.open_dataset('cm1out_000006.nc')\n",
    "\n",
    "dx = ds['xh']*units('m')\n",
    "dy = ds['yh']*units('m')\n",
    "dz = ds['zh']*units('m')\n",
    "\n",
    "wspd = mpcalc.wind_speed(ds['u'].isel(nk=0), ds['v'].isel(nk=0))\n",
    "rel_vort = mpcalc.vorticity(ds['u'].isel(nk=0), ds['v'].isel(nk=0), dx=dx[1]-dx[0], dy=dy[1]-dy[0])\n",
    "\n",
    "condition_wspd = wspd >= 100*units('m/s')\n",
    "condition_vort = rel_vort >= .2*units('1/s')\n",
    "\n",
    "combined_condition = condition_wspd & condition_vort\n",
    "\n",
    "initial_indices = np.argwhere((condition_wspd & condition_vort).values)\n",
    "\n",
    "# function to filter indices that are not within 3 indices of each other in both \"ni\" and \"nj\" dimensions\n",
    "def filter_indices(indices):\n",
    "    selected_indices = []\n",
    "    for index in indices:\n",
    "        if not any(np.all(np.abs(index - other) <= 3) for other in selected_indices):\n",
    "            selected_indices.append(index)\n",
    "    return selected_indices\n",
    "\n",
    "# filter the initial indices\n",
    "final_indices = filter_indices(initial_indices)\n",
    "final_indices"
   ]
  },
  {
   "cell_type": "code",
   "execution_count": 81,
   "id": "f9fd6834-5b30-4ff3-b378-c3d2d5e66de5",
   "metadata": {
    "tags": []
   },
   "outputs": [
    {
     "name": "stderr",
     "output_type": "stream",
     "text": [
      "/tmp/ipykernel_3708683/3595271176.py:8: UserWarning: Horizontal dimension numbers not found. Defaulting to (..., Y, X) order.\n",
      "  rel_vort = mpcalc.vorticity(ds['u'].isel(nk=0), ds['v'].isel(nk=0), dx=dx[1]-dx[0], dy=dy[1]-dy[0])\n"
     ]
    },
    {
     "data": {
      "text/plain": [
       "[array([   0,  463, 1001]),\n",
       " array([  0, 480, 696]),\n",
       " array([   0,  497, 1008]),\n",
       " array([   0,  570, 1047]),\n",
       " array([  0, 733, 420]),\n",
       " array([   0, 1010, 1159])]"
      ]
     },
     "execution_count": 81,
     "metadata": {},
     "output_type": "execute_result"
    }
   ],
   "source": [
    "ds = xr.open_dataset('cm1out_000007.nc')\n",
    "\n",
    "dx = ds['xh']*units('m')\n",
    "dy = ds['yh']*units('m')\n",
    "dz = ds['zh']*units('m')\n",
    "\n",
    "wspd = mpcalc.wind_speed(ds['u'].isel(nk=0), ds['v'].isel(nk=0))\n",
    "rel_vort = mpcalc.vorticity(ds['u'].isel(nk=0), ds['v'].isel(nk=0), dx=dx[1]-dx[0], dy=dy[1]-dy[0])\n",
    "\n",
    "condition_wspd = wspd >= 100*units('m/s')\n",
    "condition_vort = rel_vort >= .2*units('1/s')\n",
    "\n",
    "combined_condition = condition_wspd & condition_vort\n",
    "\n",
    "initial_indices = np.argwhere((condition_wspd & condition_vort).values)\n",
    "\n",
    "# function to filter indices that are not within 3 indices of each other in both \"ni\" and \"nj\" dimensions\n",
    "def filter_indices(indices):\n",
    "    selected_indices = []\n",
    "    for index in indices:\n",
    "        if not any(np.all(np.abs(index - other) <= 3) for other in selected_indices):\n",
    "            selected_indices.append(index)\n",
    "    return selected_indices\n",
    "\n",
    "# filter the initial indices\n",
    "final_indices = filter_indices(initial_indices)\n",
    "final_indices"
   ]
  },
  {
   "cell_type": "code",
   "execution_count": 82,
   "id": "42c978f2-97f9-4574-9c95-248d1f6656ac",
   "metadata": {
    "tags": []
   },
   "outputs": [
    {
     "name": "stderr",
     "output_type": "stream",
     "text": [
      "/tmp/ipykernel_3708683/247533993.py:8: UserWarning: Horizontal dimension numbers not found. Defaulting to (..., Y, X) order.\n",
      "  rel_vort = mpcalc.vorticity(ds['u'].isel(nk=0), ds['v'].isel(nk=0), dx=dx[1]-dx[0], dy=dy[1]-dy[0])\n"
     ]
    },
    {
     "data": {
      "text/plain": [
       "[array([   0,  464, 1003]),\n",
       " array([  0, 480, 699]),\n",
       " array([   0,  498, 1009]),\n",
       " array([  0, 731, 421]),\n",
       " array([   0, 1012, 1157])]"
      ]
     },
     "execution_count": 82,
     "metadata": {},
     "output_type": "execute_result"
    }
   ],
   "source": [
    "ds = xr.open_dataset('cm1out_000008.nc')\n",
    "\n",
    "dx = ds['xh']*units('m')\n",
    "dy = ds['yh']*units('m')\n",
    "dz = ds['zh']*units('m')\n",
    "\n",
    "wspd = mpcalc.wind_speed(ds['u'].isel(nk=0), ds['v'].isel(nk=0))\n",
    "rel_vort = mpcalc.vorticity(ds['u'].isel(nk=0), ds['v'].isel(nk=0), dx=dx[1]-dx[0], dy=dy[1]-dy[0])\n",
    "\n",
    "condition_wspd = wspd >= 100*units('m/s')\n",
    "condition_vort = rel_vort >= .2*units('1/s')\n",
    "\n",
    "combined_condition = condition_wspd & condition_vort\n",
    "\n",
    "initial_indices = np.argwhere((condition_wspd & condition_vort).values)\n",
    "\n",
    "# function to filter indices that are not within 3 indices of each other in both \"ni\" and \"nj\" dimensions\n",
    "def filter_indices(indices):\n",
    "    selected_indices = []\n",
    "    for index in indices:\n",
    "        if not any(np.all(np.abs(index - other) <= 3) for other in selected_indices):\n",
    "            selected_indices.append(index)\n",
    "    return selected_indices\n",
    "\n",
    "# filter the initial indices\n",
    "final_indices = filter_indices(initial_indices)\n",
    "final_indices"
   ]
  },
  {
   "cell_type": "code",
   "execution_count": 83,
   "id": "f20542df-cf8f-4afc-ac5c-9c8fbd67e6d4",
   "metadata": {
    "tags": []
   },
   "outputs": [
    {
     "name": "stderr",
     "output_type": "stream",
     "text": [
      "/tmp/ipykernel_3708683/2192156186.py:8: UserWarning: Horizontal dimension numbers not found. Defaulting to (..., Y, X) order.\n",
      "  rel_vort = mpcalc.vorticity(ds['u'].isel(nk=0), ds['v'].isel(nk=0), dx=dx[1]-dx[0], dy=dy[1]-dy[0])\n"
     ]
    },
    {
     "data": {
      "text/plain": [
       "[array([   0,  466, 1005]),\n",
       " array([  0, 479, 702]),\n",
       " array([   0,  500, 1012]),\n",
       " array([   0, 1014, 1155])]"
      ]
     },
     "execution_count": 83,
     "metadata": {},
     "output_type": "execute_result"
    }
   ],
   "source": [
    "ds = xr.open_dataset('cm1out_000009.nc')\n",
    "\n",
    "dx = ds['xh']*units('m')\n",
    "dy = ds['yh']*units('m')\n",
    "dz = ds['zh']*units('m')\n",
    "\n",
    "wspd = mpcalc.wind_speed(ds['u'].isel(nk=0), ds['v'].isel(nk=0))\n",
    "rel_vort = mpcalc.vorticity(ds['u'].isel(nk=0), ds['v'].isel(nk=0), dx=dx[1]-dx[0], dy=dy[1]-dy[0])\n",
    "\n",
    "condition_wspd = wspd >= 100*units('m/s')\n",
    "condition_vort = rel_vort >= .2*units('1/s')\n",
    "\n",
    "combined_condition = condition_wspd & condition_vort\n",
    "\n",
    "initial_indices = np.argwhere((condition_wspd & condition_vort).values)\n",
    "\n",
    "# function to filter indices that are not within 3 indices of each other in both \"ni\" and \"nj\" dimensions\n",
    "def filter_indices(indices):\n",
    "    selected_indices = []\n",
    "    for index in indices:\n",
    "        if not any(np.all(np.abs(index - other) <= 3) for other in selected_indices):\n",
    "            selected_indices.append(index)\n",
    "    return selected_indices\n",
    "\n",
    "# filter the initial indices\n",
    "final_indices = filter_indices(initial_indices)\n",
    "final_indices"
   ]
  },
  {
   "cell_type": "markdown",
   "id": "a169f5ac-2aab-469b-9f3e-1607655312a8",
   "metadata": {},
   "source": [
    "# cool...but for some reason it takes 8 million years to calculate vorticity for multiple times at once using mfdataset...enough that i have to stop the cell from running...and this method still isnt useful for the entire dataset without dask"
   ]
  },
  {
   "cell_type": "code",
   "execution_count": null,
   "id": "25f43bed-0a73-4da1-be6b-3583865f3dd3",
   "metadata": {},
   "outputs": [],
   "source": []
  }
 ],
 "metadata": {
  "kernelspec": {
   "display_name": "Python 3 August 2023 Environment",
   "language": "python",
   "name": "aug23"
  },
  "language_info": {
   "codemirror_mode": {
    "name": "ipython",
    "version": 3
   },
   "file_extension": ".py",
   "mimetype": "text/x-python",
   "name": "python",
   "nbconvert_exporter": "python",
   "pygments_lexer": "ipython3",
   "version": "3.11.4"
  }
 },
 "nbformat": 4,
 "nbformat_minor": 5
}
