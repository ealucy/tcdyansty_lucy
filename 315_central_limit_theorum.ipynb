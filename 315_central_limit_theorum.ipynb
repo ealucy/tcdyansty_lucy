{
 "cells": [
  {
   "cell_type": "code",
   "execution_count": 16,
   "id": "animal-bruce",
   "metadata": {},
   "outputs": [],
   "source": [
    "import numpy as np\n",
    "import matplotlib.pyplot as plt\n",
    "\n",
    "\n",
    "\n",
    "\n",
    "from scipy.stats import norm"
   ]
  },
  {
   "cell_type": "code",
   "execution_count": 17,
   "id": "catholic-lithuania",
   "metadata": {},
   "outputs": [],
   "source": [
    "def summary(y,**kwargs):\n",
    "    \"\"\"Prints summary statistics of the data (random variables)\n",
    "    \n",
    "    Input parameter: \n",
    "        y (1-d numpy array) : array with sample data\n",
    "    Returns:\n",
    "        a tuple with mean, standard deviation, minimum, maximum \n",
    "    \"\"\"\n",
    "    # end of function's docstring (shows up when typing help(summary))\n",
    "    \n",
    "    # Note the print function uses inside the strings the placeholder %12.4f for \n",
    "    # formatting the list (Python type 'tuple') of numbers such as mean and stddev\n",
    "    # they are printed where %12.4f shows up in the string #########.####\n",
    "    \n",
    "    print(40*\"-\")\n",
    "    print('Summary statistics for the data:')\n",
    "    if np.NAN in y:\n",
    "        n=np.size(y)\n",
    "        nmiss=np.sum(np.isnan(y))  \n",
    "        nsample=n-nmiss\n",
    "        print('Array size='+str(n))   \n",
    "        print('Detected NAN (missing values) in array :'+str(nmiss))\n",
    "        print('Sample size:'+str(nsample))\n",
    "        m=np.nanmean(y)\n",
    "        s=np.nanstd(y)\n",
    "        mn=np.nanmin(y)\n",
    "        mx=np.nanmax(y)\n",
    "    else:\n",
    "        nsample=np.size(y)\n",
    "        print ('Sample size='+str(nsample))\n",
    "        m=np.mean(y)\n",
    "        s=np.std(y)\n",
    "        mn=np.min(y)\n",
    "        mx=np.max(y)\n",
    "    print ('mean   : %12.4f' % (m))\n",
    "    print ('stddev : %12.4f' % (s))  \n",
    "    print ('mininum: %12.4f' % (mn))\n",
    "    print ('maximum: %12.4f' % (mx))\n",
    "    return m,s,mn,mx"
   ]
  },
  {
   "cell_type": "code",
   "execution_count": 26,
   "id": "egyptian-infrared",
   "metadata": {},
   "outputs": [],
   "source": [
    "# **********************************************************\n",
    "# User control parameters\n",
    "# **********************************************************\n",
    "isCheck=True\n",
    "nsample=1000 # size of the array with random values"
   ]
  },
  {
   "cell_type": "code",
   "execution_count": 27,
   "id": "therapeutic-prophet",
   "metadata": {},
   "outputs": [
    {
     "name": "stdout",
     "output_type": "stream",
     "text": [
      "\n",
      "\n",
      "Just checking: what is x1?\n",
      "\tObject type:  <class 'numpy.ndarray'>\n",
      "\tSize : 1000\n",
      "\t1-dim array with 1000 numbers\n",
      "\n",
      "\n",
      "----------------------------------------\n",
      "Summary statistics for the data:\n",
      "Sample size=1000\n",
      "mean   :       0.5114\n",
      "stddev :       0.2885\n",
      "mininum:       0.0004\n",
      "maximum:       0.9985\n"
     ]
    }
   ],
   "source": [
    "# Independent and identically uniformly distributed random numbers\n",
    "x1=np.random.uniform(size=nsample)\n",
    "\n",
    "if isCheck:\n",
    "    print()\n",
    "    print()\n",
    "    print('Just checking: what is x1?')\n",
    "    print('\\tObject type: ', type(x1))\n",
    "    print('\\tSize : ' + str(np.size(x1)))\n",
    "    print('\\t1-dim array with '+str(nsample)+' numbers')\n",
    "    print()\n",
    "    print()\n",
    "\n",
    "m,s,mn,mx=summary(x1)"
   ]
  },
  {
   "cell_type": "code",
   "execution_count": 29,
   "id": "perfect-reward",
   "metadata": {},
   "outputs": [
    {
     "data": {
      "image/png": "[encoded data removed]",
      "text/plain": [
       "<Figure size 432x288 with 1 Axes>"
      ]
     },
     "metadata": {
      "needs_background": "light"
     },
     "output_type": "display_data"
    }
   ],
   "source": [
    "plt.hist(x1,bins=10,edgecolor='orange',label='x1',lw=1,fill=False)\n",
    "plt.legend()\n",
    "plt.title(\"Histogram of a uniformly distributed random variable\")\n",
    "plt.show()"
   ]
  },
  {
   "cell_type": "code",
   "execution_count": 21,
   "id": "north-quantity",
   "metadata": {},
   "outputs": [
    {
     "name": "stdout",
     "output_type": "stream",
     "text": [
      "----------------------------------------\n",
      "Summary statistics for the data:\n",
      "Sample size=1000\n",
      "mean   :       0.4984\n",
      "stddev :       0.2934\n",
      "mininum:       0.0005\n",
      "maximum:       1.0000\n",
      "----------------------------------------\n",
      "Summary statistics for the data:\n",
      "Sample size=1000\n",
      "mean   :       0.4946\n",
      "stddev :       0.2947\n",
      "mininum:       0.0024\n",
      "maximum:       0.9974\n"
     ]
    }
   ],
   "source": [
    "# **********************************************************\n",
    "# Now we create two uniformly distributed random variables\n",
    "# **********************************************************\n",
    "\n",
    "# two independent and identically distributed random number sets\n",
    "x1=np.random.uniform(size=nsample)\n",
    "x2=np.random.uniform(size=nsample)\n",
    "\n",
    "m1,s1,mn1,mx1=summary(x1)\n",
    "m2,s2,mn2,mx2=summary(x2)"
   ]
  },
  {
   "cell_type": "code",
   "execution_count": 22,
   "id": "married-better",
   "metadata": {},
   "outputs": [
    {
     "data": {
      "image/png": "[encoded data removed]",
      "text/plain": [
       "<Figure size 432x288 with 1 Axes>"
      ]
     },
     "metadata": {
      "needs_background": "light"
     },
     "output_type": "display_data"
    }
   ],
   "source": [
    "plt.hist(x1,bins=10,edgecolor='purple',label='x1',lw=2,fill=False)\n",
    "plt.hist(x2,bins=10,edgecolor='blue',label='x2',lw=1,fill=False)\n",
    "plt.title(\"histogram for uniformly distributed random variables\")\n",
    "plt.legend()\n",
    "plt.show()"
   ]
  },
  {
   "cell_type": "code",
   "execution_count": 30,
   "id": "grateful-parent",
   "metadata": {},
   "outputs": [
    {
     "name": "stdout",
     "output_type": "stream",
     "text": [
      "----------------------------------------\n",
      "Summary statistics for the data:\n",
      "Sample size=1000\n",
      "mean   :       0.4998\n",
      "stddev :       0.2887\n",
      "mininum:       0.0006\n",
      "maximum:       0.9994\n",
      "----------------------------------------\n",
      "Summary statistics for the data:\n",
      "Sample size=1000\n",
      "mean   :       0.4859\n",
      "stddev :       0.2928\n",
      "mininum:       0.0002\n",
      "maximum:       0.9992\n",
      "\n",
      "The sum of the two uniformly distributed random variables:\n",
      "----------------------------------------\n",
      "Summary statistics for the data:\n",
      "Sample size=1000\n",
      "mean   :       0.9857\n",
      "stddev :       0.4076\n",
      "mininum:       0.0169\n",
      "maximum:       1.9455\n"
     ]
    }
   ],
   "source": [
    "# summation of two independent and identically distributed random number sets\n",
    "x1=np.random.uniform(size=nsample)\n",
    "x2=np.random.uniform(size=nsample)\n",
    "\n",
    "m1,s1,mn1,mx1=summary(x1)\n",
    "m2,s2,mn2,mx2=summary(x2)\n",
    "\n",
    "y=(x1+x2)\n",
    "print()\n",
    "print (\"The sum of the two uniformly distributed random variables:\")\n",
    "ym,ys,ymn,ymx=summary(y)"
   ]
  },
  {
   "cell_type": "code",
   "execution_count": 31,
   "id": "integral-young",
   "metadata": {},
   "outputs": [
    {
     "data": {
      "image/png": "[encoded data removed]",
      "text/plain": [
       "<Figure size 432x288 with 1 Axes>"
      ]
     },
     "metadata": {
      "needs_background": "light"
     },
     "output_type": "display_data"
    }
   ],
   "source": [
    "plt.hist(y,bins=10,color='cyan',edgecolor='black',label='y=x1+x2',lw=1,fill=True,alpha=0.5)\n",
    "plt.hist(x1,bins=10,edgecolor='purple',label='x1',lw=2,fill=False)\n",
    "plt.hist(x2,bins=10,edgecolor='blue',label='x2',lw=1,fill=False)\n",
    "plt.legend()\n",
    "plt.show()"
   ]
  },
  {
   "cell_type": "code",
   "execution_count": 46,
   "id": "israeli-population",
   "metadata": {},
   "outputs": [
    {
     "name": "stdout",
     "output_type": "stream",
     "text": [
      "----------------------------------------\n",
      "Summary statistics for the data:\n",
      "Sample size=1000\n",
      "mean   :       1.4892\n",
      "stddev :       0.5060\n",
      "mininum:       0.1483\n",
      "maximum:       2.7668\n"
     ]
    },
    {
     "data": {
      "image/png": "[encoded data removed]",
      "text/plain": [
       "<Figure size 864x576 with 2 Axes>"
      ]
     },
     "metadata": {
      "needs_background": "light"
     },
     "output_type": "display_data"
    }
   ],
   "source": [
    "# figure with two histograms side by side\n",
    "# sharing the same y-axis range is set off    \n",
    "x1=np.random.uniform(size=nsample)\n",
    "x2=np.random.uniform(size=nsample)\n",
    "x3=np.random.uniform(size=nsample)\n",
    "y=(x1+x2+x3)\n",
    "\n",
    "\n",
    "nbin=10 # controls how many bins (bars) the histgram uses\n",
    "fig, ax = plt.subplots(1, 2, sharex=False, sharey=False,figsize=(12,8))\n",
    "# left figure\n",
    "ax[0].hist(x1,bins=nbin,color='burlywood',density=True,histtype='step',label='x1')\n",
    "ax[0].hist(x2,bins=nbin,color='crimson',density=True,histtype='step',label='x2')\n",
    "ax[0].hist(x3,bins=nbin,color='crimson',density=True,histtype='step',label='x3')\n",
    "ax[0].set_title('uniform random variables')\n",
    "# right figure\n",
    "ax[1].hist(y,bins=nbin,color='cyan',edgecolor='black',\n",
    "           label='average (y=x1+x2)',density=True,alpha=0.5)\n",
    "ax[1].set_title('histogram for the sum of two independent \\n random uniform variables')\n",
    "\n",
    "\n",
    "# last compare with the 'best fitted gaussian PDF'\n",
    "# location parameter is the mean of y and scale parameter is the \n",
    "# standard deviation of y\n",
    "\n",
    "ym,ys,ymn,ymx=summary(y)\n",
    "# create x-values for the gaussian function plot\n",
    "xhelp=np.linspace(ymn,ymx,num=100)\n",
    "\n",
    "gaussian=norm.pdf(xhelp,ym,ys)\n",
    "\n",
    "ax[1].plot(xhelp,gaussian,color='violet',linewidth=3)\n",
    "\n",
    "fig.show()\n"
   ]
  },
  {
   "cell_type": "markdown",
   "id": "early-episode",
   "metadata": {},
   "source": [
    "Task 1: Observe what happens if you sum over more than two independent uniformly distributed random variables. \n",
    "\n",
    "NOTE\n",
    "In the text we talk about the number of summation terms (e.g. in y=x1+x2+x3 the number is 3), not to be confused with the sample size. The sample size is the amount of data values we generate for the random variables. The sample size is the amount of data values we generate for the random variables that we use in the summation.\n",
    "(a) Write code that allows you to sum over 3, 4, 5, and 6 uniformly distributed random variables."
   ]
  },
  {
   "cell_type": "code",
   "execution_count": 44,
   "id": "computational-individual",
   "metadata": {},
   "outputs": [
    {
     "data": {
      "image/png": "[encoded data removed]",
      "text/plain": [
       "<Figure size 864x576 with 2 Axes>"
      ]
     },
     "metadata": {
      "needs_background": "light"
     },
     "output_type": "display_data"
    },
    {
     "data": {
      "image/png": "[encoded data removed]",
      "text/plain": [
       "<Figure size 864x576 with 2 Axes>"
      ]
     },
     "metadata": {
      "needs_background": "light"
     },
     "output_type": "display_data"
    }
   ],
   "source": [
    "sample1=100\n",
    "x1=np.random.uniform(size=sample1)\n",
    "x2=np.random.uniform(size=sample1)\n",
    "y=(x1+x2)\n",
    "fig, ax = plt.subplots(1, 2, sharex=False, sharey=False,figsize=(12,8))\n",
    "ax[0].hist(x1,bins=nbin,color='violet',density=True,histtype='step',label='x1')\n",
    "ax[1].hist(x2,bins=nbin,color='crimson',density=True,histtype='step',label='x2')\n",
    "fig.show()\n",
    "\n",
    "\n",
    "sample1=2000\n",
    "x1=np.random.uniform(size=sample1)\n",
    "x2=np.random.uniform(size=sample1)\n",
    "y=(x1+x2)\n",
    "fig, ax = plt.subplots(1, 2, sharex=False, sharey=False,figsize=(12,8))\n",
    "ax[0].hist(x1,bins=nbin,color='violet',density=True,histtype='step',label='x1')\n",
    "ax[1].hist(x2,bins=nbin,color='crimson',density=True,histtype='step',label='x2')\n",
    "fig.show()"
   ]
  },
  {
   "cell_type": "markdown",
   "id": "interstate-language",
   "metadata": {},
   "source": [
    "\n",
    "(b) Adjust sample size and bin numbers to optimize the analysis of the shape of the resulting distribution shown in the histograms. Observe closely how the shape of the distribution of the summation variable (cyan colors) changes when the number of random uniform variables (x1, x2, ... ) is increased.\n",
    "Keep the sample size nsample smaller than 100,000!"
   ]
  },
  {
   "cell_type": "code",
   "execution_count": 45,
   "id": "tropical-hollywood",
   "metadata": {},
   "outputs": [],
   "source": [
    "x1=np.random.uniform(size=nsample)\n",
    "x2=np.random.uniform(size=nsample)\n",
    "x3=np.random.uniform(size=nsample)\n",
    "x4=np.random.uniform(size=nsample)\n",
    "x5=np.random.uniform(size=nsample)\n",
    "x6=np.random.uniform(size=nsample)\n",
    "y=(x1+x2+x3+x4+x5+x6)\n"
   ]
  },
  {
   "cell_type": "markdown",
   "id": "approximate-doctrine",
   "metadata": {},
   "source": [
    "Task 3: Compare the distribution of the summation values with the normal distribution curve. How good does the curve fit the data. In particular, take a look at the tails of the distribution. \n",
    "\n",
    "Summarize your observations and discuss the following question: How many uniformly distributed random variables do you have to sum so that the sum (a random variable) is normally distributed.\n"
   ]
  },
  {
   "cell_type": "code",
   "execution_count": null,
   "id": "personal-updating",
   "metadata": {},
   "outputs": [],
   "source": []
  }
 ],
 "metadata": {
  "kernelspec": {
   "display_name": "Python 3 June 2020 Environment",
   "language": "python",
   "name": "jun20"
  },
  "language_info": {
   "codemirror_mode": {
    "name": "ipython",
    "version": 3
   },
   "file_extension": ".py",
   "mimetype": "text/x-python",
   "name": "python",
   "nbconvert_exporter": "python",
   "pygments_lexer": "ipython3",
   "version": "3.7.6"
  }
 },
 "nbformat": 4,
 "nbformat_minor": 5
}
