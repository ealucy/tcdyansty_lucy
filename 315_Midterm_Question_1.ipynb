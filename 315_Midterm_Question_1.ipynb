{
 "cells": [
  {
   "cell_type": "markdown",
   "id": "hispanic-shopper",
   "metadata": {},
   "source": [
    "The plot shows a time series of ozone variability in Phoenix and LA. The annual mean ozone concentration in ppm in Phoenix is higher, on average, than it is in LA. This difference is greatest in the late spring and summer months. The concentrations in both cities seem to follow a similar seasonal cycle, with concentrations being greatest in the summer and least in in winter. The concentrations in LA seem to be more variable day to day than they are in Phoenix. There is an October 2019 spike in LA ozone concentrations that stands out, as it is in sharp contrast to the days on either side of it. While there is also variation in the Phoenix day to day cycle, there is much more variation in the LA day to day cycle. "
   ]
  }
 ],
 "metadata": {
  "kernelspec": {
   "display_name": "Python 3 June 2020 Environment",
   "language": "python",
   "name": "jun20"
  },
  "language_info": {
   "codemirror_mode": {
    "name": "ipython",
    "version": 3
   },
   "file_extension": ".py",
   "mimetype": "text/x-python",
   "name": "python",
   "nbconvert_exporter": "python",
   "pygments_lexer": "ipython3",
   "version": "3.7.6"
  }
 },
 "nbformat": 4,
 "nbformat_minor": 5
}
