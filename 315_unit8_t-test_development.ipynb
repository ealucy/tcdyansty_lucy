{
 "cells": [
  {
   "cell_type": "markdown",
   "metadata": {},
   "source": [
    "# Testing the null hypothesis H0: There is no difference between temperature climatologies from 1951-1980 and 1991-2020!\n",
    "\n",
    "We use monthly mean data from station observations that are part of the GHCN data base. \n",
    "The code an extension of the code developed for the confidence interval calculations (see unit 7). The main purpose of this coding activity: Conduct a formal t-test and find stations and months for which we can reject the null hypothesis. In other words we want to explore where in NY and during which season we have the strongest data support for a significant warming.\n",
    "\n",
    "Note: In this notebook we read a list of station id numbers (and additional 'metadata' information) from a text file that has all of the NY stations listed. Many stations do not have complete time series over the whole time period 1951-2018, so those are discarded. \n",
    "\n",
    "\n"
   ]
  },
  {
   "cell_type": "markdown",
   "metadata": {},
   "source": [
    "## 1. Code development\n",
    "\n",
    "### 1.1 Importing our own set of support functions\n",
    "\n",
    "In this script you notice we do not define the function for downloading the data from the ACIS server. \n",
    "\n",
    "Instead, we can separate the function definitions from our Notebook and import the functions with the same syntax that we use to import packages like _numpy_ or _scipy.stats_. This importing of Python code from separate files is known as import of _modules_. (The file is pure Python code and must have the extension *.py*.) \n",
    "\n",
    "Our Python script is called support.py (see GitHub repository unit8, download the script file, and upload it here into directory *unit8*). Note the ending must be .py for this Python code text file. This is referred to as 'import of modules'.\n",
    "\n",
    "**Download the file support.py from GitHub (see folder unit8) and upload it into the same folder where you have this notebook file. The file must be named _support.py_ !**\n",
    "\n",
    "\n",
    "Note: Packages are more complex, consisting of entire folders and subfolders with Python code. So modules are much simpler to maintain and a good first start to get your useful functions organized.\n",
    "\n",
    "\n"
   ]
  },
  {
   "cell_type": "markdown",
   "metadata": {},
   "source": [
    "### 1.2 Importing all packages and our own module as spt\n",
    "\n",
    "And check what we imported and how the functions work."
   ]
  },
  {
   "cell_type": "code",
   "execution_count": 1,
   "metadata": {},
   "outputs": [
    {
     "name": "stdout",
     "output_type": "stream",
     "text": [
      "Help on module support:\n",
      "\n",
      "NAME\n",
      "    support - Support module for working with GHCN data:\n",
      "\n",
      "DESCRIPTION\n",
      "    # Defined functions:\n",
      "    # ------------------\n",
      "    #       (1)get_station_monthly: \n",
      "    #                request a station time series\n",
      "    #                from the Applied Climate Information System\n",
      "    #                http://www.rcc-acis.org/index.html\n",
      "    #       (2)get_station_list:\n",
      "    #                support function that reads a local text file with\n",
      "    #                all GHCN stations in state of NY\n",
      "    #                The local file needed is expected to be located in\n",
      "    #                the folder ../data (if you are working with notebooks in directory unit8)\n",
      "    \n",
      "    # Author: OET\n",
      "    # Note: Code designed for ATM315/ENV315 Python introduction\n",
      "\n",
      "FUNCTIONS\n",
      "    get_station_list(sid_code='USW')\n",
      "        Reads the local text file from ../data/ghcnd_stations_NY.txt and finds \n",
      "        stations with station identifier starting with specific string.\n",
      "        Parameters:\n",
      "        -----------\n",
      "            sid_code: string\n",
      "                A keyword parameter that can be changed to work with other country\n",
      "                or other station id types (e.g. 'USC'). Default is 'USW'.\n",
      "        \n",
      "        Returns:\n",
      "        --------\n",
      "        sidlist: list\n",
      "            with station identifier strings\n",
      "        lat,lon,elev: lists \n",
      "            with station latitude, longitude, elevation values\n",
      "        stationname: list \n",
      "            with the full names information for the station\n",
      "    \n",
      "    get_stationdata_monthly(sid, var='avgt', startyear=2017, endyear=2017)\n",
      "        Sends request to regional climate center ACIS and gets monthly data for one station.\n",
      "        Parameters: \n",
      "        -----------------\n",
      "            sid: string \n",
      "                a station id\n",
      "            var: string \n",
      "                a variable name (e.g. 'avgt', 'mint', 'maxt')\n",
      "        Keyword parameters:\n",
      "        -------------------\n",
      "            startyear: int    \n",
      "            endyear: int\n",
      "                for selecting the year range e.g. 1950 and 2017\n",
      "        \n",
      "        Returns:\n",
      "        --------\n",
      "            x: list \n",
      "                with dates (datetime objects)\n",
      "            y: list\n",
      "                with the data (e.g. temperature)\n",
      "\n",
      "FILE\n",
      "    /nfs/home11/ugrad/2020/el381212/ENV315/unit8/support.py\n",
      "\n",
      "\n"
     ]
    }
   ],
   "source": [
    "import numpy as np\n",
    "import matplotlib.pyplot as plt\n",
    "import datetime as dt\n",
    "from scipy import stats\n",
    "\n",
    "\n",
    "import support as spt\n",
    "# new: use function help() to see the content of the imported module and the doc-string information\n",
    "help(spt)\n"
   ]
  },
  {
   "cell_type": "markdown",
   "metadata": {},
   "source": [
    "### Reading the file with the NY station data information (metadata)"
   ]
  },
  {
   "cell_type": "code",
   "execution_count": 2,
   "metadata": {},
   "outputs": [
    {
     "name": "stdout",
     "output_type": "stream",
     "text": [
      "finding all stations in file  ../data/ghcnd_stations_NY.txt\n",
      "with station identifier string starting with 'USW\n",
      "------------------------------------------------------------\n",
      "USW00004724  43.1072 -78.9453   178.3  NIAGARA FALLS INTL AP\n",
      "USW00004725  42.1997 -75.9850   489.5  BINGHAMTON HCN 72515\n",
      "USW00004727  42.7500 -76.9000   187.1  GENEVA SAMPSON AFB\n",
      "USW00004742  44.6500 -73.4667    71.9  PLATTSBURGH INTL AP\n",
      "USW00004781  40.7939 -73.1017    25.6  ISLIP LI MACARTHUR AP 72505\n",
      "USW00004782  42.8333 -73.9167    67.1  SCHENECTADY\n",
      "USW00004789  41.5092 -74.2650   111.3  MONTGOMERY ORANGE AP\n",
      "USW00014708  40.7333 -73.6000    29.9  MITCHELL FLD\n",
      "USW00014714  41.5000 -74.1000   177.1  STEWART FLD\n",
      "USW00014715  44.0500 -75.7333   214.0  WHEELER SACK FLD AAF 74370\n",
      "USW00014717  43.2333 -75.4000   158.2  GRIFFISS AFB\n",
      "USW00014719  40.8436 -72.6322    20.4  WESTHAMPTN GABRESKI AP\n",
      "USW00014732  40.7794 -73.8803     3.4  NEW YORK LAGUARDIA AP 72503\n",
      "USW00014733  42.9486 -78.7369   211.2  BUFFALO HCN 72528\n",
      "USW00014735  42.7431 -73.8092    95.1  ALBANY AP HCN 72518\n",
      "USW00014738  42.0833 -76.1000   253.9  BINGHAMTON WB AP\n",
      "USW00014743  44.5772 -75.1097   136.6  CANTON 4 SE HCN\n",
      "USW00014747  42.4933 -79.2722   203.0  DUNKIRK CHAUTAUQUA AP\n",
      "USW00014748  42.1594 -76.8919   291.1  ELMIRA CORNING RGNL AP\n",
      "USW00014749  42.9667 -74.6667   217.0  FT PLAIN WB AP\n",
      "USW00014750  43.3500 -73.6167    97.8  GLENS FALLS AP 72522\n",
      "USW00014757  41.6267 -73.8842    50.6  POUGHKEEPSIE DUTCHESS CO AP HCN\n",
      "USW00014768  43.1167 -77.6767   162.5  ROCHESTER GTR INTL AP HCN 72529\n",
      "USW00014771  43.1111 -76.1039   125.9  SYRACUSE HANCOCK INTL AP GSN HCN 72519\n",
      "USW00014772  43.8833 -73.4000    64.0  TICONDEROGA 3 NE\n",
      "USW00014774  43.1667 -75.3167   163.1  UTICA AP\n",
      "USW00014786  40.5833 -73.8833     4.9  NEW YORK FLOYD BENNETT FLD\n",
      "USW00014797  41.3167 -74.0000   396.8  BEAR MTN WB\n",
      "USW00014798  42.1000 -75.9167   277.1  BINGHAMTON WB CITY\n",
      "USW00054757  42.1094 -77.9919   647.4  WELLSVILLE MUNI AP\n",
      "USW00054773  43.3497 -76.3847   144.8  FULTON OSWEGO CO AP\n",
      "USW00054778  42.6425 -77.0564   275.2  PENN YAN AP\n",
      "USW00054780  41.0731 -71.9233     2.1  MONTAUK AP\n",
      "USW00054787  40.7342 -73.4169    24.7  FARMINGDALE AP\n",
      "USW00054790  40.8217 -72.8689    25.0  SHIRLEY BROOKHAVEN AP\n",
      "USW00064756  41.7858 -73.7422   125.9  MILLBROOK 3 W\n",
      "USW00064758  42.4400 -76.2461   374.3  ITHACA 13 E\n",
      "USW00064775  43.2339 -75.4117   158.2  ROME GRIFFISS AIRFIELD\n",
      "USW00064776  44.6500 -73.4667    71.3  PLATTSBURGH INTL AP\n",
      "USW00093732  39.8000 -72.6667    25.9  NEW YORK SHOALS AFS\n",
      "USW00094704  42.5708 -77.7133   208.8  DANSVILLE MUNI AP 72523\n",
      "USW00094725  44.9358 -74.8458    65.2  MASSENA INTL AP\n",
      "USW00094728  40.7789 -73.9692    39.6  NEW YORK CNTRL PK TWR HCN 72506\n",
      "USW00094733  44.6872 -73.5231   113.4  PLATTSBURGH CLINTON AP\n",
      "USW00094740  44.3853 -74.2067   506.9  SARANAC RGNL AP\n",
      "USW00094745  41.0669 -73.7075   115.5  WESTCHESTER CO AP\n",
      "USW00094789  40.6386 -73.7622     3.4  NEW YORK JFK INTL AP 74486\n",
      "USW00094790  43.9922 -76.0217    96.9  WATERTOWN INTL AP\n",
      "USW00094794  43.1450 -75.3839   216.7  UTICA ONEIDA CO AP HCN\n",
      "------------------------------------------------------------\n",
      "number of stations starting with 'USW' (Airport stations) 49\n"
     ]
    }
   ],
   "source": [
    "# Get station list from local file\n",
    "sidlist,latlist,lonlist,elevlist,namelist=spt.get_station_list(sid_code=\"USW\")\n",
    "print (\"number of stations starting with 'USW' (Airport stations)\",len(sidlist))"
   ]
  },
  {
   "cell_type": "markdown",
   "metadata": {},
   "source": [
    "### 1.3 Preparing the data for statistical calculations"
   ]
  },
  {
   "cell_type": "markdown",
   "metadata": {},
   "source": [
    "<P style=\"background-color:lightgreen;color:black;font-size:130%\">\n",
    "<BR>\n",
    "Check which stations have complete data, and  form a final list of stations to use.\n",
    "<BR>\n",
    "<BR>\n",
    "</P>\n",
    "\n",
    "\n",
    "**The code below is one 'basic' level approach to deal with storing all station data\n",
    "that have complete time series without any missing values.**\n",
    "\n",
    "Here we use a simple approach: \n",
    "- Access all the station data from the ACIS server. \n",
    "- For each station, the downloaded data is checked for missing values.\n",
    "- If data are complete for the whole period (1951 to 2018, see variable year1, year2 above), then the station metdata information (station id, latitude, longitude, elevation, and full station name) is appended to new lists.\n",
    "\n",
    "Once we have screened our station data we can do our calculation and plotting for any of those stations by selecting one of the station id names."
   ]
  },
  {
   "cell_type": "code",
   "execution_count": 3,
   "metadata": {},
   "outputs": [],
   "source": [
    "varname=\"avgt\"\n",
    "year1,year2= 1951,2020"
   ]
  },
  {
   "cell_type": "code",
   "execution_count": 4,
   "metadata": {},
   "outputs": [
    {
     "name": "stdout",
     "output_type": "stream",
     "text": [
      "data complete between 1951 and 2020?\n",
      ">send data request to http://data.rcc-acis.org/StnData?sid=USW00004724&&sdate=1951-01-1&&edate=2020-12-31&interval=mly&elems=mly_mean_avgt\n",
      "station id: USW00004724\n",
      "year range: 1951 - 2020\n",
      "> still waiting for response ...\n",
      ">... done\n",
      ">send data request to http://data.rcc-acis.org/StnData?sid=USW00004725&&sdate=1951-01-1&&edate=2020-12-31&interval=mly&elems=mly_mean_avgt\n",
      "station id: USW00004725\n",
      "year range: 1951 - 2020\n",
      "> still waiting for response ...\n",
      ">... done\n",
      ">send data request to http://data.rcc-acis.org/StnData?sid=USW00004727&&sdate=1951-01-1&&edate=2020-12-31&interval=mly&elems=mly_mean_avgt\n",
      "station id: USW00004727\n",
      "year range: 1951 - 2020\n",
      "> still waiting for response ...\n",
      ">... done\n",
      ">send data request to http://data.rcc-acis.org/StnData?sid=USW00004742&&sdate=1951-01-1&&edate=2020-12-31&interval=mly&elems=mly_mean_avgt\n",
      "station id: USW00004742\n",
      "year range: 1951 - 2020\n",
      "> still waiting for response ...\n",
      ">... done\n",
      ">send data request to http://data.rcc-acis.org/StnData?sid=USW00004781&&sdate=1951-01-1&&edate=2020-12-31&interval=mly&elems=mly_mean_avgt\n",
      "station id: USW00004781\n",
      "year range: 1951 - 2020\n",
      "> still waiting for response ...\n",
      ">... done\n",
      ">send data request to http://data.rcc-acis.org/StnData?sid=USW00004782&&sdate=1951-01-1&&edate=2020-12-31&interval=mly&elems=mly_mean_avgt\n",
      "station id: USW00004782\n",
      "year range: 1951 - 2020\n",
      "> still waiting for response ...\n",
      ">... done\n",
      ">send data request to http://data.rcc-acis.org/StnData?sid=USW00004789&&sdate=1951-01-1&&edate=2020-12-31&interval=mly&elems=mly_mean_avgt\n",
      "station id: USW00004789\n",
      "year range: 1951 - 2020\n",
      "> still waiting for response ...\n",
      ">... done\n",
      ">send data request to http://data.rcc-acis.org/StnData?sid=USW00014708&&sdate=1951-01-1&&edate=2020-12-31&interval=mly&elems=mly_mean_avgt\n",
      "station id: USW00014708\n",
      "year range: 1951 - 2020\n",
      "> still waiting for response ...\n",
      ">... done\n",
      ">send data request to http://data.rcc-acis.org/StnData?sid=USW00014714&&sdate=1951-01-1&&edate=2020-12-31&interval=mly&elems=mly_mean_avgt\n",
      "station id: USW00014714\n",
      "year range: 1951 - 2020\n",
      "> still waiting for response ...\n",
      ">... done\n",
      ">send data request to http://data.rcc-acis.org/StnData?sid=USW00014715&&sdate=1951-01-1&&edate=2020-12-31&interval=mly&elems=mly_mean_avgt\n",
      "station id: USW00014715\n",
      "year range: 1951 - 2020\n",
      "> still waiting for response ...\n",
      ">... done\n",
      ">send data request to http://data.rcc-acis.org/StnData?sid=USW00014717&&sdate=1951-01-1&&edate=2020-12-31&interval=mly&elems=mly_mean_avgt\n",
      "station id: USW00014717\n",
      "year range: 1951 - 2020\n",
      "> still waiting for response ...\n",
      ">... done\n",
      ">send data request to http://data.rcc-acis.org/StnData?sid=USW00014719&&sdate=1951-01-1&&edate=2020-12-31&interval=mly&elems=mly_mean_avgt\n",
      "station id: USW00014719\n",
      "year range: 1951 - 2020\n",
      "> still waiting for response ...\n",
      ">... done\n",
      ">send data request to http://data.rcc-acis.org/StnData?sid=USW00014732&&sdate=1951-01-1&&edate=2020-12-31&interval=mly&elems=mly_mean_avgt\n",
      "station id: USW00014732\n",
      "year range: 1951 - 2020\n",
      "> still waiting for response ...\n",
      ">... done\n",
      "+++station: USW00014732 variable avgt is complete.\n",
      ">send data request to http://data.rcc-acis.org/StnData?sid=USW00014733&&sdate=1951-01-1&&edate=2020-12-31&interval=mly&elems=mly_mean_avgt\n",
      "station id: USW00014733\n",
      "year range: 1951 - 2020\n",
      "> still waiting for response ...\n",
      ">... done\n",
      "+++station: USW00014733 variable avgt is complete.\n",
      ">send data request to http://data.rcc-acis.org/StnData?sid=USW00014735&&sdate=1951-01-1&&edate=2020-12-31&interval=mly&elems=mly_mean_avgt\n",
      "station id: USW00014735\n",
      "year range: 1951 - 2020\n",
      "> still waiting for response ...\n",
      ">... done\n",
      "+++station: USW00014735 variable avgt is complete.\n",
      ">send data request to http://data.rcc-acis.org/StnData?sid=USW00014738&&sdate=1951-01-1&&edate=2020-12-31&interval=mly&elems=mly_mean_avgt\n",
      "station id: USW00014738\n",
      "year range: 1951 - 2020\n",
      "> still waiting for response ...\n",
      ">... done\n",
      ">send data request to http://data.rcc-acis.org/StnData?sid=USW00014743&&sdate=1951-01-1&&edate=2020-12-31&interval=mly&elems=mly_mean_avgt\n",
      "station id: USW00014743\n",
      "year range: 1951 - 2020\n",
      "> still waiting for response ...\n",
      ">... done\n",
      ">send data request to http://data.rcc-acis.org/StnData?sid=USW00014747&&sdate=1951-01-1&&edate=2020-12-31&interval=mly&elems=mly_mean_avgt\n",
      "station id: USW00014747\n",
      "year range: 1951 - 2020\n",
      "> still waiting for response ...\n",
      ">... done\n",
      ">send data request to http://data.rcc-acis.org/StnData?sid=USW00014748&&sdate=1951-01-1&&edate=2020-12-31&interval=mly&elems=mly_mean_avgt\n",
      "station id: USW00014748\n",
      "year range: 1951 - 2020\n",
      "> still waiting for response ...\n",
      ">... done\n",
      ">send data request to http://data.rcc-acis.org/StnData?sid=USW00014749&&sdate=1951-01-1&&edate=2020-12-31&interval=mly&elems=mly_mean_avgt\n",
      "station id: USW00014749\n",
      "year range: 1951 - 2020\n",
      "> still waiting for response ...\n",
      ">... done\n",
      ">send data request to http://data.rcc-acis.org/StnData?sid=USW00014750&&sdate=1951-01-1&&edate=2020-12-31&interval=mly&elems=mly_mean_avgt\n",
      "station id: USW00014750\n",
      "year range: 1951 - 2020\n",
      "> still waiting for response ...\n",
      ">... done\n",
      "+++station: USW00014750 variable avgt is complete.\n",
      ">send data request to http://data.rcc-acis.org/StnData?sid=USW00014757&&sdate=1951-01-1&&edate=2020-12-31&interval=mly&elems=mly_mean_avgt\n",
      "station id: USW00014757\n",
      "year range: 1951 - 2020\n",
      "> still waiting for response ...\n",
      ">... done\n",
      ">send data request to http://data.rcc-acis.org/StnData?sid=USW00014768&&sdate=1951-01-1&&edate=2020-12-31&interval=mly&elems=mly_mean_avgt\n",
      "station id: USW00014768\n",
      "year range: 1951 - 2020\n",
      "> still waiting for response ...\n",
      ">... done\n",
      "+++station: USW00014768 variable avgt is complete.\n",
      ">send data request to http://data.rcc-acis.org/StnData?sid=USW00014771&&sdate=1951-01-1&&edate=2020-12-31&interval=mly&elems=mly_mean_avgt\n",
      "station id: USW00014771\n",
      "year range: 1951 - 2020\n",
      "> still waiting for response ...\n",
      ">... done\n",
      "+++station: USW00014771 variable avgt is complete.\n",
      ">send data request to http://data.rcc-acis.org/StnData?sid=USW00014772&&sdate=1951-01-1&&edate=2020-12-31&interval=mly&elems=mly_mean_avgt\n",
      "station id: USW00014772\n",
      "year range: 1951 - 2020\n",
      "> still waiting for response ...\n",
      ">... done\n",
      ">send data request to http://data.rcc-acis.org/StnData?sid=USW00014774&&sdate=1951-01-1&&edate=2020-12-31&interval=mly&elems=mly_mean_avgt\n",
      "station id: USW00014774\n",
      "year range: 1951 - 2020\n",
      "> still waiting for response ...\n",
      ">... done\n",
      ">send data request to http://data.rcc-acis.org/StnData?sid=USW00014786&&sdate=1951-01-1&&edate=2020-12-31&interval=mly&elems=mly_mean_avgt\n",
      "station id: USW00014786\n",
      "year range: 1951 - 2020\n",
      "> still waiting for response ...\n",
      ">... done\n",
      ">send data request to http://data.rcc-acis.org/StnData?sid=USW00014797&&sdate=1951-01-1&&edate=2020-12-31&interval=mly&elems=mly_mean_avgt\n",
      "station id: USW00014797\n",
      "year range: 1951 - 2020\n",
      "> still waiting for response ...\n",
      ">... done\n",
      ">send data request to http://data.rcc-acis.org/StnData?sid=USW00014798&&sdate=1951-01-1&&edate=2020-12-31&interval=mly&elems=mly_mean_avgt\n",
      "station id: USW00014798\n",
      "year range: 1951 - 2020\n",
      "> still waiting for response ...\n",
      ">... done\n",
      ">send data request to http://data.rcc-acis.org/StnData?sid=USW00054757&&sdate=1951-01-1&&edate=2020-12-31&interval=mly&elems=mly_mean_avgt\n",
      "station id: USW00054757\n",
      "year range: 1951 - 2020\n",
      "> still waiting for response ...\n",
      ">... done\n",
      ">send data request to http://data.rcc-acis.org/StnData?sid=USW00054773&&sdate=1951-01-1&&edate=2020-12-31&interval=mly&elems=mly_mean_avgt\n",
      "station id: USW00054773\n",
      "year range: 1951 - 2020\n",
      "> still waiting for response ...\n",
      ">... done\n",
      ">send data request to http://data.rcc-acis.org/StnData?sid=USW00054778&&sdate=1951-01-1&&edate=2020-12-31&interval=mly&elems=mly_mean_avgt\n",
      "station id: USW00054778\n",
      "year range: 1951 - 2020\n",
      "> still waiting for response ...\n",
      ">... done\n",
      ">send data request to http://data.rcc-acis.org/StnData?sid=USW00054780&&sdate=1951-01-1&&edate=2020-12-31&interval=mly&elems=mly_mean_avgt\n",
      "station id: USW00054780\n",
      "year range: 1951 - 2020\n",
      "> still waiting for response ...\n",
      ">... done\n",
      ">send data request to http://data.rcc-acis.org/StnData?sid=USW00054787&&sdate=1951-01-1&&edate=2020-12-31&interval=mly&elems=mly_mean_avgt\n",
      "station id: USW00054787\n",
      "year range: 1951 - 2020\n",
      "> still waiting for response ...\n",
      ">... done\n",
      ">send data request to http://data.rcc-acis.org/StnData?sid=USW00054790&&sdate=1951-01-1&&edate=2020-12-31&interval=mly&elems=mly_mean_avgt\n",
      "station id: USW00054790\n",
      "year range: 1951 - 2020\n",
      "> still waiting for response ...\n"
     ]
    },
    {
     "name": "stdout",
     "output_type": "stream",
     "text": [
      ">... done\n",
      ">send data request to http://data.rcc-acis.org/StnData?sid=USW00064756&&sdate=1951-01-1&&edate=2020-12-31&interval=mly&elems=mly_mean_avgt\n",
      "station id: USW00064756\n",
      "year range: 1951 - 2020\n",
      "> still waiting for response ...\n",
      ">... done\n",
      ">send data request to http://data.rcc-acis.org/StnData?sid=USW00064758&&sdate=1951-01-1&&edate=2020-12-31&interval=mly&elems=mly_mean_avgt\n",
      "station id: USW00064758\n",
      "year range: 1951 - 2020\n",
      "> still waiting for response ...\n",
      ">... done\n",
      ">send data request to http://data.rcc-acis.org/StnData?sid=USW00064775&&sdate=1951-01-1&&edate=2020-12-31&interval=mly&elems=mly_mean_avgt\n",
      "station id: USW00064775\n",
      "year range: 1951 - 2020\n",
      "> still waiting for response ...\n",
      ">... done\n",
      ">send data request to http://data.rcc-acis.org/StnData?sid=USW00064776&&sdate=1951-01-1&&edate=2020-12-31&interval=mly&elems=mly_mean_avgt\n",
      "station id: USW00064776\n",
      "year range: 1951 - 2020\n",
      "> still waiting for response ...\n",
      ">... done\n",
      ">send data request to http://data.rcc-acis.org/StnData?sid=USW00093732&&sdate=1951-01-1&&edate=2020-12-31&interval=mly&elems=mly_mean_avgt\n",
      "station id: USW00093732\n",
      "year range: 1951 - 2020\n",
      "> still waiting for response ...\n",
      ">... done\n",
      ">send data request to http://data.rcc-acis.org/StnData?sid=USW00094704&&sdate=1951-01-1&&edate=2020-12-31&interval=mly&elems=mly_mean_avgt\n",
      "station id: USW00094704\n",
      "year range: 1951 - 2020\n",
      "> still waiting for response ...\n",
      ">... done\n",
      ">send data request to http://data.rcc-acis.org/StnData?sid=USW00094725&&sdate=1951-01-1&&edate=2020-12-31&interval=mly&elems=mly_mean_avgt\n",
      "station id: USW00094725\n",
      "year range: 1951 - 2020\n",
      "> still waiting for response ...\n",
      ">... done\n",
      "+++station: USW00094725 variable avgt is complete.\n",
      ">send data request to http://data.rcc-acis.org/StnData?sid=USW00094728&&sdate=1951-01-1&&edate=2020-12-31&interval=mly&elems=mly_mean_avgt\n",
      "station id: USW00094728\n",
      "year range: 1951 - 2020\n",
      "> still waiting for response ...\n",
      ">... done\n",
      "+++station: USW00094728 variable avgt is complete.\n",
      ">send data request to http://data.rcc-acis.org/StnData?sid=USW00094733&&sdate=1951-01-1&&edate=2020-12-31&interval=mly&elems=mly_mean_avgt\n",
      "station id: USW00094733\n",
      "year range: 1951 - 2020\n",
      "> still waiting for response ...\n",
      ">... done\n",
      ">send data request to http://data.rcc-acis.org/StnData?sid=USW00094740&&sdate=1951-01-1&&edate=2020-12-31&interval=mly&elems=mly_mean_avgt\n",
      "station id: USW00094740\n",
      "year range: 1951 - 2020\n",
      "> still waiting for response ...\n",
      ">... done\n",
      ">send data request to http://data.rcc-acis.org/StnData?sid=USW00094745&&sdate=1951-01-1&&edate=2020-12-31&interval=mly&elems=mly_mean_avgt\n",
      "station id: USW00094745\n",
      "year range: 1951 - 2020\n",
      "> still waiting for response ...\n",
      ">... done\n",
      ">send data request to http://data.rcc-acis.org/StnData?sid=USW00094789&&sdate=1951-01-1&&edate=2020-12-31&interval=mly&elems=mly_mean_avgt\n",
      "station id: USW00094789\n",
      "year range: 1951 - 2020\n",
      "> still waiting for response ...\n",
      ">... done\n",
      "+++station: USW00094789 variable avgt is complete.\n",
      ">send data request to http://data.rcc-acis.org/StnData?sid=USW00094790&&sdate=1951-01-1&&edate=2020-12-31&interval=mly&elems=mly_mean_avgt\n",
      "station id: USW00094790\n",
      "year range: 1951 - 2020\n",
      "> still waiting for response ...\n",
      ">... done\n",
      ">send data request to http://data.rcc-acis.org/StnData?sid=USW00094794&&sdate=1951-01-1&&edate=2020-12-31&interval=mly&elems=mly_mean_avgt\n",
      "station id: USW00094794\n",
      "year range: 1951 - 2020\n",
      "> still waiting for response ...\n",
      ">... done\n",
      "number of stations, number of stations with complete data 49 9\n"
     ]
    }
   ],
   "source": [
    "print (\"data complete between %4d and %4d?\" %(year1,year2))\n",
    "complete_sid=[]\n",
    "complete_lat=[]\n",
    "complete_lon=[]\n",
    "complete_elev=[]\n",
    "complete_name=[]\n",
    "i=0\n",
    "for station_id in sidlist:\n",
    "    x,y=spt.get_stationdata_monthly(station_id,varname,startyear=year1,endyear=year2)\n",
    "    if len(x)==0:\n",
    "        pass\n",
    "    else:\n",
    "        x=np.array(x)\n",
    "        y=np.array(y)\n",
    "        # check for completeness in data (no NAN allowed)\n",
    "        iuse=np.logical_and(x>dt.datetime(1950,12,31),x<dt.datetime(2021,1,1))\n",
    "        imiss=np.isnan(y[iuse])\n",
    "        if any(imiss): # NAN values detected in time series\n",
    "            pass\n",
    "            #print (3*\"-\"+\"station: \"+station_id+\" variable \"+varname+\" has NAN values.\")\n",
    "        else: # no NAN detected\n",
    "            print (3*\"+\"+\"station: \"+station_id+\" variable \"+varname+\" is complete.\")\n",
    "            complete_sid.append(station_id)\n",
    "            complete_lat.append(latlist[i])\n",
    "            complete_lon.append(lonlist[i])\n",
    "            complete_elev.append(elevlist[i])\n",
    "            complete_name.append(namelist[i])\n",
    "    i=i+1\n",
    "nstation=len(complete_sid)\n",
    "print (\"number of stations, number of stations with complete data\", i,nstation)\n"
   ]
  },
  {
   "cell_type": "code",
   "execution_count": 5,
   "metadata": {},
   "outputs": [
    {
     "name": "stdout",
     "output_type": "stream",
     "text": [
      "stations that are available\n",
      "0 USW00014732  NEW YORK LAGUARDIA AP 72503\n",
      "1 USW00014733  BUFFALO HCN 72528\n",
      "2 USW00014735  ALBANY AP HCN 72518\n",
      "3 USW00014750  GLENS FALLS AP 72522\n",
      "4 USW00014768  ROCHESTER GTR INTL AP HCN 72529\n",
      "5 USW00014771  SYRACUSE HANCOCK INTL AP GSN HCN 72519\n",
      "6 USW00094725  MASSENA INTL AP\n",
      "7 USW00094728  NEW YORK CNTRL PK TWR HCN 72506\n",
      "8 USW00094789  NEW YORK JFK INTL AP 74486\n"
     ]
    }
   ],
   "source": [
    "print(\"stations that are available\")\n",
    "for i,sid in enumerate(complete_sid): # new syntax\n",
    "    print (i,sid,complete_name[i])\n"
   ]
  },
  {
   "cell_type": "markdown",
   "metadata": {},
   "source": [
    "<P style=\"background-color:lightgreen;color:black;font-size:130%\">\n",
    "<BR>\n",
    "Read data for one of the stations stored in the list of complete stations.\n",
    "<BR>\n",
    "<BR>\n",
    "</P>\n",
    "\n",
    "\n"
   ]
  },
  {
   "cell_type": "code",
   "execution_count": 6,
   "metadata": {},
   "outputs": [
    {
     "name": "stdout",
     "output_type": "stream",
     "text": [
      "USW00014732\n",
      " NEW YORK LAGUARDIA AP 72503\n",
      ">send data request to http://data.rcc-acis.org/StnData?sid=USW00014732&&sdate=1951-01-1&&edate=2020-12-31&interval=mly&elems=mly_mean_avgt\n",
      "station id: USW00014732\n",
      "year range: 1951 - 2020\n",
      "> still waiting for response ...\n",
      ">... done\n"
     ]
    }
   ],
   "source": [
    "station_index=0 #\n",
    "print (complete_sid[station_index])\n",
    "print (complete_name[station_index])\n",
    "x,y=spt.get_stationdata_monthly(complete_sid[station_index],\\\n",
    "                            varname,startyear=year1,endyear=year2)\n",
    "x=np.array(x)\n",
    "y=np.array(y)\n"
   ]
  },
  {
   "cell_type": "markdown",
   "metadata": {},
   "source": [
    "<P style=\"background-color:lightgreen;color:black;font-size:130%\">\n",
    "<BR>\n",
    "Select the data from x and y for the two 30 climate period: 1951-1980 and 1991-2020\n",
    "<BR>\n",
    "<BR>\n",
    "</P>\n",
    "    \n",
    "Assign the results to new variables and check with np.shape the dimensions and size of the data array. You should have 360 data left in the arrays. \n"
   ]
  },
  {
   "cell_type": "code",
   "execution_count": 7,
   "metadata": {},
   "outputs": [
    {
     "name": "stdout",
     "output_type": "stream",
     "text": [
      "check climatology data sample 1:\n",
      "1951-01-01 00:00:00  -  1980-12-01 00:00:00\n",
      "(360,)\n"
     ]
    }
   ],
   "source": [
    "# create first subsample\n",
    "iclim1=np.logical_and(x>dt.datetime(1950,12,31),x<dt.datetime(1981,1,1))\n",
    "xclim1=x[iclim1]\n",
    "yclim1=y[iclim1]\n",
    "print(\"check climatology data sample 1:\")\n",
    "print(xclim1[0],\" - \",xclim1[-1])\n",
    "print(np.shape(yclim1))"
   ]
  },
  {
   "cell_type": "code",
   "execution_count": 8,
   "metadata": {},
   "outputs": [
    {
     "name": "stdout",
     "output_type": "stream",
     "text": [
      "check climatology data sample 2:\n",
      "1991-01-01 00:00:00  -  2020-12-01 00:00:00\n",
      "(360,)\n"
     ]
    }
   ],
   "source": [
    "# create second subsample\n",
    "iclim2=np.logical_and(x>dt.datetime(1990,12,31),x<dt.datetime(2021,1,1))\n",
    "xclim2=x[iclim2]\n",
    "yclim2=y[iclim2]\n",
    "print(\"check climatology data sample 2:\")\n",
    "print(xclim2[0],\" - \",xclim2[-1])\n",
    "print(np.shape(yclim2))"
   ]
  },
  {
   "cell_type": "markdown",
   "metadata": {},
   "source": [
    "<P style=\"background-color:lightgreen;color:black;font-size:130%\">\n",
    "<BR>\n",
    "Calculate the mean and standard deviation for each month (using np.reshape)\n",
    "<BR>\n",
    "<BR>\n",
    "</P>\n",
    "    \n"
   ]
  },
  {
   "cell_type": "code",
   "execution_count": 9,
   "metadata": {},
   "outputs": [],
   "source": [
    "yhelp1=np.reshape(yclim1,newshape=(30,12))\n",
    "yhelp2=np.reshape(yclim2,newshape=(30,12))\n",
    "\n",
    "ymean1=np.mean(yhelp1,axis=0)\n",
    "ymean2=np.mean(yhelp2,axis=0)\n",
    "ystd1=np.std(yhelp1,axis=0)\n",
    "ystd2=np.std(yhelp2,axis=0)"
   ]
  },
  {
   "cell_type": "markdown",
   "metadata": {},
   "source": [
    "<P style=\"background-color:lightgreen;color:black;font-size:130%\">\n",
    "<BR>\n",
    "Confidence intervals\n",
    "<BR>\n",
    "<BR>\n",
    "</P>"
   ]
  },
  {
   "cell_type": "code",
   "execution_count": 11,
   "metadata": {},
   "outputs": [],
   "source": [
    "# sample size here is 30 years, but we should make it a data-dependent value.\n",
    "#n1, n2 = 30, 30\n",
    "n1= np.shape(yhelp1)[0] # rows are the years\n",
    "n2= np.shape(yhelp2)[0] # rows are the years (could be different from sample 1) \n",
    "df1=n1-1\n",
    "df2=n2-1\n",
    "alpha=0.95 # for both samples\n",
    "tint1=stats.t.interval(alpha,df1) # returns lists\n",
    "tint2=stats.t.interval(alpha,df2) # returns lists\n",
    "# arrays for the upper and lower confidence intervals\n",
    "cf1=np.zeros(shape=[2,12])\n",
    "cf2=np.zeros(shape=[2,12]) # a true independent copy \n",
    "for i in range(12):\n",
    "    cf1[:,i]=np.array(tint1)*ystd1[i]/np.sqrt(n1)\n",
    "    cf2[:,i]=np.array(tint2)*ystd2[i]/np.sqrt(n2)\n",
    "    i+=1\n",
    "    "
   ]
  },
  {
   "cell_type": "markdown",
   "metadata": {},
   "source": [
    "## 2. Results"
   ]
  },
  {
   "cell_type": "markdown",
   "metadata": {},
   "source": [
    "<P style=\"background-color:purple;color:gold;font-size:130%\">\n",
    "<BR>\n",
    "Task 1: Present the climatologies in a graph or two that make it easy to see the differences between the two periods, and how much the confidence intervals overlap.\n",
    "<BR>\n",
    "<BR>\n",
    "</P>\n",
    "    \n",
    "- Tip: Check the function plt.errorbar"
   ]
  },
  {
   "cell_type": "code",
   "execution_count": 24,
   "metadata": {},
   "outputs": [
    {
     "data": {
      "image/png": "[encoded data removed]",
      "text/plain": [
       "<Figure size 864x576 with 1 Axes>"
      ]
     },
     "metadata": {
      "needs_background": "light"
     },
     "output_type": "display_data"
    },
    {
     "ename": "TypeError",
     "evalue": "'numpy.float64' object is not iterable",
     "output_type": "error",
     "traceback": [
      "\u001b[0;31m---------------------------------------------------------------------------\u001b[0m",
      "\u001b[0;31mTypeError\u001b[0m                                 Traceback (most recent call last)",
      "\u001b[0;32m<ipython-input-24-1d8d310cc9bb>\u001b[0m in \u001b[0;36m<module>\u001b[0;34m\u001b[0m\n\u001b[1;32m     15\u001b[0m \u001b[0mplt\u001b[0m\u001b[0;34m.\u001b[0m\u001b[0mshow\u001b[0m\u001b[0;34m(\u001b[0m\u001b[0;34m)\u001b[0m\u001b[0;34m\u001b[0m\u001b[0;34m\u001b[0m\u001b[0m\n\u001b[1;32m     16\u001b[0m \u001b[0msig\u001b[0m\u001b[0;34m=\u001b[0m\u001b[0;36m.05\u001b[0m\u001b[0;34m\u001b[0m\u001b[0;34m\u001b[0m\u001b[0m\n\u001b[0;32m---> 17\u001b[0;31m \u001b[0;32mfor\u001b[0m \u001b[0mi\u001b[0m\u001b[0;34m,\u001b[0m\u001b[0mp\u001b[0m \u001b[0;32min\u001b[0m \u001b[0menumerate\u001b[0m\u001b[0;34m(\u001b[0m\u001b[0mpvalue\u001b[0m\u001b[0;34m)\u001b[0m\u001b[0;34m:\u001b[0m\u001b[0;34m\u001b[0m\u001b[0;34m\u001b[0m\u001b[0m\n\u001b[0m\u001b[1;32m     18\u001b[0m     \u001b[0;32mif\u001b[0m \u001b[0mp\u001b[0m\u001b[0;34m<\u001b[0m\u001b[0msig\u001b[0m\u001b[0;34m:\u001b[0m\u001b[0;34m\u001b[0m\u001b[0;34m\u001b[0m\u001b[0m\n\u001b[1;32m     19\u001b[0m         \u001b[0mplt\u001b[0m\u001b[0;34m.\u001b[0m\u001b[0mplot\u001b[0m\u001b[0;34m(\u001b[0m\u001b[0mmonth\u001b[0m\u001b[0;34m[\u001b[0m\u001b[0mi\u001b[0m\u001b[0;34m]\u001b[0m\u001b[0;34m,\u001b[0m\u001b[0;36m30\u001b[0m\u001b[0;34m,\u001b[0m\u001b[0;34m'o'\u001b[0m\u001b[0;34m,\u001b[0m\u001b[0mcolor\u001b[0m\u001b[0;34m=\u001b[0m\u001b[0;34m'purple'\u001b[0m\u001b[0;34m)\u001b[0m\u001b[0;34m\u001b[0m\u001b[0;34m\u001b[0m\u001b[0m\n",
      "\u001b[0;31mTypeError\u001b[0m: 'numpy.float64' object is not iterable"
     ]
    }
   ],
   "source": [
    "# your code\n",
    "plt.figure(figsize=(12,8))\n",
    "\n",
    "\n",
    "\n",
    "#plt.plot(yhelp1,yhelp2)\n",
    "\n",
    "#plt.plot(cf1,cf2)\n",
    "\n",
    "\n",
    "month=np.arange(1,13,1)\n",
    "plt.errorbar(month,ymean1,cf1[1,:],color='red',label='1951-1980')\n",
    "plt.errorbar(month,ymean2,cf2[1,:],color='blue',label='1991-2020')\n",
    "plt.legend()\n",
    "plt.show()\n",
    "sig=.05\n",
    "#for i,p in enumerate(pvalue):\n",
    "    #if p<sig:\n",
    "        #plt.plot(month[i],30,'o',color='purple')\n",
    "    #else:\n",
    "        #plt.plot(month[i],30,'x',color='gray')"
   ]
  },
  {
   "cell_type": "code",
   "execution_count": null,
   "metadata": {},
   "outputs": [],
   "source": [
    "help(plt.errorbar)"
   ]
  },
  {
   "cell_type": "markdown",
   "metadata": {},
   "source": [
    "<P style=\"background-color:purple;color:gold;font-size:130%\">\n",
    "<BR>\n",
    "Task 2: Calculate the t-test with the help of the function stats.ttest_ind. Choose a winter month and a summer month (or can you figure out how to apply the t-test to all months?). Where you expect to reject the null hypothesis and obtain the smallest p-value?\n",
    "\n",
    "<BR>\n",
    "<BR>\n",
    "</P>\n",
    "    \n",
    "Tip: Check out the help or google examples for the application of the function Scipy *stats.ttest_ind*.\n",
    "(see link below)\n",
    "\n",
    "Print out the essential information: \n",
    "- the difference in the mean, \n",
    "- the t-statistic, the p-value, \n",
    "- the test decision, \n",
    "- and interpretation of the sign if the difference (sign of the t-statistic).\n",
    "\n"
   ]
  },
  {
   "cell_type": "code",
   "execution_count": 30,
   "metadata": {},
   "outputs": [
    {
     "name": "stdout",
     "output_type": "stream",
     "text": [
      "Help on function ttest_ind in module scipy.stats.stats:\n",
      "\n",
      "ttest_ind(a, b, axis=0, equal_var=True, nan_policy='propagate')\n",
      "    Calculate the T-test for the means of *two independent* samples of scores.\n",
      "    \n",
      "    This is a two-sided test for the null hypothesis that 2 independent samples\n",
      "    have identical average (expected) values. This test assumes that the\n",
      "    populations have identical variances by default.\n",
      "    \n",
      "    Parameters\n",
      "    ----------\n",
      "    a, b : array_like\n",
      "        The arrays must have the same shape, except in the dimension\n",
      "        corresponding to `axis` (the first, by default).\n",
      "    axis : int or None, optional\n",
      "        Axis along which to compute test. If None, compute over the whole\n",
      "        arrays, `a`, and `b`.\n",
      "    equal_var : bool, optional\n",
      "        If True (default), perform a standard independent 2 sample test\n",
      "        that assumes equal population variances [1]_.\n",
      "        If False, perform Welch's t-test, which does not assume equal\n",
      "        population variance [2]_.\n",
      "    \n",
      "        .. versionadded:: 0.11.0\n",
      "    nan_policy : {'propagate', 'raise', 'omit'}, optional\n",
      "        Defines how to handle when input contains nan.\n",
      "        The following options are available (default is 'propagate'):\n",
      "    \n",
      "          * 'propagate': returns nan\n",
      "          * 'raise': throws an error\n",
      "          * 'omit': performs the calculations ignoring nan values\n",
      "    \n",
      "    Returns\n",
      "    -------\n",
      "    statistic : float or array\n",
      "        The calculated t-statistic.\n",
      "    pvalue : float or array\n",
      "        The two-tailed p-value.\n",
      "    \n",
      "    Notes\n",
      "    -----\n",
      "    We can use this test, if we observe two independent samples from\n",
      "    the same or different population, e.g. exam scores of boys and\n",
      "    girls or of two ethnic groups. The test measures whether the\n",
      "    average (expected) value differs significantly across samples. If\n",
      "    we observe a large p-value, for example larger than 0.05 or 0.1,\n",
      "    then we cannot reject the null hypothesis of identical average scores.\n",
      "    If the p-value is smaller than the threshold, e.g. 1%, 5% or 10%,\n",
      "    then we reject the null hypothesis of equal averages.\n",
      "    \n",
      "    References\n",
      "    ----------\n",
      "    .. [1] https://en.wikipedia.org/wiki/T-test#Independent_two-sample_t-test\n",
      "    \n",
      "    .. [2] https://en.wikipedia.org/wiki/Welch%27s_t-test\n",
      "    \n",
      "    Examples\n",
      "    --------\n",
      "    >>> from scipy import stats\n",
      "    >>> np.random.seed(12345678)\n",
      "    \n",
      "    Test with sample with identical means:\n",
      "    \n",
      "    >>> rvs1 = stats.norm.rvs(loc=5,scale=10,size=500)\n",
      "    >>> rvs2 = stats.norm.rvs(loc=5,scale=10,size=500)\n",
      "    >>> stats.ttest_ind(rvs1,rvs2)\n",
      "    (0.26833823296239279, 0.78849443369564776)\n",
      "    >>> stats.ttest_ind(rvs1,rvs2, equal_var = False)\n",
      "    (0.26833823296239279, 0.78849452749500748)\n",
      "    \n",
      "    `ttest_ind` underestimates p for unequal variances:\n",
      "    \n",
      "    >>> rvs3 = stats.norm.rvs(loc=5, scale=20, size=500)\n",
      "    >>> stats.ttest_ind(rvs1, rvs3)\n",
      "    (-0.46580283298287162, 0.64145827413436174)\n",
      "    >>> stats.ttest_ind(rvs1, rvs3, equal_var = False)\n",
      "    (-0.46580283298287162, 0.64149646246569292)\n",
      "    \n",
      "    When n1 != n2, the equal variance t-statistic is no longer equal to the\n",
      "    unequal variance t-statistic:\n",
      "    \n",
      "    >>> rvs4 = stats.norm.rvs(loc=5, scale=20, size=100)\n",
      "    >>> stats.ttest_ind(rvs1, rvs4)\n",
      "    (-0.99882539442782481, 0.3182832709103896)\n",
      "    >>> stats.ttest_ind(rvs1, rvs4, equal_var = False)\n",
      "    (-0.69712570584654099, 0.48716927725402048)\n",
      "    \n",
      "    T-test with different means, variance, and n:\n",
      "    \n",
      "    >>> rvs5 = stats.norm.rvs(loc=8, scale=20, size=100)\n",
      "    >>> stats.ttest_ind(rvs1, rvs5)\n",
      "    (-1.4679669854490653, 0.14263895620529152)\n",
      "    >>> stats.ttest_ind(rvs1, rvs5, equal_var = False)\n",
      "    (-0.94365973617132992, 0.34744170334794122)\n",
      "\n"
     ]
    }
   ],
   "source": [
    "help(stats.ttest_ind)"
   ]
  },
  {
   "cell_type": "code",
   "execution_count": 28,
   "metadata": {},
   "outputs": [
    {
     "name": "stdout",
     "output_type": "stream",
     "text": [
      "month 1: difference = 2.228333333333328, p=0.03867041772248581 < significant at 5% level\n",
      "month 2: difference = 2.6696666666666715, p=0.017880567342335143 < significant at 5% level\n",
      "month 3: difference = 1.7679999999999936, p=0.02616521136472449 < significant at 5% level\n",
      "month 4: difference = 1.5556666666666743, p=0.009956561253183291 < significant at 5% level\n",
      "month 5: difference = 1.649000000000001, p=0.01781922752468529 < significant at 5% level\n",
      "month 6: difference = 1.8613333333333344, p=0.00047718946841359387 < significant at 5% level\n",
      "month 7: difference = 2.1950000000000216, p=0.0003541021009306671 < significant at 5% level\n",
      "month 8: difference = 2.038666666666657, p=8.039918042146177e-05 < significant at 5% level\n",
      "month 9: difference = 2.060999999999993, p=0.0003318590581562674 < significant at 5% level\n",
      "month 10: difference = 1.5296666666666638, p=0.021331451039036057 < significant at 5% level\n",
      "month 11: difference = 1.5206666666666564, p=0.05087482658849439\n",
      "month 12: difference = 3.360666666666667, p=0.0008848264683739631 < significant at 5% level\n"
     ]
    },
    {
     "data": {
      "image/png": "[encoded data removed]",
      "text/plain": [
       "<Figure size 432x288 with 1 Axes>"
      ]
     },
     "metadata": {
      "needs_background": "light"
     },
     "output_type": "display_data"
    },
    {
     "ename": "TypeError",
     "evalue": "'numpy.float64' object is not iterable",
     "output_type": "error",
     "traceback": [
      "\u001b[0;31m---------------------------------------------------------------------------\u001b[0m",
      "\u001b[0;31mTypeError\u001b[0m                                 Traceback (most recent call last)",
      "\u001b[0;32m<ipython-input-28-73a62a658e6e>\u001b[0m in \u001b[0;36m<module>\u001b[0;34m\u001b[0m\n\u001b[1;32m     17\u001b[0m \u001b[0mplt\u001b[0m\u001b[0;34m.\u001b[0m\u001b[0mshow\u001b[0m\u001b[0;34m(\u001b[0m\u001b[0;34m)\u001b[0m\u001b[0;34m\u001b[0m\u001b[0;34m\u001b[0m\u001b[0m\n\u001b[1;32m     18\u001b[0m \u001b[0msig\u001b[0m\u001b[0;34m=\u001b[0m\u001b[0;36m.05\u001b[0m\u001b[0;34m\u001b[0m\u001b[0;34m\u001b[0m\u001b[0m\n\u001b[0;32m---> 19\u001b[0;31m \u001b[0;32mfor\u001b[0m \u001b[0mi\u001b[0m\u001b[0;34m,\u001b[0m \u001b[0mp\u001b[0m \u001b[0;32min\u001b[0m \u001b[0menumerate\u001b[0m\u001b[0;34m(\u001b[0m\u001b[0mpvalue\u001b[0m\u001b[0;34m)\u001b[0m\u001b[0;34m:\u001b[0m\u001b[0;34m\u001b[0m\u001b[0;34m\u001b[0m\u001b[0m\n\u001b[0m\u001b[1;32m     20\u001b[0m     \u001b[0;32mif\u001b[0m \u001b[0mp\u001b[0m\u001b[0;34m<\u001b[0m\u001b[0msig\u001b[0m\u001b[0;34m:\u001b[0m\u001b[0;34m\u001b[0m\u001b[0;34m\u001b[0m\u001b[0m\n\u001b[1;32m     21\u001b[0m         \u001b[0mplt\u001b[0m\u001b[0;34m.\u001b[0m\u001b[0mplot\u001b[0m\u001b[0;34m(\u001b[0m\u001b[0mmonth\u001b[0m\u001b[0;34m[\u001b[0m\u001b[0mi\u001b[0m\u001b[0;34m]\u001b[0m\u001b[0;34m,\u001b[0m\u001b[0;36m30\u001b[0m\u001b[0;34m,\u001b[0m\u001b[0;34m'o'\u001b[0m\u001b[0;34m,\u001b[0m\u001b[0mcolor\u001b[0m\u001b[0;34m=\u001b[0m\u001b[0;34m'purple'\u001b[0m\u001b[0;34m)\u001b[0m\u001b[0;34m\u001b[0m\u001b[0;34m\u001b[0m\u001b[0m\n",
      "\u001b[0;31mTypeError\u001b[0m: 'numpy.float64' object is not iterable"
     ]
    }
   ],
   "source": [
    "# your code for t-test calculation\n",
    "month=np.arange(1,13,1)\n",
    "for m in month:\n",
    "    t,pvalue=stats.ttest_ind(yhelp1[:,m-1],yhelp2[:,m-1],equal_var=False,nan_policy='propagate')\n",
    "    if pvalue<.05:\n",
    "        print(f\"month {m}: difference = {ymean2[m-1]-ymean1[m-1]}, p={pvalue} < significant at 5% level\")\n",
    "    else:\n",
    "        print(f\"month {m}: difference = {ymean2[m-1]-ymean1[m-1]}, p={pvalue}\")\n",
    "        \n",
    "        \n",
    "        \n",
    "        \n",
    "month=np.arange(1,13,1)\n",
    "plt.errorbar(month,ymean1,cf1[1,:],color='red',label='1951-1980')\n",
    "plt.errorbar(month,ymean2,cf2[1,:],color='blue',label='1991-2020')\n",
    "plt.legend()\n",
    "plt.show()\n",
    "sig=.05\n",
    "for i, p in enumerate(pvalue):\n",
    "    if p<sig:\n",
    "        plt.plot(month[i],30,'o',color='purple')\n",
    "    else:\n",
    "        plt.plot(month[i],30,'x',color='gray')"
   ]
  },
  {
   "cell_type": "code",
   "execution_count": 15,
   "metadata": {},
   "outputs": [],
   "source": [
    "# your code for plotting / printing the p-values\n",
    "# and decide if statistically significant at 5% significance level \n",
    "# (p<0.05)"
   ]
  },
  {
   "cell_type": "markdown",
   "metadata": {},
   "source": [
    "## 3 Summary and conclusion\n",
    "\n",
    "Some comments/remarks here.\n"
   ]
  },
  {
   "cell_type": "markdown",
   "metadata": {},
   "source": [
    "---\n",
    "### References\n",
    "\n",
    "- [Introduction to import of modules](https://www.programiz.com/python-programming/modules)\n",
    "- [Function ttest_ind from scipy.stats](https://docs.scipy.org/doc/scipy/reference/generated/scipy.stats.ttest_ind.html)\n",
    "- [Welch's form of the t-test](https://en.wikipedia.org/wiki/Welch%27s_t-test) (ttest_ind supports calculating this test statistic when we set the keyword parameter _equal_var=False_)"
   ]
  },
  {
   "cell_type": "markdown",
   "metadata": {},
   "source": [
    "<P style=\"background-color:lightgreen;color:black;font-size:130%\">\n",
    "<BR>\n",
    "Optional Practice: Create a Pandas DataFrame and export to CSV file\n",
    "<BR>\n",
    "<BR>\n",
    "</P>"
   ]
  },
  {
   "cell_type": "markdown",
   "metadata": {},
   "source": [
    "Take all lists objects with station metadata information and create a \n",
    "new DataFrame object. (see variables _sidlist_, _latlist_, _lonlist_, _elevlist_)\n",
    "    \n",
    "Show the first top rows of the DataFrame as a table.\n",
    "\n",
    "Then call the function that exports the DataFrame to a CSV file.\n",
    "\n",
    "\n",
    "The functions ('methods') to be used are: _df.head()_ and _df.to_csv('test.csv'_)\n",
    "\n",
    "\n"
   ]
  },
  {
   "cell_type": "code",
   "execution_count": 16,
   "metadata": {},
   "outputs": [],
   "source": [
    "# Optional practice:\n",
    "# Put the lists into a Pandas DataFrame"
   ]
  }
 ],
 "metadata": {
  "kernelspec": {
   "display_name": "Python 3",
   "language": "python",
   "name": "python3"
  },
  "language_info": {
   "codemirror_mode": {
    "name": "ipython",
    "version": 3
   },
   "file_extension": ".py",
   "mimetype": "text/x-python",
   "name": "python",
   "nbconvert_exporter": "python",
   "pygments_lexer": "ipython3",
   "version": "3.8.6"
  }
 },
 "nbformat": 4,
 "nbformat_minor": 2
}
