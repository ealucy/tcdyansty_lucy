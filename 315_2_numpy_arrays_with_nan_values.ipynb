{
 "cells": [
  {
   "cell_type": "markdown",
   "metadata": {},
   "source": [
    "# Working with missing values in numpy arrays "
   ]
  },
  {
   "cell_type": "markdown",
   "metadata": {},
   "source": [
    "## What is np.nan?\n",
    "\n",
    "Numpy developers have defined a specific value to indicate that values are not a regular number (int, float). Many functions in the numpy package can recognize the np.nan value and ignore those values. The plot functions in package Matplotlib.pyplot are not all designed to work with np.nan values, though.\n"
   ]
  },
  {
   "cell_type": "markdown",
   "metadata": {},
   "source": [
    "## What is the purpose of this notebook? \n",
    "\n",
    "This notebook shows you an example how we can extract from an array all the values with real numbers and omit the np.nan values. We do this with the help of loops and lists. \n",
    "\n",
    "The example works with simulated time series data of a decaying oscillation. \n",
    "We manipulate the data array and insert several a np.nan values into the numpy array _y_.\n",
    "(Imagine a failure in the sensors during the experiment that caused missing values in the time series.)\n",
    "\n",
    "\n",
    "Our initial attempt of creating a boxplot with the data in array _y_\n",
    "does not work and causes an error, because of the np.nan values that are in the array.\n",
    "\n",
    "(see code cell below)"
   ]
  },
  {
   "cell_type": "code",
   "execution_count": 9,
   "metadata": {},
   "outputs": [],
   "source": [
    "import matplotlib.pyplot as plt\n",
    "import numpy as np\n",
    "\n",
    "x= np.arange(1,101,1) # time steps (in seconds, for example)\n",
    "y= np.exp(-1.*x/50) # amplitude modulation\n",
    "z= y*np.sin(np.pi*x/10) # a decaying pendulum motion\n",
    "# insert np.nan values into the array \n",
    "z[30:41]=np.nan\n",
    "\n",
    "# uncomment the line below and you get the error in the boxplot function call\n",
    "# plt.boxplot(y)"
   ]
  },
  {
   "cell_type": "code",
   "execution_count": 2,
   "metadata": {
    "scrolled": true
   },
   "outputs": [
    {
     "data": {
      "image/png": "[encoded data removed]",
      "text/plain": [
       "<Figure size 1080x360 with 1 Axes>"
      ]
     },
     "metadata": {
      "needs_background": "light"
     },
     "output_type": "display_data"
    }
   ],
   "source": [
    "plt.figure(figsize=(15,5))\n",
    "plt.plot(x,z,'x')\n",
    "plt.show() # plt.plot works fine with np.nan values in the array"
   ]
  },
  {
   "cell_type": "markdown",
   "metadata": {},
   "source": [
    "## One solution:  Copy the good values from array z into a new list zclean "
   ]
  },
  {
   "cell_type": "markdown",
   "metadata": {},
   "source": [
    "### How to check if a value in the array is np.nan? \n",
    "\n",
    "For this purpose, numpy developers provide the function, _np.isnan()_\n",
    "You can put in a variable and check if the value is np.nan.\n"
   ]
  },
  {
   "cell_type": "code",
   "execution_count": 13,
   "metadata": {},
   "outputs": [
    {
     "name": "stdout",
     "output_type": "stream",
     "text": [
      "False\n",
      "True\n"
     ]
    }
   ],
   "source": [
    "test=10.\n",
    "test2=np.nan\n",
    "print ( np.isnan(test) )\n",
    "\n",
    "print ( np.isnan(test2) )\n"
   ]
  },
  {
   "cell_type": "markdown",
   "metadata": {},
   "source": [
    "### Now we use the function _np.isnan()_  in connection with the if-statement (line 5 in the code below).\n"
   ]
  },
  {
   "cell_type": "code",
   "execution_count": 14,
   "metadata": {},
   "outputs": [
    {
     "data": {
      "text/plain": [
       "{'whiskers': [<matplotlib.lines.Line2D at 0x7ff0132d6160>,\n",
       "  <matplotlib.lines.Line2D at 0x7ff0132d64c0>],\n",
       " 'caps': [<matplotlib.lines.Line2D at 0x7ff0132d6820>,\n",
       "  <matplotlib.lines.Line2D at 0x7ff0132d6b80>],\n",
       " 'boxes': [<matplotlib.lines.Line2D at 0x7ff0132c4dc0>],\n",
       " 'medians': [<matplotlib.lines.Line2D at 0x7ff0132d6ee0>],\n",
       " 'fliers': [<matplotlib.lines.Line2D at 0x7ff0132df2b0>],\n",
       " 'means': []}"
      ]
     },
     "execution_count": 14,
     "metadata": {},
     "output_type": "execute_result"
    },
    {
     "data": {
      "image/png": "[encoded data removed]",
      "text/plain": [
       "<Figure size 432x288 with 1 Axes>"
      ]
     },
     "metadata": {
      "needs_background": "light"
     },
     "output_type": "display_data"
    }
   ],
   "source": [
    "# in order to eliminate the np.nan\n",
    "# we can do this\n",
    "zclean=[]\n",
    "for value in z:\n",
    "    if np.isnan(value):\n",
    "        pass\n",
    "    else:\n",
    "        zclean.append(value)\n",
    "#Now the box-plot works\n",
    "plt.boxplot(zclean)"
   ]
  },
  {
   "cell_type": "markdown",
   "metadata": {},
   "source": [
    "## In the solultion below we added that we copy the corresponding x-values to a new list xclean.\n",
    "\n",
    "\n",
    "Often we have paired data like in this time series example. Array *x* contains only valid numerical values (no np.nan values). If you want to keep the x and y values paired, then you have to subsample the array *x* at the right index positions, too. That is done in the example below. We added another list *xclean* and use an index position counter *i* in the loop.\n"
   ]
  },
  {
   "cell_type": "code",
   "execution_count": 10,
   "metadata": {},
   "outputs": [],
   "source": [
    "zclean=[]\n",
    "xclean=[]\n",
    "i=0\n",
    "for value in z:\n",
    "    if np.isnan(value):\n",
    "        pass\n",
    "    else:\n",
    "        zclean.append(value)\n",
    "        xvalue=x[i]\n",
    "        xclean.append(xvalue)\n",
    "        #print(\"the value is %6.4f\" % (value))\n",
    "    i=i+1\n",
    "\n"
   ]
  },
  {
   "cell_type": "markdown",
   "metadata": {},
   "source": [
    "### Now the still boxplot works (of course)"
   ]
  },
  {
   "cell_type": "code",
   "execution_count": 17,
   "metadata": {},
   "outputs": [
    {
     "ename": "NameError",
     "evalue": "name 'yclean' is not defined",
     "output_type": "error",
     "traceback": [
      "\u001b[0;31m---------------------------------------------------------------------------\u001b[0m",
      "\u001b[0;31mNameError\u001b[0m                                 Traceback (most recent call last)",
      "\u001b[0;32m<ipython-input-17-dd5236ac7aa7>\u001b[0m in \u001b[0;36m<module>\u001b[0;34m\u001b[0m\n\u001b[0;32m----> 1\u001b[0;31m \u001b[0mplt\u001b[0m\u001b[0;34m.\u001b[0m\u001b[0mboxplot\u001b[0m\u001b[0;34m(\u001b[0m\u001b[0myclean\u001b[0m\u001b[0;34m)\u001b[0m\u001b[0;34m\u001b[0m\u001b[0;34m\u001b[0m\u001b[0m\n\u001b[0m",
      "\u001b[0;31mNameError\u001b[0m: name 'yclean' is not defined"
     ]
    }
   ],
   "source": [
    "plt.boxplot(yclean)"
   ]
  },
  {
   "cell_type": "markdown",
   "metadata": {},
   "source": [
    "### And you can still plot the same time series as before:\n"
   ]
  },
  {
   "cell_type": "code",
   "execution_count": 12,
   "metadata": {},
   "outputs": [
    {
     "data": {
      "image/png": "[encoded data removed]",
      "text/plain": [
       "<Figure size 432x288 with 1 Axes>"
      ]
     },
     "metadata": {
      "needs_background": "light"
     },
     "output_type": "display_data"
    }
   ],
   "source": [
    "\n",
    "plt.plot(x,z,'x',color='red',markersize=10,label='with np.nan values')\n",
    "plt.plot(xclean,zclean,'.',color='cyan',label='cleaned up data')\n",
    "\n",
    "plt.legend()\n",
    "plt.show()\n"
   ]
  },
  {
   "cell_type": "markdown",
   "metadata": {},
   "source": [
    "### Note: \n",
    "\n",
    "We use lists because they are convenient to build and append values to them. You can always convert them into type numpy array \n",
    "before working with them in the data analysis and plotting with\n"
   ]
  },
  {
   "cell_type": "code",
   "execution_count": 7,
   "metadata": {},
   "outputs": [
    {
     "ename": "NameError",
     "evalue": "name 'yclean' is not defined",
     "output_type": "error",
     "traceback": [
      "\u001b[0;31m---------------------------------------------------------------------------\u001b[0m",
      "\u001b[0;31mNameError\u001b[0m                                 Traceback (most recent call last)",
      "\u001b[0;32m<ipython-input-7-61bc8ffaf791>\u001b[0m in \u001b[0;36m<module>\u001b[0;34m\u001b[0m\n\u001b[0;32m----> 1\u001b[0;31m \u001b[0myclean\u001b[0m\u001b[0;34m=\u001b[0m\u001b[0mnp\u001b[0m\u001b[0;34m.\u001b[0m\u001b[0marray\u001b[0m\u001b[0;34m(\u001b[0m\u001b[0myclean\u001b[0m\u001b[0;34m)\u001b[0m\u001b[0;34m\u001b[0m\u001b[0;34m\u001b[0m\u001b[0m\n\u001b[0m\u001b[1;32m      2\u001b[0m \u001b[0mxclean\u001b[0m\u001b[0;34m=\u001b[0m\u001b[0mnp\u001b[0m\u001b[0;34m.\u001b[0m\u001b[0marray\u001b[0m\u001b[0;34m(\u001b[0m\u001b[0mxclean\u001b[0m\u001b[0;34m)\u001b[0m\u001b[0;34m\u001b[0m\u001b[0;34m\u001b[0m\u001b[0m\n\u001b[1;32m      3\u001b[0m \u001b[0myclean\u001b[0m\u001b[0;34m=\u001b[0m\u001b[0myclean\u001b[0m\u001b[0;34m*\u001b[0m\u001b[0;36m100\u001b[0m \u001b[0;31m#\u001b[0m\u001b[0;34m\u001b[0m\u001b[0;34m\u001b[0m\u001b[0m\n",
      "\u001b[0;31mNameError\u001b[0m: name 'yclean' is not defined"
     ]
    }
   ],
   "source": [
    "yclean=np.array(yclean)\n",
    "xclean=np.array(xclean)\n",
    "yclean=yclean*100 #"
   ]
  },
  {
   "cell_type": "markdown",
   "metadata": {},
   "source": [
    "### Summary:\n",
    "\n",
    "Real-world data are hardly ever perfect. Missing values can be indicated in numpy arrays with np.nan.\n",
    "Oftentimes we need to clean up the data arrays before we can conduct our data analysis. We have ways to check for np.nan values. Lists and for-loops allow us to collect the good data values in lists or arrays. This notebook provides a fairly simply but widely applicable 'recipe' code for cleaning 1-dimensional arrays from np.nan values.\n"
   ]
  }
 ],
 "metadata": {
  "kernelspec": {
   "display_name": "Python 3",
   "language": "python",
   "name": "python3"
  },
  "language_info": {
   "codemirror_mode": {
    "name": "ipython",
    "version": 3
   },
   "file_extension": ".py",
   "mimetype": "text/x-python",
   "name": "python",
   "nbconvert_exporter": "python",
   "pygments_lexer": "ipython3",
   "version": "3.8.6"
  }
 },
 "nbformat": 4,
 "nbformat_minor": 2
}
