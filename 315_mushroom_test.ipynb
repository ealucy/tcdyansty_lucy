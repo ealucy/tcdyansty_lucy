{
 "cells": [
  {
   "cell_type": "code",
   "execution_count": null,
   "metadata": {},
   "outputs": [],
   "source": [
    "import matplotlib.pyplot as plt\n",
    "import numpy as np\n",
    "\n",
    "file1a=\"mushroom_sample1.ppm\" #Hypholoma fasciculare\n",
    "file1b=\"mushroom_sample_unknown.ppm\" # is also Hypholoma fasciculare\n",
    "file2=\"mushroom_sample2.ppm\" #Hypholoma capnoide\n",
    "file1=file1b\n",
    "\n",
    "def read_ppm(filename,path='../data/'):\n",
    "    \n",
    "    with open(path+filename) as f:\n",
    "        f.readline()\n",
    "        f.readline()\n",
    "        line=f.readline()\n",
    "        values=line.split()\n",
    "        dim=np.array([int(values[0]),int(values[1])])\n",
    "        nline=3*dim[0]*dim[1]\n",
    "        i=0\n",
    "        allowed_range=[0,255]\n",
    "        fill_value=255\n",
    "        rgb=np.empty(3*dim[0]*dim[1])\n",
    "        while i<nline:\n",
    "            line=f.readline()\n",
    "            rgb[i]=int(line)\n",
    "            i=i+1\n",
    "        rgb=np.reshape(rgb,newshape=[dim[1],dim[0],3])\n",
    "    return rgb\n",
    "img1=read_ppm(file1)\n",
    "img2=read_ppm(file2)\n",
    "RED=0\n",
    "GREEN=1\n",
    "BLUE=2\n",
    "COLOR=GREEN\n",
    "\n"
   ]
  },
  {
   "cell_type": "code",
   "execution_count": null,
   "metadata": {},
   "outputs": [],
   "source": [
    "# make brightest parts 'darkest green' by 255- img1 255- img2\n",
    "plt.imshow(255-img1[:,:,COLOR],cmap=plt.cm.YlGn)\n",
    "plt.colorbar()\n",
    "plt.show()"
   ]
  },
  {
   "cell_type": "code",
   "execution_count": null,
   "metadata": {},
   "outputs": [],
   "source": [
    "plt.imshow(255-img2[:,:,COLOR],cmap=plt.cm.YlGn)\n",
    "plt.colorbar()\n",
    "plt.show()\n"
   ]
  },
  {
   "cell_type": "code",
   "execution_count": null,
   "metadata": {},
   "outputs": [],
   "source": []
  },
  {
   "cell_type": "code",
   "execution_count": null,
   "metadata": {},
   "outputs": [],
   "source": [
    "# make highest values (in image the whitest part) into lowest values\n",
    "# so that the more green in the mushroom color the larger the value\n",
    "green1=255-np.reshape(img1[:,:,COLOR],newshape=np.size(img1[:,:,COLOR]))\n",
    "isuse1=green1>0\n",
    "np.histogram(green1[isuse1])\n",
    "green2=255-np.reshape(img2[:,:,COLOR],newshape=np.size(img2[:,:,COLOR]))\n",
    "isuse2=green2>0\n",
    "bins=np.arange(0,255,15)\n",
    "plt.hist(green1[isuse1],bins=bins,alpha=0.7,color='lightgreen',density=True)\n",
    "plt.hist(green2[isuse2],bins=bins,alpha=0.7,color='green',density=True)\n",
    "plt.show()\n",
    "\n",
    "from scipy.stats import ttest_ind\n",
    "\n",
    "tval,pval=ttest_ind(green1[isuse1],green2[isuse2],equal_var=False)\n",
    "m1=np.mean(green1[isuse1])\n",
    "m2=np.mean(green2[isuse2])\n",
    "s1=np.std(green1[isuse1])\n",
    "s2=np.std(green2[isuse2])\n",
    "d=m1-m2\n",
    "print (\"mean and stddev 1: \",m1,s1)\n",
    "print (\"mean and stddev 2: \",m2,s2)\n",
    "print (\"difference: \",d)\n",
    "print (tval,pval)"
   ]
  },
  {
   "cell_type": "code",
   "execution_count": null,
   "metadata": {},
   "outputs": [],
   "source": [
    "img1.reshape(img1.size)\n"
   ]
  },
  {
   "cell_type": "code",
   "execution_count": null,
   "metadata": {},
   "outputs": [],
   "source": []
  }
 ],
 "metadata": {
  "kernelspec": {
   "display_name": "Python 3",
   "language": "python",
   "name": "python3"
  },
  "language_info": {
   "codemirror_mode": {
    "name": "ipython",
    "version": 3
   },
   "file_extension": ".py",
   "mimetype": "text/x-python",
   "name": "python",
   "nbconvert_exporter": "python",
   "pygments_lexer": "ipython3",
   "version": "3.8.6"
  }
 },
 "nbformat": 4,
 "nbformat_minor": 2
}
