{
 "cells": [
  {
   "cell_type": "code",
   "execution_count": 30,
   "id": "international-paper",
   "metadata": {},
   "outputs": [
    {
     "name": "stdout",
     "output_type": "stream",
     "text": [
      "<class 'numpy.ndarray'>\n",
      "(2, 3)\n",
      "(2, 3)\n"
     ]
    }
   ],
   "source": [
    "import numpy as np\n",
    "\n",
    "a=np.array([[1,2,3],[4,5,6]],float)\n",
    "print(type(a))\n",
    "print(a.shape) \n",
    "print(np.shape(a)) # same thing as line above but written differently"
   ]
  },
  {
   "cell_type": "code",
   "execution_count": 31,
   "id": "comic-frederick",
   "metadata": {},
   "outputs": [
    {
     "name": "stdout",
     "output_type": "stream",
     "text": [
      "[[1. 2. 3.]\n",
      " [4. 5. 6.]]\n"
     ]
    }
   ],
   "source": [
    "print(a) # returns the whole array"
   ]
  },
  {
   "cell_type": "code",
   "execution_count": 35,
   "id": "opening-inspiration",
   "metadata": {},
   "outputs": [
    {
     "name": "stdout",
     "output_type": "stream",
     "text": [
      "[list([2, 3]) list([4, 5, 6])]\n",
      "(2,)\n"
     ]
    }
   ],
   "source": [
    "b=np.array([[2,3],[4,5,6]]) # different indices in each row --- bad i think\n",
    "print(b)\n",
    "print(b.shape) # printed (2,) so idk what that means but it took the number of elements in the first row"
   ]
  },
  {
   "cell_type": "code",
   "execution_count": 83,
   "id": "animated-clause",
   "metadata": {},
   "outputs": [
    {
     "name": "stdout",
     "output_type": "stream",
     "text": [
      "(4,)\n"
     ]
    }
   ],
   "source": [
    "temp=np.array([27.3,-5.0,10.0,-9999.0],float)\n",
    "print(np.shape(temp)) # 1D array with 4 elements\n",
    "\n",
    "station=[\" KALB \",\" BSPA \",\" VOOR \",\" NYC \"] # station names"
   ]
  },
  {
   "cell_type": "code",
   "execution_count": 84,
   "id": "preliminary-packet",
   "metadata": {},
   "outputs": [
    {
     "name": "stdout",
     "output_type": "stream",
     "text": [
      " KALB 27.3\n",
      " BSPA -5.0\n",
      " VOOR 10.0\n",
      "WARNING: missing value in temp data\n",
      " station  NYC  at index i=3\n",
      " sum is 32.3\n",
      " valid data n=3\n",
      " average temp: 10.766666666666666\n"
     ]
    }
   ],
   "source": [
    "dummy_value=-9999.0 # or missing_value \n",
    "\n",
    "i=0 # index counter initialised\n",
    "\n",
    "tempsum=0 # averaging temperature data start\n",
    "\n",
    "n=0 # valid station data counter\n",
    "\n",
    "for t in temp: \n",
    "    s=station[i] # putting this outside of the if-else block ensures that it works every time\n",
    "    if t> -9999.0:\n",
    "        #s=station[i] # keeping track of at which position we are in the arrays \n",
    "        print(s + str(t))\n",
    "        tempsum=tempsum+t # summing the temperature after each iteration \n",
    "        n=n+1 # only count station data that is valid - so it belongs in the if block\n",
    "    else:\n",
    "        #s=station[i] # redefine s in the else part: keeping track of at which position we are in the arrays\n",
    "        print(\"WARNING: missing value in temp data\")\n",
    "        print(\" station \" + s + \" at index i=\" + str(i))\n",
    "    i=i+1 # index incremented by +1\n",
    "    \n",
    "print(\" sum is \" + str(tempsum))\n",
    "tavg=tempsum/n\n",
    "print(\" valid data n=\" + str(n)) \n",
    "print(\" average temp: \" + str(tavg))"
   ]
  }
 ],
 "metadata": {
  "kernelspec": {
   "display_name": "Python 3 June 2020 Environment",
   "language": "python",
   "name": "jun20"
  },
  "language_info": {
   "codemirror_mode": {
    "name": "ipython",
    "version": 3
   },
   "file_extension": ".py",
   "mimetype": "text/x-python",
   "name": "python",
   "nbconvert_exporter": "python",
   "pygments_lexer": "ipython3",
   "version": "3.7.6"
  }
 },
 "nbformat": 4,
 "nbformat_minor": 5
}
