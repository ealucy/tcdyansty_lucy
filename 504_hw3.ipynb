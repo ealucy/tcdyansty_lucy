{
 "cells": [
  {
   "cell_type": "code",
   "execution_count": 1,
   "id": "a9e9c535-870f-4e4a-a2a5-1dee99232a2b",
   "metadata": {},
   "outputs": [],
   "source": [
    "import numpy as np\n",
    "import math\n",
    "import matplotlib.pyplot as plt\n",
    "from metpy.units import units"
   ]
  },
  {
   "cell_type": "markdown",
   "id": "9dbfff17-3f8c-427f-898e-5264f92d8532",
   "metadata": {},
   "source": [
    "# A. Questions on Atmopsheric Scattering"
   ]
  },
  {
   "cell_type": "markdown",
   "id": "c38b19a6-e0c4-4185-8d0f-391c3fcfd1a3",
   "metadata": {},
   "source": [
    "# 1a. \n",
    "If the atmosphere did not scatter light, when you looked at the daytime sky, you would see black. Since particles in the atmopshere are responsible for scattering light upon contact with radiation, we see a blue sky during the day and red/orange/yellow sky in the evening. Without that, there would only be black, like in space."
   ]
  },
  {
   "cell_type": "markdown",
   "id": "e0cda526-7be6-472b-88c6-4b282af10518",
   "metadata": {},
   "source": [
    "# 1b.\n",
    "$$\n",
    "\\lambda _{blue} = 450 nm\n",
    "$$\n",
    "$$\n",
    "\\lambda _{red} = 650 nm\n",
    "$$\n",
    "$$\n",
    "I_{sca} \\propto \\lambda ^{-4}\n",
    "$$\n",
    "$$\n",
    "I_{sca_{blue}} = 450 nm ^{-4}\n",
    "$$\n",
    "$$\n",
    "I_{sca_{red}} = 650 nm ^{-4}\n",
    "$$\n",
    "$$\n",
    "ratio blue to red = I_{sca_{blue}}/I_{sca_{red}}\n",
    "$$"
   ]
  },
  {
   "cell_type": "code",
   "execution_count": 2,
   "id": "ab8b546f-cb9f-4a0c-87ca-32fa08079453",
   "metadata": {},
   "outputs": [],
   "source": [
    "I_b = 450 ** -4\n",
    "I_r = 650 ** -4"
   ]
  },
  {
   "cell_type": "code",
   "execution_count": 3,
   "id": "076357c7-1eed-4ab7-9901-f2dffe6e08b1",
   "metadata": {},
   "outputs": [],
   "source": [
    "ratio_b_to_r = I_b/I_r"
   ]
  },
  {
   "cell_type": "code",
   "execution_count": 4,
   "id": "b0840273-f49e-434a-b3ef-9615e23fab48",
   "metadata": {},
   "outputs": [
    {
     "data": {
      "text/plain": [
       "4.353147386069197"
      ]
     },
     "execution_count": 4,
     "metadata": {},
     "output_type": "execute_result"
    }
   ],
   "source": [
    "ratio_b_to_r"
   ]
  },
  {
   "cell_type": "markdown",
   "id": "392e5c38-7305-4572-8fa7-f8258d5ac32c",
   "metadata": {},
   "source": [
    "# ratio blue to red = 4.353147386069197"
   ]
  },
  {
   "cell_type": "markdown",
   "id": "1b8db3e3-2f51-4653-810a-b3638fbc2c2d",
   "metadata": {},
   "source": [
    "# range of UV light: https://www.ncbi.nlm.nih.gov/books/NBK304366/#:~:text=The%20wavelength%20of%20UV%20radiation,(100%E2%80%93280%20nm)."
   ]
  },
  {
   "cell_type": "markdown",
   "id": "627600fd-d0fa-428f-a22e-12136d39526f",
   "metadata": {},
   "source": [
    "# selecting 200 nm as UV wavelength from above"
   ]
  },
  {
   "cell_type": "markdown",
   "id": "970b876b-780c-408e-b57c-f6b958e194ae",
   "metadata": {},
   "source": [
    "$$\n",
    "\\lambda _{UV} = 200 nm\n",
    "$$\n",
    "$$\n",
    "\\lambda _{red} = 650 nm\n",
    "$$\n",
    "$$\n",
    "I_{sca} \\propto \\lambda ^{-4}\n",
    "$$\n",
    "$$\n",
    "I_{sca_{UV}} = 200 nm ^{-4}\n",
    "$$\n",
    "$$\n",
    "I_{sca_{red}} = 650 nm ^{-4}\n",
    "$$\n",
    "$$\n",
    "ratio UV to red = I_{sca_{UV}}/I_{sca_{red}}\n",
    "$$"
   ]
  },
  {
   "cell_type": "code",
   "execution_count": 5,
   "id": "6c544490-2748-401b-b4de-d46b777c57e2",
   "metadata": {},
   "outputs": [],
   "source": [
    "I_uv = 200 ** -4\n",
    "I_r = 650 ** -4"
   ]
  },
  {
   "cell_type": "code",
   "execution_count": 6,
   "id": "94486310-b364-4d49-b5dd-f6f9e527260b",
   "metadata": {},
   "outputs": [],
   "source": [
    "ratio_uv_to_r = I_uv/I_r"
   ]
  },
  {
   "cell_type": "code",
   "execution_count": 7,
   "id": "69d6441b-ad43-4806-914f-87c4d278eb02",
   "metadata": {},
   "outputs": [
    {
     "data": {
      "text/plain": [
       "111.56640625000001"
      ]
     },
     "execution_count": 7,
     "metadata": {},
     "output_type": "execute_result"
    }
   ],
   "source": [
    "ratio_uv_to_r"
   ]
  },
  {
   "cell_type": "markdown",
   "id": "77414627-dc10-4946-9939-79bc3ded538c",
   "metadata": {},
   "source": [
    "# ratio UV to red = 111.56640625000001"
   ]
  },
  {
   "cell_type": "markdown",
   "id": "f0255af4-2ff3-4f3d-9db3-dff4d5e30b46",
   "metadata": {},
   "source": [
    "# 2.\n",
    "At the top of the atmosphere there are very few particles/molecules/aerosols to cause scattering. Much like in the vacuum of space, which lacks particles/molecules/aerosols, the TOA appears black (no scattering). As you move down throuhg the atmosphere, Rayleigh scattering is responsible for the blue appearance. Rayleigh scattering is preferential when the responsible particles have a size parameter that is much smaller than incident wavelength. Blue light is prefferentially scattered, based off the scattering parameter (defined in the above question). Since blue light is preferentially scattered, there is more spectral radiance in the blue wavelength than violet, and since our eyes are more sensitive to blue light than violet, we observe blue light in the sky. Lower in the atmosphere, especially at sunrise/sunset, where light has to travel through a greater distance to reach our eyes at the surface, it has a red/orange appearance. This is due to the fact that blue light is scattered even more, and scattered away, giving red/orange light more chance to be scattered towards us, and leaving us with red/orange light. However, as you travel lower in the atmopshere, particle size gets bigger, as there are rain/cloud droplets and smoke/dust particles in the troposphere. At certain wavelengths, the scattering regime is Mie, rather than Rayleigh. This favors more colorful light reaching our eyes. At the surface, with larger objects like buildings and pavement, scattering is in the geometric regime. "
   ]
  },
  {
   "cell_type": "markdown",
   "id": "d1d38544-adc0-466d-a041-9eb823e32ca0",
   "metadata": {},
   "source": [
    "# 3.\n",
    "The dashed line is the solar irradiance curve with respect to wavelength. More specifically, it is the blackbody solar irradiance curve for a temperature of 6000 K. The next solid line down is the solar irradiace curve outside the atmosphere, and the line below that is the solar irradiance curve at sea level for a zenith angle of 0 degrees. The shaded region between the bottom two curves represents absorption and the unshaded region between the two curves represents scattering. \"Atmospheric windows\" are wavelengths of light that are not absorbed by molecules in the atmosphere. In Earth's lower atmosphere, light is scattered by some part in the Rayleigh regime (most often blue light) and some in the Mie regime (larger particles such as rain drops in the lower atmosphere). Generally, we only consider scattering for solar radiation wavelengths (shortwave, .3-4.0 micrometers) and absorption for terrestrial radiation wavelengths (longwave, 3.5-50 micrometers.) This is because scattering is negligible for longer wavelengths and smaller particles. Additionally, for longer wavelengths, there is more absorption (less atmospheric windows) than scattering. At shorter wavelengths, there is much less absorption (more atmospheric windows) than scattering. Thus, as a general rule, we can consider scattering for solar radiation and absoprtion for terrestrial radiation.  "
   ]
  },
  {
   "cell_type": "code",
   "execution_count": null,
   "id": "023a39b0-c514-4290-9f92-99a6a93c13b8",
   "metadata": {},
   "outputs": [],
   "source": []
  }
 ],
 "metadata": {
  "kernelspec": {
   "display_name": "Python 3 Jan. 2024 Environment",
   "language": "python",
   "name": "jan24"
  },
  "language_info": {
   "codemirror_mode": {
    "name": "ipython",
    "version": 3
   },
   "file_extension": ".py",
   "mimetype": "text/x-python",
   "name": "python",
   "nbconvert_exporter": "python",
   "pygments_lexer": "ipython3",
   "version": "3.11.7"
  }
 },
 "nbformat": 4,
 "nbformat_minor": 5
}
