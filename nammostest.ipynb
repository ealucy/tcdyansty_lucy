{
 "cells": [
  {
   "cell_type": "code",
   "execution_count": 25,
   "id": "2a9cd776",
   "metadata": {},
   "outputs": [],
   "source": [
    "filename=\"nammos\"\n",
    "import pandas as pd\n",
    "df=pd.read_csv(filename)"
   ]
  },
  {
   "cell_type": "code",
   "execution_count": 26,
   "id": "ec157349",
   "metadata": {},
   "outputs": [
    {
     "data": {
      "text/html": [
       "<div>\n",
       "<style scoped>\n",
       "    .dataframe tbody tr th:only-of-type {\n",
       "        vertical-align: middle;\n",
       "    }\n",
       "\n",
       "    .dataframe tbody tr th {\n",
       "        vertical-align: top;\n",
       "    }\n",
       "\n",
       "    .dataframe thead th {\n",
       "        text-align: right;\n",
       "    }\n",
       "</style>\n",
       "<table border=\"1\" class=\"dataframe\">\n",
       "  <thead>\n",
       "    <tr style=\"text-align: right;\">\n",
       "      <th></th>\n",
       "      <th>KALB   NAM MOS GUIDANCE    8/30/2021  1200 UTC</th>\n",
       "    </tr>\n",
       "  </thead>\n",
       "  <tbody>\n",
       "    <tr>\n",
       "      <th>0</th>\n",
       "      <td>DT /AUG  30/AUG  31                /SEPT  1   ...</td>\n",
       "    </tr>\n",
       "    <tr>\n",
       "      <th>1</th>\n",
       "      <td>HR   18 21 00 03 06 09 12 15 18 21 00 03 06 09...</td>\n",
       "    </tr>\n",
       "    <tr>\n",
       "      <th>2</th>\n",
       "      <td>N/X                    63          79         ...</td>\n",
       "    </tr>\n",
       "    <tr>\n",
       "      <th>3</th>\n",
       "      <td>TMP  81 81 75 71 67 65 66 73 76 75 69 64 61 58...</td>\n",
       "    </tr>\n",
       "    <tr>\n",
       "      <th>4</th>\n",
       "      <td>DPT  70 69 66 65 63 61 61 62 61 60 60 57 56 54...</td>\n",
       "    </tr>\n",
       "    <tr>\n",
       "      <th>5</th>\n",
       "      <td>CLD  BK BK SC CL FW FW FW SC BK BK SC FW CL FW...</td>\n",
       "    </tr>\n",
       "    <tr>\n",
       "      <th>6</th>\n",
       "      <td>WDR  20 23 26 27 20 23 25 28 28 29 29 28 29 24...</td>\n",
       "    </tr>\n",
       "    <tr>\n",
       "      <th>7</th>\n",
       "      <td>WSP  08 09 07 04 02 03 04 07 09 08 07 03 01 01...</td>\n",
       "    </tr>\n",
       "    <tr>\n",
       "      <th>8</th>\n",
       "      <td>P06        27     8     4     6     4     6   ...</td>\n",
       "    </tr>\n",
       "    <tr>\n",
       "      <th>9</th>\n",
       "      <td>P12                    11           6         ...</td>\n",
       "    </tr>\n",
       "    <tr>\n",
       "      <th>10</th>\n",
       "      <td>Q06         0     0     0     0     0     0   ...</td>\n",
       "    </tr>\n",
       "    <tr>\n",
       "      <th>11</th>\n",
       "      <td>Q12                     0           0         ...</td>\n",
       "    </tr>\n",
       "    <tr>\n",
       "      <th>12</th>\n",
       "      <td>T06     35/17  0/ 6  0/ 1  0/ 4  0/ 9  0/ 4  0...</td>\n",
       "    </tr>\n",
       "    <tr>\n",
       "      <th>13</th>\n",
       "      <td>T12           35/17        0/ 4        0/10   ...</td>\n",
       "    </tr>\n",
       "    <tr>\n",
       "      <th>14</th>\n",
       "      <td>CIG   6  6  8  8  8  8  8  8  7  8  8  8  8  8...</td>\n",
       "    </tr>\n",
       "    <tr>\n",
       "      <th>15</th>\n",
       "      <td>VIS   7  7  7  7  7  7  7  7  7  7  7  7  7  7...</td>\n",
       "    </tr>\n",
       "    <tr>\n",
       "      <th>16</th>\n",
       "      <td>OBV   N  N  N  N  N  N  N  N  N  N  N  N  N  N...</td>\n",
       "    </tr>\n",
       "  </tbody>\n",
       "</table>\n",
       "</div>"
      ],
      "text/plain": [
       "       KALB   NAM MOS GUIDANCE    8/30/2021  1200 UTC\n",
       "0   DT /AUG  30/AUG  31                /SEPT  1   ...\n",
       "1   HR   18 21 00 03 06 09 12 15 18 21 00 03 06 09...\n",
       "2   N/X                    63          79         ...\n",
       "3   TMP  81 81 75 71 67 65 66 73 76 75 69 64 61 58...\n",
       "4   DPT  70 69 66 65 63 61 61 62 61 60 60 57 56 54...\n",
       "5   CLD  BK BK SC CL FW FW FW SC BK BK SC FW CL FW...\n",
       "6   WDR  20 23 26 27 20 23 25 28 28 29 29 28 29 24...\n",
       "7   WSP  08 09 07 04 02 03 04 07 09 08 07 03 01 01...\n",
       "8   P06        27     8     4     6     4     6   ...\n",
       "9   P12                    11           6         ...\n",
       "10  Q06         0     0     0     0     0     0   ...\n",
       "11  Q12                     0           0         ...\n",
       "12  T06     35/17  0/ 6  0/ 1  0/ 4  0/ 9  0/ 4  0...\n",
       "13  T12           35/17        0/ 4        0/10   ...\n",
       "14  CIG   6  6  8  8  8  8  8  8  7  8  8  8  8  8...\n",
       "15  VIS   7  7  7  7  7  7  7  7  7  7  7  7  7  7...\n",
       "16  OBV   N  N  N  N  N  N  N  N  N  N  N  N  N  N..."
      ]
     },
     "execution_count": 26,
     "metadata": {},
     "output_type": "execute_result"
    }
   ],
   "source": [
    "df"
   ]
  },
  {
   "cell_type": "code",
   "execution_count": 37,
   "id": "c797c68f",
   "metadata": {},
   "outputs": [
    {
     "ename": "KeyError",
     "evalue": "15",
     "output_type": "error",
     "traceback": [
      "\u001b[0;31m---------------------------------------------------------------------------\u001b[0m",
      "\u001b[0;31mKeyError\u001b[0m                                  Traceback (most recent call last)",
      "\u001b[0;32m/kt11/ktyle/anaconda3_2001/envs/jun20/lib/python3.7/site-packages/pandas/core/indexes/base.py\u001b[0m in \u001b[0;36mget_loc\u001b[0;34m(self, key, method, tolerance)\u001b[0m\n\u001b[1;32m   2888\u001b[0m             \u001b[0;32mtry\u001b[0m\u001b[0;34m:\u001b[0m\u001b[0;34m\u001b[0m\u001b[0;34m\u001b[0m\u001b[0m\n\u001b[0;32m-> 2889\u001b[0;31m                 \u001b[0;32mreturn\u001b[0m \u001b[0mself\u001b[0m\u001b[0;34m.\u001b[0m\u001b[0m_engine\u001b[0m\u001b[0;34m.\u001b[0m\u001b[0mget_loc\u001b[0m\u001b[0;34m(\u001b[0m\u001b[0mcasted_key\u001b[0m\u001b[0;34m)\u001b[0m\u001b[0;34m\u001b[0m\u001b[0;34m\u001b[0m\u001b[0m\n\u001b[0m\u001b[1;32m   2890\u001b[0m             \u001b[0;32mexcept\u001b[0m \u001b[0mKeyError\u001b[0m \u001b[0;32mas\u001b[0m \u001b[0merr\u001b[0m\u001b[0;34m:\u001b[0m\u001b[0;34m\u001b[0m\u001b[0;34m\u001b[0m\u001b[0m\n",
      "\u001b[0;32mpandas/_libs/index.pyx\u001b[0m in \u001b[0;36mpandas._libs.index.IndexEngine.get_loc\u001b[0;34m()\u001b[0m\n",
      "\u001b[0;32mpandas/_libs/index.pyx\u001b[0m in \u001b[0;36mpandas._libs.index.IndexEngine.get_loc\u001b[0;34m()\u001b[0m\n",
      "\u001b[0;32mpandas/_libs/hashtable_class_helper.pxi\u001b[0m in \u001b[0;36mpandas._libs.hashtable.PyObjectHashTable.get_item\u001b[0;34m()\u001b[0m\n",
      "\u001b[0;32mpandas/_libs/hashtable_class_helper.pxi\u001b[0m in \u001b[0;36mpandas._libs.hashtable.PyObjectHashTable.get_item\u001b[0;34m()\u001b[0m\n",
      "\u001b[0;31mKeyError\u001b[0m: 15",
      "\nThe above exception was the direct cause of the following exception:\n",
      "\u001b[0;31mKeyError\u001b[0m                                  Traceback (most recent call last)",
      "\u001b[0;32m<ipython-input-37-051d795c4613>\u001b[0m in \u001b[0;36m<module>\u001b[0;34m\u001b[0m\n\u001b[0;32m----> 1\u001b[0;31m \u001b[0mselect\u001b[0m \u001b[0;34m=\u001b[0m \u001b[0mdf\u001b[0m\u001b[0;34m.\u001b[0m\u001b[0mloc\u001b[0m\u001b[0;34m[\u001b[0m\u001b[0mdf\u001b[0m\u001b[0;34m[\u001b[0m\u001b[0;36m15\u001b[0m\u001b[0;34m]\u001b[0m \u001b[0;34m==\u001b[0m \u001b[0;34m'visibility'\u001b[0m\u001b[0;34m]\u001b[0m\u001b[0;34m\u001b[0m\u001b[0;34m\u001b[0m\u001b[0m\n\u001b[0m\u001b[1;32m      2\u001b[0m \u001b[0mprint\u001b[0m\u001b[0;34m(\u001b[0m\u001b[0mselect\u001b[0m\u001b[0;34m)\u001b[0m\u001b[0;34m\u001b[0m\u001b[0;34m\u001b[0m\u001b[0m\n",
      "\u001b[0;32m/kt11/ktyle/anaconda3_2001/envs/jun20/lib/python3.7/site-packages/pandas/core/frame.py\u001b[0m in \u001b[0;36m__getitem__\u001b[0;34m(self, key)\u001b[0m\n\u001b[1;32m   2897\u001b[0m             \u001b[0;32mif\u001b[0m \u001b[0mself\u001b[0m\u001b[0;34m.\u001b[0m\u001b[0mcolumns\u001b[0m\u001b[0;34m.\u001b[0m\u001b[0mnlevels\u001b[0m \u001b[0;34m>\u001b[0m \u001b[0;36m1\u001b[0m\u001b[0;34m:\u001b[0m\u001b[0;34m\u001b[0m\u001b[0;34m\u001b[0m\u001b[0m\n\u001b[1;32m   2898\u001b[0m                 \u001b[0;32mreturn\u001b[0m \u001b[0mself\u001b[0m\u001b[0;34m.\u001b[0m\u001b[0m_getitem_multilevel\u001b[0m\u001b[0;34m(\u001b[0m\u001b[0mkey\u001b[0m\u001b[0;34m)\u001b[0m\u001b[0;34m\u001b[0m\u001b[0;34m\u001b[0m\u001b[0m\n\u001b[0;32m-> 2899\u001b[0;31m             \u001b[0mindexer\u001b[0m \u001b[0;34m=\u001b[0m \u001b[0mself\u001b[0m\u001b[0;34m.\u001b[0m\u001b[0mcolumns\u001b[0m\u001b[0;34m.\u001b[0m\u001b[0mget_loc\u001b[0m\u001b[0;34m(\u001b[0m\u001b[0mkey\u001b[0m\u001b[0;34m)\u001b[0m\u001b[0;34m\u001b[0m\u001b[0;34m\u001b[0m\u001b[0m\n\u001b[0m\u001b[1;32m   2900\u001b[0m             \u001b[0;32mif\u001b[0m \u001b[0mis_integer\u001b[0m\u001b[0;34m(\u001b[0m\u001b[0mindexer\u001b[0m\u001b[0;34m)\u001b[0m\u001b[0;34m:\u001b[0m\u001b[0;34m\u001b[0m\u001b[0;34m\u001b[0m\u001b[0m\n\u001b[1;32m   2901\u001b[0m                 \u001b[0mindexer\u001b[0m \u001b[0;34m=\u001b[0m \u001b[0;34m[\u001b[0m\u001b[0mindexer\u001b[0m\u001b[0;34m]\u001b[0m\u001b[0;34m\u001b[0m\u001b[0;34m\u001b[0m\u001b[0m\n",
      "\u001b[0;32m/kt11/ktyle/anaconda3_2001/envs/jun20/lib/python3.7/site-packages/pandas/core/indexes/base.py\u001b[0m in \u001b[0;36mget_loc\u001b[0;34m(self, key, method, tolerance)\u001b[0m\n\u001b[1;32m   2889\u001b[0m                 \u001b[0;32mreturn\u001b[0m \u001b[0mself\u001b[0m\u001b[0;34m.\u001b[0m\u001b[0m_engine\u001b[0m\u001b[0;34m.\u001b[0m\u001b[0mget_loc\u001b[0m\u001b[0;34m(\u001b[0m\u001b[0mcasted_key\u001b[0m\u001b[0;34m)\u001b[0m\u001b[0;34m\u001b[0m\u001b[0;34m\u001b[0m\u001b[0m\n\u001b[1;32m   2890\u001b[0m             \u001b[0;32mexcept\u001b[0m \u001b[0mKeyError\u001b[0m \u001b[0;32mas\u001b[0m \u001b[0merr\u001b[0m\u001b[0;34m:\u001b[0m\u001b[0;34m\u001b[0m\u001b[0;34m\u001b[0m\u001b[0m\n\u001b[0;32m-> 2891\u001b[0;31m                 \u001b[0;32mraise\u001b[0m \u001b[0mKeyError\u001b[0m\u001b[0;34m(\u001b[0m\u001b[0mkey\u001b[0m\u001b[0;34m)\u001b[0m \u001b[0;32mfrom\u001b[0m \u001b[0merr\u001b[0m\u001b[0;34m\u001b[0m\u001b[0;34m\u001b[0m\u001b[0m\n\u001b[0m\u001b[1;32m   2892\u001b[0m \u001b[0;34m\u001b[0m\u001b[0m\n\u001b[1;32m   2893\u001b[0m         \u001b[0;32mif\u001b[0m \u001b[0mtolerance\u001b[0m \u001b[0;32mis\u001b[0m \u001b[0;32mnot\u001b[0m \u001b[0;32mNone\u001b[0m\u001b[0;34m:\u001b[0m\u001b[0;34m\u001b[0m\u001b[0;34m\u001b[0m\u001b[0m\n",
      "\u001b[0;31mKeyError\u001b[0m: 15"
     ]
    }
   ],
   "source": [
    "select = df.loc[df[15] == 'visibility']\n",
    "print(select)"
   ]
  },
  {
   "cell_type": "code",
   "execution_count": 33,
   "id": "8f55c0cb",
   "metadata": {},
   "outputs": [
    {
     "name": "stdout",
     "output_type": "stream",
     "text": [
      "       KALB   NAM MOS GUIDANCE    8/30/2021  1200 UTC\n",
      "0   DT /AUG  30/AUG  31                /SEPT  1   ...\n",
      "1   HR   18 21 00 03 06 09 12 15 18 21 00 03 06 09...\n",
      "2   N/X                    63          79         ...\n",
      "3   TMP  81 81 75 71 67 65 66 73 76 75 69 64 61 58...\n",
      "4   DPT  70 69 66 65 63 61 61 62 61 60 60 57 56 54...\n",
      "5   CLD  BK BK SC CL FW FW FW SC BK BK SC FW CL FW...\n",
      "6   WDR  20 23 26 27 20 23 25 28 28 29 29 28 29 24...\n",
      "7   WSP  08 09 07 04 02 03 04 07 09 08 07 03 01 01...\n",
      "8   P06        27     8     4     6     4     6   ...\n",
      "9   P12                    11           6         ...\n",
      "10  Q06         0     0     0     0     0     0   ...\n",
      "11  Q12                     0           0         ...\n",
      "12  T06     35/17  0/ 6  0/ 1  0/ 4  0/ 9  0/ 4  0...\n",
      "13  T12           35/17        0/ 4        0/10   ...\n",
      "14  CIG   6  6  8  8  8  8  8  8  7  8  8  8  8  8...\n",
      "15  VIS   7  7  7  7  7  7  7  7  7  7  7  7  7  7...\n",
      "16  OBV   N  N  N  N  N  N  N  N  N  N  N  N  N  N...\n"
     ]
    }
   ],
   "source": [
    "print(df)"
   ]
  },
  {
   "cell_type": "code",
   "execution_count": 41,
   "id": "8ef7c8a0",
   "metadata": {},
   "outputs": [
    {
     "name": "stdout",
     "output_type": "stream",
     "text": [
      "       KALB   NAM MOS GUIDANCE    8/30/2021  1200 UTC\n",
      "1   HR   18 21 00 03 06 09 12 15 18 21 00 03 06 09...\n",
      "2   N/X                    63          79         ...\n",
      "3   TMP  81 81 75 71 67 65 66 73 76 75 69 64 61 58...\n",
      "4   DPT  70 69 66 65 63 61 61 62 61 60 60 57 56 54...\n",
      "5   CLD  BK BK SC CL FW FW FW SC BK BK SC FW CL FW...\n",
      "6   WDR  20 23 26 27 20 23 25 28 28 29 29 28 29 24...\n",
      "7   WSP  08 09 07 04 02 03 04 07 09 08 07 03 01 01...\n",
      "8   P06        27     8     4     6     4     6   ...\n",
      "9   P12                    11           6         ...\n",
      "10  Q06         0     0     0     0     0     0   ...\n",
      "11  Q12                     0           0         ...\n",
      "12  T06     35/17  0/ 6  0/ 1  0/ 4  0/ 9  0/ 4  0...\n",
      "13  T12           35/17        0/ 4        0/10   ...\n",
      "14  CIG   6  6  8  8  8  8  8  8  7  8  8  8  8  8...\n",
      "15  VIS   7  7  7  7  7  7  7  7  7  7  7  7  7  7...\n"
     ]
    }
   ],
   "source": [
    "print(df[1:16])"
   ]
  },
  {
   "cell_type": "code",
   "execution_count": 44,
   "id": "8cdeb52d",
   "metadata": {},
   "outputs": [
    {
     "name": "stdout",
     "output_type": "stream",
     "text": [
      "      KALB   NAM MOS GUIDANCE    8/30/2021  1200 UTC\n",
      "2  N/X                    63          79         ...\n",
      "3  TMP  81 81 75 71 67 65 66 73 76 75 69 64 61 58...\n",
      "4  DPT  70 69 66 65 63 61 61 62 61 60 60 57 56 54...\n"
     ]
    }
   ],
   "source": [
    "k=df[2:5]\n",
    "print(k)"
   ]
  },
  {
   "cell_type": "code",
   "execution_count": 47,
   "id": "50fa7bb0",
   "metadata": {},
   "outputs": [
    {
     "data": {
      "text/html": [
       "<div>\n",
       "<style scoped>\n",
       "    .dataframe tbody tr th:only-of-type {\n",
       "        vertical-align: middle;\n",
       "    }\n",
       "\n",
       "    .dataframe tbody tr th {\n",
       "        vertical-align: top;\n",
       "    }\n",
       "\n",
       "    .dataframe thead th {\n",
       "        text-align: right;\n",
       "    }\n",
       "</style>\n",
       "<table border=\"1\" class=\"dataframe\">\n",
       "  <thead>\n",
       "    <tr style=\"text-align: right;\">\n",
       "      <th></th>\n",
       "      <th>KALB   NAM MOS GUIDANCE    8/30/2021  1200 UTC</th>\n",
       "    </tr>\n",
       "  </thead>\n",
       "  <tbody>\n",
       "    <tr>\n",
       "      <th>0</th>\n",
       "      <td>DT /AUG  30/AUG  31                /SEPT  1   ...</td>\n",
       "    </tr>\n",
       "    <tr>\n",
       "      <th>1</th>\n",
       "      <td>HR   18 21 00 03 06 09 12 15 18 21 00 03 06 09...</td>\n",
       "    </tr>\n",
       "    <tr>\n",
       "      <th>2</th>\n",
       "      <td>N/X                    63          79         ...</td>\n",
       "    </tr>\n",
       "    <tr>\n",
       "      <th>3</th>\n",
       "      <td>TMP  81 81 75 71 67 65 66 73 76 75 69 64 61 58...</td>\n",
       "    </tr>\n",
       "    <tr>\n",
       "      <th>4</th>\n",
       "      <td>DPT  70 69 66 65 63 61 61 62 61 60 60 57 56 54...</td>\n",
       "    </tr>\n",
       "  </tbody>\n",
       "</table>\n",
       "</div>"
      ],
      "text/plain": [
       "      KALB   NAM MOS GUIDANCE    8/30/2021  1200 UTC\n",
       "0  DT /AUG  30/AUG  31                /SEPT  1   ...\n",
       "1  HR   18 21 00 03 06 09 12 15 18 21 00 03 06 09...\n",
       "2  N/X                    63          79         ...\n",
       "3  TMP  81 81 75 71 67 65 66 73 76 75 69 64 61 58...\n",
       "4  DPT  70 69 66 65 63 61 61 62 61 60 60 57 56 54..."
      ]
     },
     "execution_count": 47,
     "metadata": {},
     "output_type": "execute_result"
    }
   ],
   "source": [
    "df.head()"
   ]
  },
  {
   "cell_type": "code",
   "execution_count": null,
   "id": "f7f3af06",
   "metadata": {},
   "outputs": [],
   "source": []
  }
 ],
 "metadata": {
  "kernelspec": {
   "display_name": "Python 3 June 2020 Environment",
   "language": "python",
   "name": "jun20"
  },
  "language_info": {
   "codemirror_mode": {
    "name": "ipython",
    "version": 3
   },
   "file_extension": ".py",
   "mimetype": "text/x-python",
   "name": "python",
   "nbconvert_exporter": "python",
   "pygments_lexer": "ipython3",
   "version": "3.7.6"
  }
 },
 "nbformat": 4,
 "nbformat_minor": 5
}
