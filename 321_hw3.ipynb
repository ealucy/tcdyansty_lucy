{
 "cells": [
  {
   "cell_type": "code",
   "execution_count": 44,
   "id": "9a6fda74-b2b9-425f-9b12-6b96a2bcda48",
   "metadata": {},
   "outputs": [],
   "source": [
    "import numpy as np\n",
    "radii=[.001E-6,1.0E-6,50.0E-6,3.0E-3,1.0E-2,100.0]\n",
    "wavelength=[.5E-6,10.0E-6,1000000.0E-6]"
   ]
  },
  {
   "cell_type": "code",
   "execution_count": 45,
   "id": "ddfde2f0-94c2-4e71-8603-efab328b074f",
   "metadata": {},
   "outputs": [],
   "source": [
    "def x(radii,wavelength):\n",
    "    return((2*3.14159265358979*radii)/wavelength)"
   ]
  },
  {
   "cell_type": "code",
   "execution_count": 46,
   "id": "a20c4984-4535-423f-8751-bca0c5d48393",
   "metadata": {},
   "outputs": [
    {
     "data": {
      "text/plain": [
       "[0.012566370614359161,\n",
       " 12.56637061435916,\n",
       " 628.3185307179581,\n",
       " 37699.11184307749,\n",
       " 125663.7061435916,\n",
       " 1256637061.435916]"
      ]
     },
     "execution_count": 46,
     "metadata": {},
     "output_type": "execute_result"
    }
   ],
   "source": [
    "i=0\n",
    "solar=[]\n",
    "while i<6:\n",
    "    solar.append(x(radii[i],wavelength[0]))\n",
    "    i=i+1\n",
    "solar"
   ]
  },
  {
   "cell_type": "code",
   "execution_count": 47,
   "id": "d28fc5a3-acbf-4dfc-bf75-0a89dba8e5ce",
   "metadata": {},
   "outputs": [
    {
     "data": {
      "text/plain": [
       "[0.000628318530717958,\n",
       " 0.628318530717958,\n",
       " 31.415926535897903,\n",
       " 1884.955592153874,\n",
       " 6283.1853071795795,\n",
       " 62831853.07179579]"
      ]
     },
     "execution_count": 47,
     "metadata": {},
     "output_type": "execute_result"
    }
   ],
   "source": [
    "i=0\n",
    "earth1=[]\n",
    "while i<6:\n",
    "    earth1.append(x(radii[i],wavelength[1]))\n",
    "    i=i+1\n",
    "earth1"
   ]
  },
  {
   "cell_type": "code",
   "execution_count": 48,
   "id": "64caca24-3254-4603-83cd-ac7d4e91eb50",
   "metadata": {},
   "outputs": [
    {
     "data": {
      "text/plain": [
       "[6.2831853071795806e-09,\n",
       " 6.28318530717958e-06,\n",
       " 0.00031415926535897904,\n",
       " 0.01884955592153874,\n",
       " 0.0628318530717958,\n",
       " 628.318530717958]"
      ]
     },
     "execution_count": 48,
     "metadata": {},
     "output_type": "execute_result"
    }
   ],
   "source": [
    "i=0\n",
    "earth2=[]\n",
    "while i<6:\n",
    "    earth2.append(x(radii[i],wavelength[2]))\n",
    "    i=i+1\n",
    "earth2"
   ]
  },
  {
   "cell_type": "code",
   "execution_count": 55,
   "id": "6761a44e-253f-47cd-b095-16aec87cbef0",
   "metadata": {},
   "outputs": [
    {
     "name": "stdout",
     "output_type": "stream",
     "text": [
      "the first column is the size of the six particles in increasing radius order at half a micrometer\n",
      "the second column is the size of the six particles in increasing radius order at ten micrometers\n",
      "the third column is the size of the six particles in increasing radius order at ten to the fourth micrometers\n",
      "0.01256637 0.00062832 0.00000001\n",
      "12.56637061 0.62831853 0.00000628\n",
      "628.31853072 31.41592654 0.00031416\n",
      "37699.11184308 1884.95559215 0.01884956\n",
      "125663.70614359 6283.18530718 0.06283185\n",
      "1256637061.43591595 62831853.07179579 628.31853072\n"
     ]
    }
   ],
   "source": [
    "print('the first column is the size of the six particles in increasing radius order at half a micrometer')\n",
    "\n",
    "print('the second column is the size of the six particles in increasing radius order at ten micrometers')\n",
    "\n",
    "print('the third column is the size of the six particles in increasing radius order at ten to the fourth micrometers')\n",
    "\n",
    "for i in range(0,6):\n",
    "    print(\"%.8f\" % solar[i],\"%.8f\" % earth1[i], \"%.8f\" % earth2[i])"
   ]
  },
  {
   "cell_type": "code",
   "execution_count": null,
   "id": "b1544c96-1e14-44b0-88ea-2ae72a337554",
   "metadata": {},
   "outputs": [],
   "source": []
  }
 ],
 "metadata": {
  "kernelspec": {
   "display_name": "Python 3 August 2021 Environment",
   "language": "python",
   "name": "aug21"
  },
  "language_info": {
   "codemirror_mode": {
    "name": "ipython",
    "version": 3
   },
   "file_extension": ".py",
   "mimetype": "text/x-python",
   "name": "python",
   "nbconvert_exporter": "python",
   "pygments_lexer": "ipython3",
   "version": "3.8.10"
  }
 },
 "nbformat": 4,
 "nbformat_minor": 5
}
