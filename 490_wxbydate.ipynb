{
 "cells": [
  {
   "cell_type": "code",
   "execution_count": 1,
   "id": "027ca380-6b85-433f-861c-cf0840e59a28",
   "metadata": {},
   "outputs": [
    {
     "data": {
      "text/plain": [
       "Index(['BEGIN_DATE', 'EVENT_TYPE', 'WFO', 'EPISODE_ID'], dtype='object')"
      ]
     },
     "execution_count": 1,
     "metadata": {},
     "output_type": "execute_result"
    }
   ],
   "source": [
    "import numpy as np\n",
    "import pandas as pd\n",
    "import matplotlib.pyplot as plt\n",
    "filename='wxbydate.csv'\n",
    "data=pd.read_csv(filename)\n",
    "data.columns"
   ]
  },
  {
   "cell_type": "code",
   "execution_count": 9,
   "id": "5c3aa739-f5c4-43a7-abc0-14143e93b198",
   "metadata": {},
   "outputs": [],
   "source": [
    "episode=data['EPISODE_ID']\n",
    "e=np.array(episode)\n",
    "\n",
    "category=data['EVENT_TYPE']\n",
    "c=np.array(category)\n",
    "\n",
    "wfo=data['WFO']\n",
    "w=np.array(wfo)\n",
    "\n",
    "date=data['BEGIN_DATE']\n",
    "d=np.array(date)"
   ]
  },
  {
   "cell_type": "code",
   "execution_count": 10,
   "id": "f9237993-5e3b-4cd7-aa2e-4a14baee8e16",
   "metadata": {},
   "outputs": [
    {
     "name": "stdout",
     "output_type": "stream",
     "text": [
      "[113248 113168 112695 ... 158321 159567 160498]\n",
      "['High Wind' 'Lake-Effect Snow' 'Winter Weather' ... 'Thunderstorm Wind'\n",
      " 'Thunderstorm Wind' 'Thunderstorm Wind']\n",
      "['BUF' 'BUF' 'OKX' ... 'BTV' 'ALY' 'OKX']\n",
      "['1/4/17' '1/4/17' '1/7/17' ... '6/30/21' '6/30/21' '6/30/21']\n"
     ]
    }
   ],
   "source": [
    "print(e)\n",
    "print(c)\n",
    "print(w)\n",
    "print(d)"
   ]
  },
  {
   "cell_type": "code",
   "execution_count": 11,
   "id": "d43b77bf-4df1-4672-9847-3444d9a48a0c",
   "metadata": {},
   "outputs": [
    {
     "data": {
      "text/plain": [
       "1029"
      ]
     },
     "execution_count": 11,
     "metadata": {},
     "output_type": "execute_result"
    }
   ],
   "source": [
    "import matplotlib.pyplot as plt\n"
   ]
  },
  {
   "cell_type": "code",
   "execution_count": null,
   "id": "587134c3-a4f6-4844-924a-74b5f2710bf6",
   "metadata": {},
   "outputs": [],
   "source": []
  }
 ],
 "metadata": {
  "kernelspec": {
   "display_name": "Python 3 August 2021 Environment",
   "language": "python",
   "name": "aug21"
  },
  "language_info": {
   "codemirror_mode": {
    "name": "ipython",
    "version": 3
   },
   "file_extension": ".py",
   "mimetype": "text/x-python",
   "name": "python",
   "nbconvert_exporter": "python",
   "pygments_lexer": "ipython3",
   "version": "3.8.10"
  }
 },
 "nbformat": 4,
 "nbformat_minor": 5
}
