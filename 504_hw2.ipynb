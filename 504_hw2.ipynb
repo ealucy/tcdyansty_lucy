{
 "cells": [
  {
   "cell_type": "markdown",
   "id": "9275caa4-c54f-4d61-9fa7-4b238c0e11a9",
   "metadata": {},
   "source": [
    "# A: 1-4 and 7-8, D: 1-2 completed here\n",
    "# A: 5-6, B: 1-2, C: 1a-1d, E: 1-5 completed in PDF"
   ]
  },
  {
   "cell_type": "markdown",
   "id": "bf9d9f8e-033c-4683-ad78-4064f8a95035",
   "metadata": {},
   "source": [
    "# A. Calculations"
   ]
  },
  {
   "cell_type": "code",
   "execution_count": 1,
   "id": "bce10dd6-2fad-4730-8684-d3f0f3512df3",
   "metadata": {},
   "outputs": [],
   "source": [
    "import numpy as np\n",
    "import math\n",
    "import matplotlib.pyplot as plt\n",
    "from metpy.units import units"
   ]
  },
  {
   "cell_type": "code",
   "execution_count": 2,
   "id": "3bd62eed-acba-4a63-a183-ff9210b66b55",
   "metadata": {},
   "outputs": [],
   "source": [
    "Ts_range_C = np.arange(-50.0, 51.0, 1.0)\n",
    "Ts_range_K = Ts_range_C + 273.15\n",
    "Ts_fire = 700.0"
   ]
  },
  {
   "cell_type": "markdown",
   "id": "e4b7961b-aa09-4ea3-87d2-9b69c1d24c75",
   "metadata": {},
   "source": [
    "# 1)"
   ]
  },
  {
   "cell_type": "markdown",
   "id": "a6153924-92ce-4bf0-ae8c-bbdddafabbd8",
   "metadata": {},
   "source": [
    "# Wiens Law\n",
    "\n",
    "$$\n",
    "\\lambda_{\\text{max}} = \\frac{2897}{T}\n",
    "$$\n",
    "\n",
    "The assumptions that go into Wien's Law include:\n",
    "- The fire is behaving as a blackbody\n",
    "- The surface is Lambertian\n",
    "- This law is a result of experimental results\n",
    "- The extreme value is set to 0 in the derivative used to yield this law\n",
    "\n",
    "(Source: lecture slides)"
   ]
  },
  {
   "cell_type": "markdown",
   "id": "aa2b6338-553d-4d90-918b-2f4ef44c6c47",
   "metadata": {},
   "source": [
    "# Calculate wavelength of maximum monocrohomatic radiance"
   ]
  },
  {
   "cell_type": "code",
   "execution_count": 3,
   "id": "3afbb3ef-6e6e-479b-afb9-94977449a4fa",
   "metadata": {},
   "outputs": [],
   "source": [
    "lambda_max = (2897*units.K*units.micrometer)/(700*units.K)"
   ]
  },
  {
   "cell_type": "code",
   "execution_count": 4,
   "id": "c7f494e8-20a3-46c2-9527-e895255d6094",
   "metadata": {},
   "outputs": [
    {
     "name": "stdout",
     "output_type": "stream",
     "text": [
      "the wavelength of maximum monochromatic radiance is 4.138571428571429 micrometers\n"
     ]
    }
   ],
   "source": [
    "print('the wavelength of maximum monochromatic radiance is ' + str(lambda_max) + 's')"
   ]
  },
  {
   "cell_type": "markdown",
   "id": "bea452be-e61a-4728-83df-846b52fdb3b9",
   "metadata": {},
   "source": [
    "# 2)"
   ]
  },
  {
   "cell_type": "markdown",
   "id": "2790f4c3-d1a6-4f6f-a9f4-d4ca0418cd16",
   "metadata": {},
   "source": [
    "# Wiens Law\n",
    "\n",
    "$$\n",
    "\\lambda_{\\text{max}} = \\frac{2897}{T}\n",
    "$$"
   ]
  },
  {
   "cell_type": "markdown",
   "id": "ca689677-369d-4faa-992e-a08ec2b9d8dd",
   "metadata": {},
   "source": [
    "# Find maximum radiance in the range -50 deg C to 50 deg C using Wien's Law"
   ]
  },
  {
   "cell_type": "code",
   "execution_count": 5,
   "id": "820d75e2-e07a-42b3-8683-5a9be253259a",
   "metadata": {},
   "outputs": [],
   "source": [
    "lambda_max_range = 2897/Ts_range_K"
   ]
  },
  {
   "cell_type": "code",
   "execution_count": 6,
   "id": "bc64b3e5-1b09-4513-9c7a-0e340b3f38f3",
   "metadata": {},
   "outputs": [
    {
     "name": "stdout",
     "output_type": "stream",
     "text": [
      "8.964876992108929 12.982298902083802\n"
     ]
    }
   ],
   "source": [
    "print(lambda_max_range.min(), lambda_max_range.max())"
   ]
  },
  {
   "cell_type": "code",
   "execution_count": 7,
   "id": "d7699ef8-f8eb-49fe-9fef-372df5cce16a",
   "metadata": {},
   "outputs": [
    {
     "name": "stdout",
     "output_type": "stream",
     "text": [
      "the wavelength range of max radiance is 8.964876992108929 micrometers to 12.982298902083802 micrometers\n"
     ]
    }
   ],
   "source": [
    "print('the wavelength range of max radiance is ' + str(lambda_max_range.min()) + ' micrometers to ' + str(lambda_max_range.max()) + ' micrometers')"
   ]
  },
  {
   "cell_type": "markdown",
   "id": "074b1f9e-18f1-4f78-9b3d-74a1f66d43e4",
   "metadata": {},
   "source": [
    "# 3)"
   ]
  },
  {
   "cell_type": "markdown",
   "id": "460644ea-0540-424a-980b-d36bb03b47c4",
   "metadata": {},
   "source": [
    "# Stefan-Boltzmann Law\n",
    "\n",
    "$$\n",
    "F = \\sigma \\cdot T^4\n",
    "$$"
   ]
  },
  {
   "cell_type": "code",
   "execution_count": 8,
   "id": "27d7ea40-cafd-43aa-a1ce-85641bc9a6ef",
   "metadata": {},
   "outputs": [],
   "source": [
    "F_range = 5.67E-8 * (Ts_range_K**4)"
   ]
  },
  {
   "cell_type": "code",
   "execution_count": 9,
   "id": "0c3038c1-9d5e-4072-87b0-4bb4f4feb87c",
   "metadata": {},
   "outputs": [
    {
     "name": "stdout",
     "output_type": "stream",
     "text": [
      "140.5952419953945 618.3006455416394\n"
     ]
    }
   ],
   "source": [
    "print(F_range.min(), F_range.max())"
   ]
  },
  {
   "cell_type": "code",
   "execution_count": 10,
   "id": "50fb503f-e0d0-4eb5-a358-e8ec1baee773",
   "metadata": {},
   "outputs": [
    {
     "name": "stdout",
     "output_type": "stream",
     "text": [
      "the value range of total exitance is 140.5952419953945 W/m^2 to 618.3006455416394 W/m^2\n"
     ]
    }
   ],
   "source": [
    "print('the value range of total exitance is ' + str(F_range.min()) + ' W/m^2 to ' + str(F_range.max()) + ' W/m^2')"
   ]
  },
  {
   "cell_type": "markdown",
   "id": "48391205-5ee5-4876-baa6-522b2d335d18",
   "metadata": {},
   "source": [
    "# 4)"
   ]
  },
  {
   "cell_type": "markdown",
   "id": "1ece2953-b312-40d3-bb7b-655d1b682262",
   "metadata": {},
   "source": [
    "# Stefan-Boltzmann Law\n",
    "\n",
    "$$\n",
    "F = \\sigma \\cdot T^4\n",
    "$$"
   ]
  },
  {
   "cell_type": "code",
   "execution_count": 11,
   "id": "c89c5a0f-c439-464c-ba79-72cf954f2c5e",
   "metadata": {},
   "outputs": [
    {
     "data": {
      "text/plain": [
       "13613.67"
      ]
     },
     "execution_count": 11,
     "metadata": {},
     "output_type": "execute_result"
    }
   ],
   "source": [
    "F_fire = 5.67E-8 * (Ts_fire**4)\n",
    "F_fire"
   ]
  },
  {
   "cell_type": "code",
   "execution_count": 12,
   "id": "aca51d08-a8a9-40ce-9922-513a20e6cf50",
   "metadata": {},
   "outputs": [
    {
     "name": "stdout",
     "output_type": "stream",
     "text": [
      "the total exitance emitted from the surface in the fire zone if it were to behave as a blackbody would be 13613.67 W/m^2\n"
     ]
    }
   ],
   "source": [
    "print('the total exitance emitted from the surface in the fire zone if it were to behave as a blackbody would be ' + str(F_fire) + ' W/m^2')"
   ]
  },
  {
   "cell_type": "markdown",
   "id": "4e206ed5-9f8e-434b-ab57-d90186232b7c",
   "metadata": {},
   "source": [
    "# 5)\n",
    "# Completed in PDF document"
   ]
  },
  {
   "cell_type": "markdown",
   "id": "3618ed03-9cab-4f90-b544-ba4d38e64602",
   "metadata": {},
   "source": [
    "# 6)"
   ]
  },
  {
   "cell_type": "markdown",
   "id": "d73664fd-8d22-4f47-a6c1-5d3f366bef51",
   "metadata": {},
   "source": [
    "# Completed in PDF document"
   ]
  },
  {
   "cell_type": "markdown",
   "id": "9cdf4b65-70dc-4609-b277-1cf8084f6217",
   "metadata": {},
   "source": [
    "# 7)"
   ]
  },
  {
   "cell_type": "markdown",
   "id": "575d6c8e-0edb-4755-9e90-009861104ddf",
   "metadata": {},
   "source": [
    "# Stefan-Boltzmann Law\n",
    "\n",
    "$$\n",
    "F = \\sigma \\cdot T^4\n",
    "$$\n",
    "\n",
    "# Multiply RHS of equation with emissivity upper and lower bounds"
   ]
  },
  {
   "cell_type": "code",
   "execution_count": 13,
   "id": "05b4da9f-df7d-4613-ab38-b856e06ad2ba",
   "metadata": {},
   "outputs": [],
   "source": [
    "F_lower = 5.67E-8 * .7 * (Ts_fire**4)\n",
    "F_upper = 5.67E-8 * .9 * (Ts_fire**4)"
   ]
  },
  {
   "cell_type": "code",
   "execution_count": 14,
   "id": "d39f28e6-e046-416a-92b1-6b8b774c1de3",
   "metadata": {},
   "outputs": [
    {
     "data": {
      "text/plain": [
       "(9529.568999999998, 12252.303)"
      ]
     },
     "execution_count": 14,
     "metadata": {},
     "output_type": "execute_result"
    }
   ],
   "source": [
    "F_lower, F_upper"
   ]
  },
  {
   "cell_type": "code",
   "execution_count": 15,
   "id": "378861d3-7696-448f-b53b-73b5c8e9c462",
   "metadata": {},
   "outputs": [
    {
     "data": {
      "text/plain": [
       "2722.734000000002"
      ]
     },
     "execution_count": 15,
     "metadata": {},
     "output_type": "execute_result"
    }
   ],
   "source": [
    "F_upper-F_lower"
   ]
  },
  {
   "cell_type": "markdown",
   "id": "ba9f50f6-d7d5-491b-806b-10650751daef",
   "metadata": {},
   "source": [
    "With a lower bound of 9529.57 W/m^2 and an upper bound of 12252.30 W/m^2, there is an uncertainty of 2722.73 W/m^2 estimated total exitance. "
   ]
  },
  {
   "cell_type": "markdown",
   "id": "74436356-d31a-4d1e-83ee-92e5bbb8dced",
   "metadata": {},
   "source": [
    "# 8)"
   ]
  },
  {
   "cell_type": "markdown",
   "id": "c99b4893-b11c-408e-846d-20051d39984d",
   "metadata": {},
   "source": [
    "# The Planck Function\n",
    "\n",
    "\n",
    "$$\n",
    "B_\\lambda = ({c_1}\\cdot{\\lambda^-5})\\frac{1}{\\pi(e^{\\frac{c_2}{\\lambda \\cdot T}} - 1)}\n",
    "$$"
   ]
  },
  {
   "cell_type": "code",
   "execution_count": 16,
   "id": "d93c991f-a372-44e5-b349-b9a4b8b449a2",
   "metadata": {},
   "outputs": [
    {
     "name": "stderr",
     "output_type": "stream",
     "text": [
      "/knight/mamba_aug23/envs/jan24_env/lib/python3.11/site-packages/climlab/convection/akmaev_adjustment.py:142: NumbaDeprecationWarning: \u001b[1mThe 'nopython' keyword argument was not supplied to the 'numba.jit' decorator. The implicit default value for this argument is currently False, but it will be changed to True in Numba 0.59.0. See https://numba.readthedocs.io/en/stable/reference/deprecation.html#deprecation-of-object-mode-fall-back-behaviour-when-using-jit for details.\u001b[0m\n",
      "  Akmaev_adjustment = jit(signature_or_function=Akmaev_adjustment)\n"
     ]
    }
   ],
   "source": [
    "from climlab.utils.thermo import Planck_wavelength"
   ]
  },
  {
   "cell_type": "code",
   "execution_count": 17,
   "id": "e0298d92-abc3-430e-bb04-72eafbd23eb9",
   "metadata": {},
   "outputs": [],
   "source": [
    "B_lambda1_t1 = Planck_wavelength(3.9E-6, 600)\n",
    "B_lambda1_t2 = Planck_wavelength(3.9E-6, 800)\n",
    "B_lambda2_t1 = Planck_wavelength(11.0E-6, 600)\n",
    "B_lambda2_t2 = Planck_wavelength(11.0E-6, 800)"
   ]
  },
  {
   "cell_type": "code",
   "execution_count": 18,
   "id": "5072f650-14ad-4334-9b66-f2faf8ff2266",
   "metadata": {},
   "outputs": [
    {
     "name": "stdout",
     "output_type": "stream",
     "text": [
      "at 600 K and 3.9 micrometers, the spectral emitted radiance is 282632223.48326325 W/m^2/sr\n",
      "at 800 K and 3.9 micrometers, the spectral emitted radiance is 1324975971.471591 W/m^2/sr\n",
      "at 600 K and 11 micrometers, the spectral emitted radiance is 94257475.67036898 W/m^2/sr\n",
      "at 800 K and 11 micrometers, the spectral emitted radiance is 179095650.33107483 W/m^2/sr\n"
     ]
    }
   ],
   "source": [
    "print('at 600 K and 3.9 micrometers, the spectral emitted radiance is ' + str(B_lambda1_t1) + ' W/m^2/sr')\n",
    "print('at 800 K and 3.9 micrometers, the spectral emitted radiance is ' + str(B_lambda1_t2) + ' W/m^2/sr')\n",
    "print('at 600 K and 11 micrometers, the spectral emitted radiance is ' + str(B_lambda2_t1) + ' W/m^2/sr')\n",
    "print('at 800 K and 11 micrometers, the spectral emitted radiance is ' + str(B_lambda2_t2) + ' W/m^2/sr')"
   ]
  },
  {
   "cell_type": "markdown",
   "id": "a20a9534-7bbc-4aa1-a06d-ad47dd8536c4",
   "metadata": {},
   "source": [
    "The 3.9 μm band captures much higher monochromatic radiances for both 600 and 800 K than the 11.0 μm band. So, yes, the 3.9 μm band is much more sensitive to the hottest parts of fire pixels than the 11.0 μm band, due to its shorter wavelength."
   ]
  },
  {
   "cell_type": "markdown",
   "id": "51708cc9-78a1-4e27-a4be-3a0088ccf18c",
   "metadata": {},
   "source": [
    "# D. Readings and Questions"
   ]
  },
  {
   "cell_type": "markdown",
   "id": "48d30bad-67ef-4b72-85fc-5af2dbf8bc1e",
   "metadata": {},
   "source": [
    "# 1."
   ]
  },
  {
   "cell_type": "markdown",
   "id": "3f941aca-6555-4797-8854-4e767d804097",
   "metadata": {},
   "source": [
    "$$\n",
    "F_{TOA} = (F_{SUN} \\cdot R_{SUN}^2) \\cdot R_{SE}^{-2}\n",
    "$$"
   ]
  },
  {
   "cell_type": "markdown",
   "id": "4afc1b17-81ee-4584-8da4-ac4bab827be8",
   "metadata": {},
   "source": [
    "# Convert the sun earth distance in astronomical units to meters"
   ]
  },
  {
   "cell_type": "code",
   "execution_count": 19,
   "id": "49461379-a7c0-4bd6-81f6-41aa356cff36",
   "metadata": {},
   "outputs": [],
   "source": [
    "V_S = 1.0816E11  # venus\n",
    "E_S = 1.496E11 # earth \n",
    "M_S = 2.27987E11 # mars"
   ]
  },
  {
   "cell_type": "markdown",
   "id": "fb0a1960-527b-4555-8abf-72c64203ea24",
   "metadata": {},
   "source": [
    "# Sun radius"
   ]
  },
  {
   "cell_type": "code",
   "execution_count": 20,
   "id": "dd11aa7e-1776-4c55-9bb5-2eb7b29e4921",
   "metadata": {},
   "outputs": [],
   "source": [
    "R = 6.96E8"
   ]
  },
  {
   "cell_type": "markdown",
   "id": "c434bb5b-ab65-4ffb-894f-c127575edb8f",
   "metadata": {},
   "source": [
    "# Planetary albedos and constants"
   ]
  },
  {
   "cell_type": "code",
   "execution_count": 33,
   "id": "71534080-79f0-4fbb-a7c0-fecf76999cf2",
   "metadata": {},
   "outputs": [],
   "source": [
    "A_V = .75 # venus\n",
    "A_E = .3 # earth\n",
    "A_M = .16 # mars\n",
    "T_sun = 5773 # sun temperature (gotten from space.com)\n",
    "sigma = 5.67E-8 # stefan-boltzmann constant"
   ]
  },
  {
   "cell_type": "markdown",
   "id": "bd6d4edf-38a3-49b1-9bf0-3ad379a43974",
   "metadata": {},
   "source": [
    "# Stefan-Boltzmann Equation\n",
    "\n",
    "$$\n",
    "F_{TOA} = \\sigma \\cdot T^4\n",
    "$$\n",
    "\n",
    "# F_TOA\n",
    "\n",
    "$$\n",
    "F_{TOA} = \\sigma \\cdot T_{SUN}^4 \\cdot R^2 \\cdot {D}^{-2}\n",
    "$$"
   ]
  },
  {
   "cell_type": "markdown",
   "id": "09050539-52f8-4054-838e-d136a6dbebe9",
   "metadata": {},
   "source": [
    "# Calculate TOA irradiance for each planet"
   ]
  },
  {
   "cell_type": "code",
   "execution_count": 34,
   "id": "ce08960b-2313-4a9a-9d4b-619432f1bb49",
   "metadata": {},
   "outputs": [],
   "source": [
    "F_TOA_V = (sigma)*(T_sun**4) # venus\n",
    "F_TOA_E = (sigma)*(T_sun**4) # earth\n",
    "F_TOA_M = (sigma)*(T_sun**4) # mars"
   ]
  },
  {
   "cell_type": "code",
   "execution_count": 35,
   "id": "0f6bd832-a3b5-4ec8-adc8-173611cea0cb",
   "metadata": {},
   "outputs": [],
   "source": [
    "F_TOA_V_SCALED = (F_TOA_V * (R**2)) / (V_S**2) # venus\n",
    "F_TOA_E_SCALED = (F_TOA_E * (R**2)) / (E_S**2) # earth\n",
    "F_TOA_M_SCALED = (F_TOA_M * (R**2)) / (M_S**2) # mars"
   ]
  },
  {
   "cell_type": "code",
   "execution_count": 36,
   "id": "e26700e7-3b6c-41b8-b50a-ed75fa105f8c",
   "metadata": {},
   "outputs": [],
   "source": [
    "REF_V = A_V*F_TOA_V_SCALED # venus\n",
    "REF_E = A_E*F_TOA_E_SCALED # earth\n",
    "REF_M = A_M*F_TOA_M_SCALED # mars"
   ]
  },
  {
   "cell_type": "code",
   "execution_count": 37,
   "id": "621bd0b8-6fa1-479f-b212-aacc910a280c",
   "metadata": {},
   "outputs": [],
   "source": [
    "ABS_V = F_TOA_V_SCALED - REF_V # venus\n",
    "ABS_E = F_TOA_E_SCALED - REF_E # earth\n",
    "ABS_M = F_TOA_M_SCALED - REF_M # mars"
   ]
  },
  {
   "cell_type": "code",
   "execution_count": 38,
   "id": "6c5c4138-405e-45b9-afb3-21d663a8d6a0",
   "metadata": {},
   "outputs": [
    {
     "name": "stdout",
     "output_type": "stream",
     "text": [
      "reflected TOA solar irradiance venus: 1955.8505851061395 W/m^2\n",
      "absorbed TOA solar irradiance venus: 651.9501950353797 W/m^2\n",
      "reflected TOA solar irradiance earth: 408.9458786831596 W/m^2\n",
      "absorbed TOA solar irradiance earth: 954.2070502607057 W/m^2\n",
      "reflected TOA solar irradiance mars: 93.90907936728667 W/m^2\n",
      "absorbed TOA solar irradiance mars: 493.022666678255 W/m^2\n"
     ]
    }
   ],
   "source": [
    "print('reflected TOA solar irradiance venus: ' + str(REF_V) + ' W/m^2')\n",
    "print('absorbed TOA solar irradiance venus: ' + str(ABS_V) + ' W/m^2')\n",
    "print('reflected TOA solar irradiance earth: ' + str(REF_E) + ' W/m^2')\n",
    "print('absorbed TOA solar irradiance earth: ' + str(ABS_E) + ' W/m^2')\n",
    "print('reflected TOA solar irradiance mars: ' + str(REF_M) + ' W/m^2')\n",
    "print('absorbed TOA solar irradiance mars: ' + str(ABS_M) + ' W/m^2')"
   ]
  },
  {
   "cell_type": "markdown",
   "id": "98f297a1-0f00-4f1e-b81f-7b3ff482c2ce",
   "metadata": {},
   "source": [
    "# 2."
   ]
  },
  {
   "cell_type": "markdown",
   "id": "2751dd41-3f17-4549-999a-b068e43f02db",
   "metadata": {},
   "source": [
    "# Equation and rearranged equation\n",
    "\n",
    "$$\n",
    "S_0 \\cdot 1/4 \\cdot (1-\\alpha) = \\sigma \\cdot T_e^4\n",
    "$$\n",
    "\n",
    "$$\n",
    "T_e = \\left( \\frac{S_0 \\cdot \\frac{1}{4} \\cdot (1 - \\alpha)}{\\sigma} \\right)^{\\frac{1}{4}}\n",
    "$$"
   ]
  },
  {
   "cell_type": "code",
   "execution_count": 30,
   "id": "3d9b9e9b-fc95-4d09-9657-161dd4732c1d",
   "metadata": {},
   "outputs": [],
   "source": [
    "S0_V = F_TOA_V # venus\n",
    "S0_E = F_TOA_E # earth\n",
    "S0_M = F_TOA_M # mars"
   ]
  },
  {
   "cell_type": "code",
   "execution_count": 31,
   "id": "4a8286bb-24a4-48a4-8af6-b34568a5af2f",
   "metadata": {},
   "outputs": [],
   "source": [
    "T_E_V = (((S0_V)*(1/4)*(1-A_V))/(sigma))**(1/4) # venus\n",
    "T_E_E = (((S0_E)*(1/4)*(1-A_E))/(sigma))**(1/4) # earth\n",
    "T_E_M = (((S0_M)*(1/4)*(1-A_M))/(sigma))**(1/4) # mars"
   ]
  },
  {
   "cell_type": "code",
   "execution_count": 32,
   "id": "5422a9ef-f21c-413c-897c-fc16e9553bb4",
   "metadata": {},
   "outputs": [
    {
     "name": "stdout",
     "output_type": "stream",
     "text": [
      "without an atmosphere, venus surface temp is 2889.0 K\n",
      "without an atmosphere, earth surface temp is 3737.12005408494 K\n",
      "without an atmosphere, mars surface temp is 3911.401168732224 K\n"
     ]
    }
   ],
   "source": [
    "print('without an atmosphere, venus surface temp is ' + str(T_E_V) + ' K')\n",
    "print('without an atmosphere, earth surface temp is ' + str(T_E_E) + ' K')\n",
    "print('without an atmosphere, mars surface temp is ' + str(T_E_M) + ' K')"
   ]
  },
  {
   "cell_type": "markdown",
   "id": "397dcecc-1d58-49d5-b973-1b21b4043e68",
   "metadata": {},
   "source": [
    "# From lecture:\n",
    "\n",
    "# venus surface temp: 467 deg C = 740 K\n",
    "# earth surface temp: 15 deg C = 288 K\n",
    "# mars surface temp: -63 deg C = 210 K"
   ]
  },
  {
   "cell_type": "markdown",
   "id": "d13284bc-1861-4eb6-9f58-447673d0db2b",
   "metadata": {},
   "source": [
    "# These results show that in general, atmospheres work to make planets warmer at the surface! The exception is Mars, which does not have a very thick atmosphere in the first place. "
   ]
  },
  {
   "cell_type": "code",
   "execution_count": null,
   "id": "aca76cbd-e6e9-4fb1-bf78-872ba0effaa1",
   "metadata": {},
   "outputs": [],
   "source": []
  }
 ],
 "metadata": {
  "kernelspec": {
   "display_name": "Python 3 Jan. 2024 Environment",
   "language": "python",
   "name": "jan24"
  },
  "language_info": {
   "codemirror_mode": {
    "name": "ipython",
    "version": 3
   },
   "file_extension": ".py",
   "mimetype": "text/x-python",
   "name": "python",
   "nbconvert_exporter": "python",
   "pygments_lexer": "ipython3",
   "version": "3.11.7"
  }
 },
 "nbformat": 4,
 "nbformat_minor": 5
}
