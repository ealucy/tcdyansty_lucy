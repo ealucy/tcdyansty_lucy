{
 "cells": [
  {
   "cell_type": "code",
   "execution_count": 1,
   "id": "78a44c0a",
   "metadata": {},
   "outputs": [],
   "source": [
    "import numpy as np\n",
    "import pandas as pd\n",
    "import matplotlib.pyplot as plt"
   ]
  },
  {
   "cell_type": "code",
   "execution_count": 2,
   "id": "d59781b2",
   "metadata": {},
   "outputs": [],
   "source": [
    "filename='all_wx_events_ny_2017_2021.csv'\n",
    "data=pd.read_csv(filename)"
   ]
  },
  {
   "cell_type": "code",
   "execution_count": 3,
   "id": "537c570d",
   "metadata": {},
   "outputs": [
    {
     "data": {
      "text/plain": [
       "Index(['EVENT_ID', 'CZ_NAME_STR', 'BEGIN_LOCATION', 'BEGIN_DATE', 'BEGIN_TIME',\n",
       "       'EVENT_TYPE', 'MAGNITUDE', 'TOR_F_SCALE', 'DEATHS_DIRECT',\n",
       "       'INJURIES_DIRECT', 'DAMAGE_PROPERTY_NUM', 'DAMAGE_CROPS_NUM',\n",
       "       'STATE_ABBR', 'CZ_TIMEZONE', 'MAGNITUDE_TYPE', 'EPISODE_ID', 'CZ_TYPE',\n",
       "       'CZ_FIPS', 'WFO', 'INJURIES_INDIRECT', 'DEATHS_INDIRECT', 'SOURCE',\n",
       "       'FLOOD_CAUSE', 'TOR_LENGTH', 'TOR_WIDTH', 'BEGIN_RANGE',\n",
       "       'BEGIN_AZIMUTH', 'END_RANGE', 'END_AZIMUTH', 'END_LOCATION', 'END_DATE',\n",
       "       'END_TIME', 'BEGIN_LAT', 'BEGIN_LON', 'END_LAT', 'END_LON',\n",
       "       'EVENT_NARRATIVE', 'EPISODE_NARRATIVE', 'ABSOLUTE_ROWNUMBER'],\n",
       "      dtype='object')"
      ]
     },
     "execution_count": 3,
     "metadata": {},
     "output_type": "execute_result"
    }
   ],
   "source": [
    "data.columns"
   ]
  },
  {
   "cell_type": "code",
   "execution_count": null,
   "id": "05e1b626",
   "metadata": {},
   "outputs": [],
   "source": [
    "# want code that runs through the epiosde ids and creates an array that appends it each time there is a new episode id"
   ]
  },
  {
   "cell_type": "code",
   "execution_count": 4,
   "id": "6b08c012",
   "metadata": {},
   "outputs": [
    {
     "name": "stdout",
     "output_type": "stream",
     "text": [
      "['01/04/2017' '01/04/2017' '01/04/2017' ... '06/30/2021' '06/30/2021'\n",
      " '06/30/2021']\n"
     ]
    }
   ],
   "source": [
    "episode=data['EPISODE_ID']\n",
    "e=np.array(episode)\n",
    "\n",
    "category=data['EVENT_TYPE']\n",
    "c=np.array(category)\n",
    "\n",
    "wfo=data['WFO']\n",
    "w=np.array(wfo)\n",
    "\n",
    "date=data['BEGIN_DATE']\n",
    "datex=np.array(date)\n",
    "print(datex) \n",
    "# follow hail research and turn these into datetime (but also things may work without doing that we shall see)\n",
    "# continue to make arrays for relevant columns"
   ]
  },
  {
   "cell_type": "code",
   "execution_count": 5,
   "id": "3653c554",
   "metadata": {},
   "outputs": [
    {
     "name": "stdout",
     "output_type": "stream",
     "text": [
      "[113248 113248 113248 ... 160498 160498 160498]\n",
      "['High Wind' 'High Wind' 'High Wind' ... 'Thunderstorm Wind'\n",
      " 'Thunderstorm Wind' 'Thunderstorm Wind']\n",
      "['BUF' 'BUF' 'BUF' ... 'OKX' 'OKX' 'OKX']\n"
     ]
    }
   ],
   "source": [
    "print(e)\n",
    "print(c)\n",
    "print(w)"
   ]
  },
  {
   "cell_type": "code",
   "execution_count": 6,
   "id": "6b95efe7",
   "metadata": {},
   "outputs": [
    {
     "data": {
      "text/plain": [
       "[113248, 113248, 113248]"
      ]
     },
     "execution_count": 6,
     "metadata": {},
     "output_type": "execute_result"
    }
   ],
   "source": [
    "# eventually make histograms of which types of events were most frequent for the period\n",
    "\n",
    "\n",
    "n=0\n",
    "test=[]\n",
    "for value in e:\n",
    "    if e[n]==113248:\n",
    "        test.append(e[n])\n",
    "        n=n+1\n",
    "test # why does this not work - because episode id does not increase normally by integer"
   ]
  },
  {
   "cell_type": "code",
   "execution_count": null,
   "id": "12a19e8f",
   "metadata": {},
   "outputs": [],
   "source": [
    "# how many of each event occured at each wfo?\n",
    "\n",
    "\n",
    "\n"
   ]
  },
  {
   "cell_type": "code",
   "execution_count": 7,
   "id": "06a3270f",
   "metadata": {},
   "outputs": [
    {
     "data": {
      "text/plain": [
       "0       113248\n",
       "1       113248\n",
       "2       113248\n",
       "3       113168\n",
       "4       113168\n",
       "         ...  \n",
       "9417    159567\n",
       "9418    159567\n",
       "9419    160498\n",
       "9420    160498\n",
       "9421    160498\n",
       "Name: EPISODE_ID, Length: 9422, dtype: int64"
      ]
     },
     "execution_count": 7,
     "metadata": {},
     "output_type": "execute_result"
    }
   ],
   "source": [
    "episode"
   ]
  },
  {
   "cell_type": "code",
   "execution_count": 8,
   "id": "83edafe1",
   "metadata": {},
   "outputs": [
    {
     "name": "stdout",
     "output_type": "stream",
     "text": [
      "this runs correctly\n"
     ]
    }
   ],
   "source": [
    "n=0\n",
    "BUF=[]\n",
    "OKX=[]\n",
    "ALY=[]\n",
    "BGM=[]\n",
    "BTV=[]\n",
    "for x in w:\n",
    "    if w[n]=='BUF':\n",
    "        BUF.append(w[n])\n",
    "    elif w[n]=='OKX':\n",
    "        OKX.append(w[n])\n",
    "    elif w[n]=='ALY':\n",
    "        ALY.append(w[n])\n",
    "    elif w[n]=='BGM':\n",
    "        BGM.append(w[n])\n",
    "    elif w[n]=='BTV':\n",
    "        BTV.append(w[n])\n",
    "    n=n+1\n",
    "BUF=np.array(BUF)    \n",
    "OKX=np.array(OKX)\n",
    "ALY=np.array(ALY)\n",
    "BGM=np.array(BGM)\n",
    "BTV=np.array(BTV)\n",
    "\n",
    "check=ALY.size+BTV.size+BGM.size+OKX.size+BUF.size==e.size # checks that this adds to the size of the total array\n",
    "if check==True:\n",
    "    print('this runs correctly')"
   ]
  },
  {
   "cell_type": "code",
   "execution_count": 9,
   "id": "a42bf908",
   "metadata": {},
   "outputs": [],
   "source": [
    "i=0\n",
    "for x in BUF:\n",
    "    str(BUF[i])\n",
    "    i=i+1"
   ]
  },
  {
   "cell_type": "code",
   "execution_count": 10,
   "id": "9f743af9",
   "metadata": {},
   "outputs": [],
   "source": [
    "highwind=np.where(c!='High Wind',np.nan,c)\n",
    "winterstorm=np.where(c!='Winter Storm',np.nan,c)\n",
    "flood=np.where(c!='Flood',np.nan,c)\n",
    "tornado=np.where(c!='Tornado',np.nan,c)\n",
    "hail=np.where(c!='Hail',np.nan,c)\n",
    "flashflood=np.where(c!='Flash Flood',np.nan,c)"
   ]
  },
  {
   "cell_type": "code",
   "execution_count": 11,
   "id": "6c1cdcbd",
   "metadata": {},
   "outputs": [
    {
     "data": {
      "text/plain": [
       "array([nan, nan, nan, ..., nan, nan, nan], dtype=object)"
      ]
     },
     "execution_count": 11,
     "metadata": {},
     "output_type": "execute_result"
    }
   ],
   "source": [
    "flashflood"
   ]
  },
  {
   "cell_type": "code",
   "execution_count": 15,
   "id": "d1d07dc7",
   "metadata": {},
   "outputs": [],
   "source": [
    "'Flash Flood' in flashflood"
   ]
  },
  {
   "cell_type": "code",
   "execution_count": 17,
   "id": "c754f10f",
   "metadata": {},
   "outputs": [
    {
     "ename": "UFuncTypeError",
     "evalue": "Cannot cast ufunc 'logical_and' input 1 from dtype('<U3') to dtype('bool') with casting rule 'same_kind'",
     "output_type": "error",
     "traceback": [
      "\u001b[0;31m---------------------------------------------------------------------------\u001b[0m",
      "\u001b[0;31mUFuncTypeError\u001b[0m                            Traceback (most recent call last)",
      "\u001b[0;32m/tmp/ipykernel_30175/1868990809.py\u001b[0m in \u001b[0;36m<module>\u001b[0;34m\u001b[0m\n\u001b[0;32m----> 1\u001b[0;31m \u001b[0mflashfloodbuf\u001b[0m\u001b[0;34m=\u001b[0m\u001b[0mnp\u001b[0m\u001b[0;34m.\u001b[0m\u001b[0mlogical_and\u001b[0m\u001b[0;34m(\u001b[0m\u001b[0mflashflood\u001b[0m\u001b[0;34m==\u001b[0m\u001b[0;34m'Flash Flood'\u001b[0m\u001b[0;34m,\u001b[0m\u001b[0mBUF\u001b[0m\u001b[0;34m)\u001b[0m\u001b[0;34m\u001b[0m\u001b[0;34m\u001b[0m\u001b[0m\n\u001b[0m",
      "\u001b[0;31mUFuncTypeError\u001b[0m: Cannot cast ufunc 'logical_and' input 1 from dtype('<U3') to dtype('bool') with casting rule 'same_kind'"
     ]
    }
   ],
   "source": [
    "flashfloodbuf=np.logical_and(flashflood=='Flash Flood',BUF)"
   ]
  },
  {
   "cell_type": "code",
   "execution_count": null,
   "id": "e08a7e62",
   "metadata": {},
   "outputs": [],
   "source": []
  }
 ],
 "metadata": {
  "kernelspec": {
   "display_name": "Python 3 August 2021 Environment",
   "language": "python",
   "name": "aug21"
  },
  "language_info": {
   "codemirror_mode": {
    "name": "ipython",
    "version": 3
   },
   "file_extension": ".py",
   "mimetype": "text/x-python",
   "name": "python",
   "nbconvert_exporter": "python",
   "pygments_lexer": "ipython3",
   "version": "3.8.10"
  }
 },
 "nbformat": 4,
 "nbformat_minor": 5
}
