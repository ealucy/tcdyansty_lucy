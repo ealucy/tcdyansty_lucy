{
 "cells": [
  {
   "cell_type": "code",
   "execution_count": null,
   "id": "dangerous-disaster",
   "metadata": {},
   "outputs": [],
   "source": [
    "def start_game():\n",
    "    print('meth')\n",
    "    print('pick your meth')\n",
    "    print('a=addition')\n",
    "    print('b=multiplecation')\n",
    "    \n",
    "    choice=input('>')\n",
    "    \n",
    "    if choice=='a':\n",
    "        addition()\n",
    "    elif choice=='b':\n",
    "        multiplecation()\n",
    "    else:\n",
    "        print('no meth')\n",
    "        start_game()\n",
    "def addition():\n",
    "    num1=randint(0,9)\n",
    "    num2=randint(0,9)\n",
    "    print(f'what is {num1} + {num2} ?\\n')\n",
    "    start_game()\n",
    "    \n",
    "    if int(choice)==num1*num2:\n",
    "        print('yes')\n",
    "        start_game()\n",
    "    else:\n",
    "        print('no')\n",
    "        start_game()\n",
    "    \n",
    "def multiplecation():\n",
    "    num1=randint(0,9)\n",
    "    num2=randint(0,9)\n",
    "    print(f'what is {num1} * {num2} ?\\n')\n",
    "    start_game()\n",
    "    \n",
    "    choice=input('>')\n",
    "    \n",
    "    if int(choice)==num1*num2:\n",
    "        print('yes')\n",
    "        start_game()\n",
    "    else:\n",
    "        print('no')\n",
    "        start_game()\n",
    "        \n",
    "        \n",
    "\n",
    "start_game()"
   ]
  },
  {
   "cell_type": "code",
   "execution_count": null,
   "id": "premier-concept",
   "metadata": {},
   "outputs": [],
   "source": []
  },
  {
   "cell_type": "code",
   "execution_count": null,
   "id": "paperback-graham",
   "metadata": {},
   "outputs": [],
   "source": []
  }
 ],
 "metadata": {
  "kernelspec": {
   "display_name": "Python 3 June 2020 Environment",
   "language": "python",
   "name": "jun20"
  },
  "language_info": {
   "codemirror_mode": {
    "name": "ipython",
    "version": 3
   },
   "file_extension": ".py",
   "mimetype": "text/x-python",
   "name": "python",
   "nbconvert_exporter": "python",
   "pygments_lexer": "ipython3",
   "version": "3.7.6"
  }
 },
 "nbformat": 4,
 "nbformat_minor": 5
}
