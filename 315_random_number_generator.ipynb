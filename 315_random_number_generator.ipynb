{
 "cells": [
  {
   "cell_type": "code",
   "execution_count": 9,
   "id": "adult-roads",
   "metadata": {},
   "outputs": [],
   "source": [
    "import numpy as np\n",
    "from matplotlib import pyplot as plt\n",
    "\n",
    "\n",
    "n=1000\n",
    "x1=np.random.uniform(0,10,size=n)\n",
    "x1[0:10]\n",
    "\n",
    "x2=np.random.normal(-5,2,size=n)\n",
    "x3=np.random.binomial(10,0.2,size=n)"
   ]
  },
  {
   "cell_type": "code",
   "execution_count": 13,
   "id": "surprising-vermont",
   "metadata": {},
   "outputs": [
    {
     "data": {
      "text/plain": [
       "(array([100., 113., 109.,  91., 102.,  97.,  96., 109.,  68., 115.]),\n",
       " array([7.02501084e-03, 1.00502962e+00, 2.00303423e+00, 3.00103884e+00,\n",
       "        3.99904345e+00, 4.99704806e+00, 5.99505268e+00, 6.99305729e+00,\n",
       "        7.99106190e+00, 8.98906651e+00, 9.98707112e+00]),\n",
       " <a list of 10 Patch objects>)"
      ]
     },
     "execution_count": 13,
     "metadata": {},
     "output_type": "execute_result"
    },
    {
     "data": {
      "image/png": "[encoded data removed]",
      "text/plain": [
       "<Figure size 576x360 with 1 Axes>"
      ]
     },
     "metadata": {
      "needs_background": "light"
     },
     "output_type": "display_data"
    }
   ],
   "source": [
    "fix, ax = plt.subplots(figsize=(8,5))\n",
    "ax.hist(x1,color=\"gray\")"
   ]
  },
  {
   "cell_type": "code",
   "execution_count": null,
   "id": "blessed-swedish",
   "metadata": {},
   "outputs": [],
   "source": [
    "\n",
    "\n",
    "\n",
    "\n",
    "\n",
    "np.random.randint()"
   ]
  }
 ],
 "metadata": {
  "kernelspec": {
   "display_name": "Python 3 June 2020 Environment",
   "language": "python",
   "name": "jun20"
  },
  "language_info": {
   "codemirror_mode": {
    "name": "ipython",
    "version": 3
   },
   "file_extension": ".py",
   "mimetype": "text/x-python",
   "name": "python",
   "nbconvert_exporter": "python",
   "pygments_lexer": "ipython3",
   "version": "3.7.6"
  }
 },
 "nbformat": 4,
 "nbformat_minor": 5
}
