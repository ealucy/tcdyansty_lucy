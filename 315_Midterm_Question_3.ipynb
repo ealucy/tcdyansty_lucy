{
 "cells": [
  {
   "cell_type": "markdown",
   "id": "novel-citation",
   "metadata": {},
   "source": [
    "Descriptive statistical visualization methods for data analysis, and presentation of data analysis in general, are very important for many reasons. One reason is that it allows for data to be presented in a meaningful way, that can be understood by the viewer. If you can visualize outliers and the center 50% of a given range using a box and whisker plot, you can have a better understanding of the data presented. For example, if you're measuring the number of days that the daily high temperature of a location exceeds the average by a certain amount, and you can see how much a certain day exceeds the average compared to other days, using the interquartile range shown on a box and whisker plot, you can interpret whether a certain value seems to be an anomaly or not. A second reason that descriptive statistics is important is that you can visualize how much a given set of data is spread out around a mean value. You can understand this using variance and standard deviation, and it can be shown using a bell curve. This allows observers and researchers to understand how compact or not compact their data is. Looking at a temperature forecast for two cities close together, a low standard deviation between the two would lead researchers to think that this is reliable data. A final importance of descriptive statistics would be the tendency of data to center around a given value. We use the median and mean to describe this. The average of a set of values is the mean, and the median is the value at the center of the data. A median skewed to a certain side of data on a histogram would indicate that most of the data is on that side, and whether or not that was an expected result can tell us how reliable our data is. We can use histograms, box and whisker plots, or scatter plots, for example, to describe the statistics that we are researching. This can be used in a presentation setting to have viewers visualize data, rather than just be told numbers and percentages. "
   ]
  }
 ],
 "metadata": {
  "kernelspec": {
   "display_name": "Python 3 June 2020 Environment",
   "language": "python",
   "name": "jun20"
  },
  "language_info": {
   "codemirror_mode": {
    "name": "ipython",
    "version": 3
   },
   "file_extension": ".py",
   "mimetype": "text/x-python",
   "name": "python",
   "nbconvert_exporter": "python",
   "pygments_lexer": "ipython3",
   "version": "3.7.6"
  }
 },
 "nbformat": 4,
 "nbformat_minor": 5
}
